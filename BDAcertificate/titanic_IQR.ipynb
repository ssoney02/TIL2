{
 "cells": [
  {
   "cell_type": "markdown",
   "id": "023b64b8",
   "metadata": {},
   "source": [
    "## T1-1. 이상치를 찾아라(IQR 활용)"
   ]
  },
  {
   "cell_type": "code",
   "execution_count": 1,
   "id": "90687372",
   "metadata": {},
   "outputs": [
    {
     "ename": "ModuleNotFoundError",
     "evalue": "No module named 'pandas'",
     "output_type": "error",
     "traceback": [
      "\u001b[1;31m---------------------------------------------------------------------------\u001b[0m",
      "\u001b[1;31mModuleNotFoundError\u001b[0m                       Traceback (most recent call last)",
      "Cell \u001b[1;32mIn[1], line 1\u001b[0m\n\u001b[1;32m----> 1\u001b[0m \u001b[38;5;28;01mimport\u001b[39;00m\u001b[38;5;250m \u001b[39m\u001b[38;5;21;01mpandas\u001b[39;00m\u001b[38;5;250m \u001b[39m\u001b[38;5;28;01mas\u001b[39;00m\u001b[38;5;250m \u001b[39m\u001b[38;5;21;01mpd\u001b[39;00m\n\u001b[0;32m      2\u001b[0m \u001b[38;5;28;01mimport\u001b[39;00m\u001b[38;5;250m \u001b[39m\u001b[38;5;21;01mnumpy\u001b[39;00m\u001b[38;5;250m \u001b[39m\u001b[38;5;28;01mas\u001b[39;00m\u001b[38;5;250m \u001b[39m\u001b[38;5;21;01mnp\u001b[39;00m\n\u001b[0;32m      4\u001b[0m df \u001b[38;5;241m=\u001b[39m pd\u001b[38;5;241m.\u001b[39mread_csv(\u001b[38;5;124m'\u001b[39m\u001b[38;5;124m../input/titanic/train.csv\u001b[39m\u001b[38;5;124m'\u001b[39m)\n",
      "\u001b[1;31mModuleNotFoundError\u001b[0m: No module named 'pandas'"
     ]
    }
   ],
   "source": [
    "import pandas as pd\n",
    "import numpy as np\n",
    "\n",
    "df = pd.read_csv('../input/titanic/train.csv')"
   ]
  },
  {
   "cell_type": "code",
   "execution_count": null,
   "id": "aee02210",
   "metadata": {},
   "outputs": [],
   "source": [
    "# EDA(간단한 탐색적 데이터 분석)\n",
    "print(df.shape)\n",
    "print(df.isnull().sum())\n",
    "df.head()   # 난 이것만 하긴 함.."
   ]
  },
  {
   "cell_type": "code",
   "execution_count": null,
   "id": "733d02ff",
   "metadata": {},
   "outputs": [],
   "source": [
    "Q1 = df['Fare'].quantile(0.25)\n",
    "Q3 = df['Fare'].quantile(0.75)\n",
    "\n",
    "IQR = Q3 - Q1\n",
    "\n",
    "print(Q1, Q3, IQR) # 제출 시엔 쓸데없는 print 지우고 제출하기!!!!"
   ]
  },
  {
   "cell_type": "code",
   "execution_count": null,
   "id": "2bd7cfba",
   "metadata": {},
   "outputs": [],
   "source": [
    "range1 = Q3 + 1.5*IQR\n",
    "range2 = Q1 - 1.5*IQR\n",
    "\n",
    "print(range1, range2)"
   ]
  },
  {
   "cell_type": "code",
   "execution_count": null,
   "id": "d3c44a3d",
   "metadata": {},
   "outputs": [],
   "source": [
    "# 이상치 데이터 구하기\n",
    "data1 = df[df['Fare'] > range1]\n",
    "data2 = df[df['Fare'] < range2]"
   ]
  },
  {
   "cell_type": "code",
   "execution_count": null,
   "id": "ac1b31d4",
   "metadata": {},
   "outputs": [],
   "source": [
    "# 이상치 데이터에서 여성 수 구하기, 출력하기 print\n",
    "cnt1 = len(data1[data1['Sex'] == 'female'])\n",
    "cnt2 = len(data2[data2['Sex'] == 'female'])\n",
    "\n",
    "print(cnt1 + cnt2)"
   ]
  },
  {
   "cell_type": "markdown",
   "id": "5b234258",
   "metadata": {},
   "source": [
    "### 이상적 코드.."
   ]
  },
  {
   "cell_type": "code",
   "execution_count": null,
   "id": "40273ebf",
   "metadata": {},
   "outputs": [],
   "source": [
    "outdata1 = df[df['Fare']<(Q1 - 1.5 * IQR)]\n",
    "outdata2 = df[df['Fare']>(Q3 + 1.5 * IQR)]\n",
    "len(outdata1), len(outdata2)    # 여기서 미리 데이터 구성 확인 (0, 116)\n",
    "# 사실상 outdata1에서는 count 할 필요 자체가 없음.. 조건에 맞는 데이터가 0개니깐.."
   ]
  }
 ],
 "metadata": {
  "kernelspec": {
   "display_name": "Python 3",
   "language": "python",
   "name": "python3"
  },
  "language_info": {
   "codemirror_mode": {
    "name": "ipython",
    "version": 3
   },
   "file_extension": ".py",
   "mimetype": "text/x-python",
   "name": "python",
   "nbconvert_exporter": "python",
   "pygments_lexer": "ipython3",
   "version": "3.9.12"
  }
 },
 "nbformat": 4,
 "nbformat_minor": 5
}
