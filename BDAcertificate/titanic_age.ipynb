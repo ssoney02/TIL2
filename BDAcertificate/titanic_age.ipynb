{
 "cells": [
  {
   "cell_type": "markdown",
   "id": "0c82dde2",
   "metadata": {},
   "source": [
    "주어진 데이터에서 이상치(소수점 나이)를 찾고 올림, 내림, 버림(절사) 했을 때\n",
    "3가지 모두 이상치 'age' 평균을 구한 다음 모두 더하여 출력하시오"
   ]
  },
  {
   "cell_type": "code",
   "execution_count": null,
   "id": "6c609445",
   "metadata": {
    "vscode": {
     "languageId": "plaintext"
    }
   },
   "outputs": [],
   "source": [
    "# 라이브러리 및 데이터 불러오기\n",
    "import pandas as pd\n",
    "import numpy as np\n",
    "\n",
    "df = pd.read_csv('../input/bigdatacertificationkr/basic1.csv')\n",
    "\n",
    "df.head()"
   ]
  },
  {
   "cell_type": "code",
   "execution_count": null,
   "id": "a27c3c40",
   "metadata": {
    "vscode": {
     "languageId": "plaintext"
    }
   },
   "outputs": [],
   "source": [
    "# 소수점 데이터 찾기\n",
    "outrange = df[df['age'] != np.trunc(df['age'])]\n",
    "\n",
    "outrange\n"
   ]
  },
  {
   "cell_type": "code",
   "execution_count": null,
   "id": "0c08dddb",
   "metadata": {
    "vscode": {
     "languageId": "plaintext"
    }
   },
   "outputs": [],
   "source": [
    "# 이상치를 포함한 데이터 올림, 내림, 버림의 평균값 \n",
    "\n",
    "ceil = np.ceil(outrange['age']).mean()\n",
    "floor = np.floor(outrange['age']).mean()\n",
    "trunc = np.trunc(outrange['age'].mean())\n",
    "\n",
    "print(ceil, floor, trunc)"
   ]
  },
  {
   "cell_type": "code",
   "execution_count": null,
   "id": "dec40ac5",
   "metadata": {
    "vscode": {
     "languageId": "plaintext"
    }
   },
   "outputs": [],
   "source": [
    "# 이상치를 포함한 데이터 올림, 내림, 버림의 평균값 \n",
    "\n",
    "ceil = np.ceil(outrange['age']).mean()\n",
    "floor = np.floor(outrange['age']).mean()\n",
    "trunc = np.trunc(outrange['age'].mean())\n",
    "\n",
    "print(ceil, floor, trunc)"
   ]
  },
  {
   "cell_type": "markdown",
   "id": "8410b150",
   "metadata": {},
   "source": [
    "## 해설\n",
    "+ 내림 vs 버림\n",
    "-5.5 -> 내림: -6, 버림: -5"
   ]
  },
  {
   "cell_type": "code",
   "execution_count": null,
   "id": "bb2565b4",
   "metadata": {
    "vscode": {
     "languageId": "plaintext"
    }
   },
   "outputs": [],
   "source": [
    "# 라이브러리 및 데이터 불러오기\n",
    "import pandas as pd\n",
    "import numpy as np\n",
    "\n",
    "df = pd.read_csv('../input/bigdatacertificationkr/basic1.csv')\n",
    "df.head()"
   ]
  },
  {
   "cell_type": "code",
   "execution_count": null,
   "id": "fc95ddf3",
   "metadata": {
    "vscode": {
     "languageId": "plaintext"
    }
   },
   "outputs": [],
   "source": [
    "# 소수점 데이터 찾기\n",
    "df = df[(df['age']-np.floor(df['age']))!= 0]\n",
    "df"
   ]
  },
  {
   "cell_type": "code",
   "execution_count": null,
   "id": "4ee88b48",
   "metadata": {
    "vscode": {
     "languageId": "plaintext"
    }
   },
   "outputs": [],
   "source": [
    "# 이상치를 포함한 데이터 올림, 내림, 버림의 평균값 \n",
    "\n",
    "# 올림\n",
    "m_ceil = np.ceil(df['age']).mean()\n",
    "\n",
    "# 내림\n",
    "m_floor = np.floor(df['age']).mean()\n",
    "\n",
    "# 버림\n",
    "m_trunc = np.trunc(df['age']).mean()\n",
    "\n",
    "m_ceil, m_floor, m_trunc"
   ]
  },
  {
   "cell_type": "code",
   "execution_count": null,
   "id": "f67c5124",
   "metadata": {
    "vscode": {
     "languageId": "plaintext"
    }
   },
   "outputs": [],
   "source": [
    "# 평균값 더한 다음 출력\n",
    "print(m_ceil + m_floor + m_trunc)"
   ]
  }
 ],
 "metadata": {
  "language_info": {
   "name": "python"
  }
 },
 "nbformat": 4,
 "nbformat_minor": 5
}
