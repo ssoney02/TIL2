{
 "cells": [
  {
   "cell_type": "markdown",
   "id": "7be910ea-8757-45a6-a0fa-7dd9bfeb550a",
   "metadata": {},
   "source": [
    "### 작업 1 유형"
   ]
  },
  {
   "cell_type": "code",
   "execution_count": 1,
   "id": "e0e00276-c904-4864-b50b-bab001d8eae3",
   "metadata": {},
   "outputs": [
    {
     "data": {
      "text/html": [
       "<div>\n",
       "<style scoped>\n",
       "    .dataframe tbody tr th:only-of-type {\n",
       "        vertical-align: middle;\n",
       "    }\n",
       "\n",
       "    .dataframe tbody tr th {\n",
       "        vertical-align: top;\n",
       "    }\n",
       "\n",
       "    .dataframe thead th {\n",
       "        text-align: right;\n",
       "    }\n",
       "</style>\n",
       "<table border=\"1\" class=\"dataframe\">\n",
       "  <thead>\n",
       "    <tr style=\"text-align: right;\">\n",
       "      <th></th>\n",
       "      <th>ID</th>\n",
       "      <th>age</th>\n",
       "      <th>job</th>\n",
       "      <th>marital</th>\n",
       "      <th>education</th>\n",
       "      <th>default</th>\n",
       "      <th>balance</th>\n",
       "      <th>housing</th>\n",
       "      <th>loan</th>\n",
       "      <th>contact</th>\n",
       "      <th>day</th>\n",
       "      <th>month</th>\n",
       "      <th>campaign</th>\n",
       "      <th>pdays</th>\n",
       "      <th>previous</th>\n",
       "      <th>poutcome</th>\n",
       "      <th>y</th>\n",
       "    </tr>\n",
       "  </thead>\n",
       "  <tbody>\n",
       "    <tr>\n",
       "      <th>0</th>\n",
       "      <td>13829</td>\n",
       "      <td>29</td>\n",
       "      <td>technician</td>\n",
       "      <td>single</td>\n",
       "      <td>tertiary</td>\n",
       "      <td>no</td>\n",
       "      <td>18254</td>\n",
       "      <td>no</td>\n",
       "      <td>no</td>\n",
       "      <td>cellular</td>\n",
       "      <td>11</td>\n",
       "      <td>may</td>\n",
       "      <td>2</td>\n",
       "      <td>-1</td>\n",
       "      <td>0</td>\n",
       "      <td>unknown</td>\n",
       "      <td>no</td>\n",
       "    </tr>\n",
       "    <tr>\n",
       "      <th>1</th>\n",
       "      <td>22677</td>\n",
       "      <td>26</td>\n",
       "      <td>services</td>\n",
       "      <td>single</td>\n",
       "      <td>secondary</td>\n",
       "      <td>no</td>\n",
       "      <td>512</td>\n",
       "      <td>yes</td>\n",
       "      <td>yes</td>\n",
       "      <td>unknown</td>\n",
       "      <td>5</td>\n",
       "      <td>jun</td>\n",
       "      <td>3</td>\n",
       "      <td>-1</td>\n",
       "      <td>0</td>\n",
       "      <td>unknown</td>\n",
       "      <td>no</td>\n",
       "    </tr>\n",
       "    <tr>\n",
       "      <th>2</th>\n",
       "      <td>10541</td>\n",
       "      <td>30</td>\n",
       "      <td>management</td>\n",
       "      <td>single</td>\n",
       "      <td>secondary</td>\n",
       "      <td>no</td>\n",
       "      <td>135</td>\n",
       "      <td>no</td>\n",
       "      <td>no</td>\n",
       "      <td>cellular</td>\n",
       "      <td>14</td>\n",
       "      <td>aug</td>\n",
       "      <td>2</td>\n",
       "      <td>-1</td>\n",
       "      <td>0</td>\n",
       "      <td>unknown</td>\n",
       "      <td>no</td>\n",
       "    </tr>\n",
       "    <tr>\n",
       "      <th>3</th>\n",
       "      <td>13689</td>\n",
       "      <td>41</td>\n",
       "      <td>technician</td>\n",
       "      <td>married</td>\n",
       "      <td>unknown</td>\n",
       "      <td>no</td>\n",
       "      <td>30</td>\n",
       "      <td>yes</td>\n",
       "      <td>no</td>\n",
       "      <td>cellular</td>\n",
       "      <td>10</td>\n",
       "      <td>jul</td>\n",
       "      <td>1</td>\n",
       "      <td>-1</td>\n",
       "      <td>0</td>\n",
       "      <td>unknown</td>\n",
       "      <td>no</td>\n",
       "    </tr>\n",
       "    <tr>\n",
       "      <th>4</th>\n",
       "      <td>11304</td>\n",
       "      <td>27</td>\n",
       "      <td>admin.</td>\n",
       "      <td>single</td>\n",
       "      <td>secondary</td>\n",
       "      <td>no</td>\n",
       "      <td>321</td>\n",
       "      <td>no</td>\n",
       "      <td>yes</td>\n",
       "      <td>unknown</td>\n",
       "      <td>2</td>\n",
       "      <td>sep</td>\n",
       "      <td>1</td>\n",
       "      <td>-1</td>\n",
       "      <td>0</td>\n",
       "      <td>unknown</td>\n",
       "      <td>no</td>\n",
       "    </tr>\n",
       "  </tbody>\n",
       "</table>\n",
       "</div>"
      ],
      "text/plain": [
       "      ID  age         job  marital  education default  balance housing loan  \\\n",
       "0  13829   29  technician   single   tertiary      no    18254      no   no   \n",
       "1  22677   26    services   single  secondary      no      512     yes  yes   \n",
       "2  10541   30  management   single  secondary      no      135      no   no   \n",
       "3  13689   41  technician  married    unknown      no       30     yes   no   \n",
       "4  11304   27      admin.   single  secondary      no      321      no  yes   \n",
       "\n",
       "    contact  day month  campaign  pdays  previous poutcome   y  \n",
       "0  cellular   11   may         2     -1         0  unknown  no  \n",
       "1   unknown    5   jun         3     -1         0  unknown  no  \n",
       "2  cellular   14   aug         2     -1         0  unknown  no  \n",
       "3  cellular   10   jul         1     -1         0  unknown  no  \n",
       "4   unknown    2   sep         1     -1         0  unknown  no  "
      ]
     },
     "execution_count": 1,
     "metadata": {},
     "output_type": "execute_result"
    }
   ],
   "source": [
    "import pandas as pd\n",
    "df = pd.read_csv('https://raw.githubusercontent.com/Datamanim/datarepo/main/bank/train.csv')\n",
    "df.head()"
   ]
  },
  {
   "cell_type": "code",
   "execution_count": 15,
   "id": "16c54ab8-0e1c-482e-b213-d28f4be509db",
   "metadata": {},
   "outputs": [
    {
     "data": {
      "text/plain": [
       "array(['no', 'yes'], dtype=object)"
      ]
     },
     "execution_count": 15,
     "metadata": {},
     "output_type": "execute_result"
    }
   ],
   "source": [
    "df['y'].unique()"
   ]
  },
  {
   "cell_type": "markdown",
   "id": "509584c7-8384-4fde-bfb4-38e7b9407e3d",
   "metadata": {},
   "source": [
    "### Q1 마케팅 응답 고객들의 나이를 10살 단위로 변환 했을 때, 가장 많은 인원을 가진 나이대는? (0~9 : 0 , 10 ~ 19 : 10)"
   ]
  },
  {
   "cell_type": "code",
   "execution_count": 12,
   "id": "2055633d-eeef-41ff-af39-e6c7aef82a36",
   "metadata": {},
   "outputs": [
    {
     "name": "stdout",
     "output_type": "stream",
     "text": [
      "age\n",
      "30    5056\n",
      "40    3198\n",
      "50    2244\n",
      "20    1638\n",
      "60     460\n",
      "70     193\n",
      "80      57\n",
      "10      18\n",
      "90       6\n",
      "Name: count, dtype: int64\n"
     ]
    }
   ],
   "source": [
    "# df.age를 나이대로 변경하고\n",
    "# value_counts(): 각 나이대 몇 명있는지 개수 카운트 => 내림차순으로 정렬된 series 반환\n",
    "res = (df.age // 10 * 10).value_counts()\n",
    "print(res)"
   ]
  },
  {
   "cell_type": "markdown",
   "id": "859e519c-4879-4450-9b39-9f8f9a39c202",
   "metadata": {},
   "source": [
    "### Q2. 마케팅 응답 고객들의 나이를 10살 단위로 변환 했을 때, 가장 많은 나이대 구간의 인원은 몇명인가?"
   ]
  },
  {
   "cell_type": "code",
   "execution_count": 27,
   "id": "f291f279-7420-4131-a469-ff40cd080992",
   "metadata": {},
   "outputs": [
    {
     "name": "stdout",
     "output_type": "stream",
     "text": [
      "5056\n"
     ]
    }
   ],
   "source": [
    "# df가 마케팅 응답 고객 데이터...\n",
    "res = (df.age // 10 * 10).value_counts().values[0]\n",
    "print(res)\n",
    "# target = df[df['y'] == 'yes'].age\n",
    "# res = (target // 10 * 10).value_counts()\n",
    "# print(res)"
   ]
  },
  {
   "cell_type": "markdown",
   "id": "2243059e-1a1b-4dd8-aa2f-033e6c72c25b",
   "metadata": {},
   "source": [
    "### Q3. 나이가 25살 이상 29살 미만인 응답 고객들중 housing컬럼의 값이 yes인 고객의 수는?"
   ]
  },
  {
   "cell_type": "code",
   "execution_count": 32,
   "id": "0de8f0ad-efb9-4039-868b-13e1494c42d7",
   "metadata": {},
   "outputs": [
    {
     "name": "stdout",
     "output_type": "stream",
     "text": [
      "504\n"
     ]
    }
   ],
   "source": [
    "target = df[(25 <= df.age) & (df.age < 29)].housing\n",
    "res = target[target.values == 'yes']\n",
    "print(len(res))"
   ]
  },
  {
   "cell_type": "code",
   "execution_count": 33,
   "id": "15d42f9d-b90d-461c-a359-b72e8a679a9d",
   "metadata": {},
   "outputs": [
    {
     "name": "stdout",
     "output_type": "stream",
     "text": [
      "504\n"
     ]
    }
   ],
   "source": [
    "# 모범답안..\n",
    "res = df[(df.age >= 25) & (df.age < 29) & (df.housing=='yes')].shape[0]\n",
    "print(res)"
   ]
  },
  {
   "cell_type": "markdown",
   "id": "080d692e-9a88-4d9d-af23-326090fe476a",
   "metadata": {},
   "source": [
    "### Q4. numeric한 값을 가지지 않은 컬럼들중 unique한 값을 가장 많이 가지는 컬럼은?"
   ]
  },
  {
   "cell_type": "code",
   "execution_count": 61,
   "id": "3b81e1ea-e24d-4d29-9c09-11971a49f71c",
   "metadata": {},
   "outputs": [
    {
     "data": {
      "text/html": [
       "<div>\n",
       "<style scoped>\n",
       "    .dataframe tbody tr th:only-of-type {\n",
       "        vertical-align: middle;\n",
       "    }\n",
       "\n",
       "    .dataframe tbody tr th {\n",
       "        vertical-align: top;\n",
       "    }\n",
       "\n",
       "    .dataframe thead th {\n",
       "        text-align: right;\n",
       "    }\n",
       "</style>\n",
       "<table border=\"1\" class=\"dataframe\">\n",
       "  <thead>\n",
       "    <tr style=\"text-align: right;\">\n",
       "      <th></th>\n",
       "      <th>ID</th>\n",
       "      <th>age</th>\n",
       "      <th>balance</th>\n",
       "      <th>day</th>\n",
       "      <th>campaign</th>\n",
       "      <th>pdays</th>\n",
       "      <th>previous</th>\n",
       "    </tr>\n",
       "  </thead>\n",
       "  <tbody>\n",
       "    <tr>\n",
       "      <th>count</th>\n",
       "      <td>12870.000000</td>\n",
       "      <td>12870.000000</td>\n",
       "      <td>12870.000000</td>\n",
       "      <td>12870.000000</td>\n",
       "      <td>12870.000000</td>\n",
       "      <td>12870.000000</td>\n",
       "      <td>12870.000000</td>\n",
       "    </tr>\n",
       "    <tr>\n",
       "      <th>mean</th>\n",
       "      <td>16434.500000</td>\n",
       "      <td>41.091142</td>\n",
       "      <td>1483.774437</td>\n",
       "      <td>15.641103</td>\n",
       "      <td>2.659130</td>\n",
       "      <td>45.555478</td>\n",
       "      <td>0.688967</td>\n",
       "    </tr>\n",
       "    <tr>\n",
       "      <th>std</th>\n",
       "      <td>3715.393317</td>\n",
       "      <td>11.305560</td>\n",
       "      <td>3311.055181</td>\n",
       "      <td>8.368983</td>\n",
       "      <td>2.863507</td>\n",
       "      <td>104.449411</td>\n",
       "      <td>2.049696</td>\n",
       "    </tr>\n",
       "    <tr>\n",
       "      <th>min</th>\n",
       "      <td>10000.000000</td>\n",
       "      <td>18.000000</td>\n",
       "      <td>-6847.000000</td>\n",
       "      <td>1.000000</td>\n",
       "      <td>1.000000</td>\n",
       "      <td>-1.000000</td>\n",
       "      <td>0.000000</td>\n",
       "    </tr>\n",
       "    <tr>\n",
       "      <th>25%</th>\n",
       "      <td>13217.250000</td>\n",
       "      <td>32.000000</td>\n",
       "      <td>102.000000</td>\n",
       "      <td>8.000000</td>\n",
       "      <td>1.000000</td>\n",
       "      <td>-1.000000</td>\n",
       "      <td>0.000000</td>\n",
       "    </tr>\n",
       "    <tr>\n",
       "      <th>50%</th>\n",
       "      <td>16434.500000</td>\n",
       "      <td>39.000000</td>\n",
       "      <td>515.000000</td>\n",
       "      <td>16.000000</td>\n",
       "      <td>2.000000</td>\n",
       "      <td>-1.000000</td>\n",
       "      <td>0.000000</td>\n",
       "    </tr>\n",
       "    <tr>\n",
       "      <th>75%</th>\n",
       "      <td>19651.750000</td>\n",
       "      <td>49.000000</td>\n",
       "      <td>1591.750000</td>\n",
       "      <td>21.000000</td>\n",
       "      <td>3.000000</td>\n",
       "      <td>-1.000000</td>\n",
       "      <td>0.000000</td>\n",
       "    </tr>\n",
       "    <tr>\n",
       "      <th>max</th>\n",
       "      <td>22869.000000</td>\n",
       "      <td>95.000000</td>\n",
       "      <td>102127.000000</td>\n",
       "      <td>31.000000</td>\n",
       "      <td>43.000000</td>\n",
       "      <td>854.000000</td>\n",
       "      <td>58.000000</td>\n",
       "    </tr>\n",
       "  </tbody>\n",
       "</table>\n",
       "</div>"
      ],
      "text/plain": [
       "                 ID           age        balance           day      campaign  \\\n",
       "count  12870.000000  12870.000000   12870.000000  12870.000000  12870.000000   \n",
       "mean   16434.500000     41.091142    1483.774437     15.641103      2.659130   \n",
       "std     3715.393317     11.305560    3311.055181      8.368983      2.863507   \n",
       "min    10000.000000     18.000000   -6847.000000      1.000000      1.000000   \n",
       "25%    13217.250000     32.000000     102.000000      8.000000      1.000000   \n",
       "50%    16434.500000     39.000000     515.000000     16.000000      2.000000   \n",
       "75%    19651.750000     49.000000    1591.750000     21.000000      3.000000   \n",
       "max    22869.000000     95.000000  102127.000000     31.000000     43.000000   \n",
       "\n",
       "              pdays      previous  \n",
       "count  12870.000000  12870.000000  \n",
       "mean      45.555478      0.688967  \n",
       "std      104.449411      2.049696  \n",
       "min       -1.000000      0.000000  \n",
       "25%       -1.000000      0.000000  \n",
       "50%       -1.000000      0.000000  \n",
       "75%       -1.000000      0.000000  \n",
       "max      854.000000     58.000000  "
      ]
     },
     "execution_count": 61,
     "metadata": {},
     "output_type": "execute_result"
    }
   ],
   "source": [
    "df.describe()"
   ]
  },
  {
   "cell_type": "code",
   "execution_count": 40,
   "id": "9c93349e-e759-4285-a3f4-96535e579923",
   "metadata": {},
   "outputs": [
    {
     "name": "stdout",
     "output_type": "stream",
     "text": [
      "12\n"
     ]
    }
   ],
   "source": [
    "# 노가다..\n",
    "res = df.job.unique()\n",
    "print(len(res))"
   ]
  },
  {
   "cell_type": "code",
   "execution_count": 42,
   "id": "6ab28404-ae67-4905-9a69-d9f338c52153",
   "metadata": {},
   "outputs": [
    {
     "name": "stdout",
     "output_type": "stream",
     "text": [
      "['job' 'month']\n"
     ]
    }
   ],
   "source": [
    "# 모범답안\n",
    "lst= [] \n",
    "for col in df.select_dtypes(exclude='int'):\n",
    "    target = df[col]\n",
    "    lst.append([col,target.nunique()])\n",
    "\n",
    "dfs  = pd.DataFrame(lst).sort_values(1,ascending=False)\n",
    "result = dfs[dfs[1] ==dfs[1].max()][0].values\n",
    "print(result)"
   ]
  },
  {
   "cell_type": "markdown",
   "id": "aa31614c-80c9-43e7-9ed9-017a8337ae3b",
   "metadata": {},
   "source": [
    "### Q5.balance 컬럼값들의 평균값 이상을 가지는 데이터를 ID값을 기준으로 내림차순 정렬했을때 상위 100개 데이터의 balance값의 평균은?"
   ]
  },
  {
   "cell_type": "code",
   "execution_count": 54,
   "id": "5421fd01-8a98-465d-bae8-5a3bb04690b2",
   "metadata": {},
   "outputs": [
    {
     "name": "stdout",
     "output_type": "stream",
     "text": [
      "3473.73\n"
     ]
    }
   ],
   "source": [
    "m = (df.balance).mean()\n",
    "target = df[df.balance >= m]\n",
    "res = target.sort_values('ID', ascending=False)\n",
    "res2 = res.iloc[:100, :]\n",
    "print(res2.balance.mean())"
   ]
  },
  {
   "cell_type": "code",
   "execution_count": 55,
   "id": "a00aa5eb-22f7-494d-b255-e456db48fd10",
   "metadata": {},
   "outputs": [
    {
     "name": "stdout",
     "output_type": "stream",
     "text": [
      "3473.73\n"
     ]
    }
   ],
   "source": [
    "# 모범답안\n",
    "res = df[df.balance >= df.balance.mean()].sort_values('ID',ascending=False).head(100).balance.mean()\n",
    "print(res)"
   ]
  },
  {
   "cell_type": "markdown",
   "id": "49dea2fa-137b-4e42-b549-9be616408e92",
   "metadata": {},
   "source": [
    "### Q6.가장 많은 광고를 집행했던 날짜는 언제인가? (데이터 그대로 일(숫자),달(영문)으로 표기)"
   ]
  },
  {
   "cell_type": "markdown",
   "id": "f4091521-12a6-4cd1-a003-f14f98fb97a2",
   "metadata": {},
   "source": [
    "- 날짜 기준 value_counts() 해서 max 값 반환"
   ]
  },
  {
   "cell_type": "code",
   "execution_count": 67,
   "id": "08e99d1c-78f4-478f-a56c-dbf328fbe2b0",
   "metadata": {},
   "outputs": [
    {
     "name": "stdout",
     "output_type": "stream",
     "text": [
      "(15, 'may')\n"
     ]
    }
   ],
   "source": [
    "target = df[['day', 'month']].value_counts()\n",
    "print(target.index[0])"
   ]
  },
  {
   "cell_type": "markdown",
   "id": "59748bd4-2315-4167-81b9-0ef89d048530",
   "metadata": {},
   "source": [
    "### Q7. 데이터의 job이 unknown 상태인 고객들의 age 컬럼 값의 정규성을 검정하고자 한다. 샤피로 검정의 p-value값을 구하여라"
   ]
  },
  {
   "cell_type": "code",
   "execution_count": null,
   "id": "bdb708bc-e952-4198-9ae2-344bcf5d8b7a",
   "metadata": {},
   "outputs": [],
   "source": [
    "# df.job == uknown\n",
    "target = df[df.job == 'unknown']\n",
    "from scipy.stats import shapiro\n",
    "print(shapiro(target.age)[1])"
   ]
  },
  {
   "cell_type": "markdown",
   "id": "3546f337-aed1-44b2-a575-f54a114a267f",
   "metadata": {},
   "source": [
    "### !!!! Q8. age와 balance의 **상관계수**를 구하여라"
   ]
  },
  {
   "cell_type": "markdown",
   "id": "80a1eedd-cc7f-41fa-a4ea-774b41f06cfb",
   "metadata": {},
   "source": [
    "**.corr()** : 수치형 변수들 간의 선형 상관관계(피어슨 상관계수) 계산"
   ]
  },
  {
   "cell_type": "code",
   "execution_count": 75,
   "id": "6d282f15-4d9f-47ed-a9b3-803cf3c8c39a",
   "metadata": {},
   "outputs": [
    {
     "name": "stdout",
     "output_type": "stream",
     "text": [
      "              age   balance\n",
      "age      1.000000  0.101987\n",
      "balance  0.101987  1.000000\n"
     ]
    }
   ],
   "source": [
    "res = df[['age', 'balance']].corr()\n",
    "print(res)"
   ]
  },
  {
   "cell_type": "code",
   "execution_count": 77,
   "id": "e565d808-3109-4cdf-8964-bcae6c97208e",
   "metadata": {},
   "outputs": [
    {
     "name": "stdout",
     "output_type": "stream",
     "text": [
      "0.10198734763981461\n"
     ]
    }
   ],
   "source": [
    "# 모범답안\n",
    "res = df[['age','balance']].corr().iloc[0,1]\n",
    "print(res)"
   ]
  },
  {
   "cell_type": "markdown",
   "id": "5307432c-5006-48e4-886a-6fcbf66d05aa",
   "metadata": {},
   "source": [
    "### Q9. y 변수와 education 변수는 독립인지 카이제곱검정을 통해 확인하려한다. p-value값을 출력하라"
   ]
  },
  {
   "cell_type": "code",
   "execution_count": 85,
   "id": "7092ebd5-b8ce-4da9-af19-bd0064fc1ce3",
   "metadata": {},
   "outputs": [
    {
     "name": "stdout",
     "output_type": "stream",
     "text": [
      "education  primary  secondary  tertiary  unknown\n",
      "y                                               \n",
      "no            1424       4555      2559      365\n",
      "yes            456       1813      1516      182\n",
      "7.901201277473555e-29\n"
     ]
    }
   ],
   "source": [
    "# 정규성 검정\n",
    "# 등분산성 검정\n",
    "# 둘다 유의하면 카이제곱 검정??\n",
    "\n",
    "from scipy.stats import chi2_contingency\n",
    "# 인코딩 필요..\n",
    "# 두 범주형 변수의 교차표를 만드는 함수!! : pd.crosstab\n",
    "tar = pd.crosstab(df['y'],df['education'])\n",
    "print(tar)\n",
    "# 모집단이 두 개의 변수에 의해 범주화 되었음!! => chi2_contingency 사용\n",
    "print(chi2_contingency(tar)[1])"
   ]
  },
  {
   "cell_type": "markdown",
   "id": "6395d8be-e933-40b6-824c-bb5f76e285a0",
   "metadata": {},
   "source": [
    "### Q10. 각 job에 따라 divorced/married 인원의 비율을 확인 했을 때 그 값이 가장 높은 값은?"
   ]
  },
  {
   "cell_type": "code",
   "execution_count": 114,
   "id": "b42f5894-904f-42ff-865a-2dc3c4e1503d",
   "metadata": {},
   "outputs": [
    {
     "name": "stdout",
     "output_type": "stream",
     "text": [
      "marital        divorced  married  single\n",
      "job                                     \n",
      "admin.            207.0    762.0   495.0\n",
      "blue-collar       205.0   1775.0   591.0\n",
      "entrepreneur       44.0    272.0    67.0\n",
      "housemaid          49.0    245.0    40.0\n",
      "management        323.0   1580.0   955.0\n",
      "retired           157.0    572.0    41.0\n",
      "self-employed      39.0    284.0   131.0\n",
      "services          138.0    584.0   321.0\n",
      "student             0.0     24.0   334.0\n",
      "technician        246.0   1115.0   780.0\n",
      "unemployed         62.0    219.0   133.0\n",
      "unknown             5.0     58.0    17.0\n",
      "0.2831050228310502\n"
     ]
    },
    {
     "name": "stderr",
     "output_type": "stream",
     "text": [
      "/var/folders/wm/x6pc4kss2pq5vy_73n02wdqc0000gn/T/ipykernel_82933/2022894509.py:8: FutureWarning: Series.__getitem__ treating keys as positions is deprecated. In a future version, integer keys will always be treated as labels (consistent with DataFrame behavior). To access a value by position, use `ser.iloc[pos]`\n",
      "  print(res.ratio[0])\n"
     ]
    }
   ],
   "source": [
    "tar = df.groupby(['job', 'marital']).size().reset_index()\n",
    "# print(tar)\n",
    "\n",
    "pivotdf = tar.pivot_table(index='job', columns='marital')[0].fillna(0)\n",
    "print(pivotdf)\n",
    "pivotdf['ratio'] = pivotdf['divorced'] / pivotdf['married']\n",
    "res = pivotdf.sort_values('ratio', ascending=False)\n",
    "print(res.ratio[0])\n",
    "# res = tar.groupby('job').pivot_table(index='job', columns='marital', values='size')\n",
    "# res = tar.groupby('job').marital.value_counts().to_frame()\n",
    "# print(res)\n",
    "# t = res.reset_index().pivot(index='job', columns='marital', values = 'count')\n",
    "# print(t)\n",
    "# total = t.divorced / t.married\n",
    "# print(total)"
   ]
  },
  {
   "cell_type": "markdown",
   "id": "fb34962d-c28a-4cfa-ad7f-9b80f405787f",
   "metadata": {},
   "source": [
    "# 작업 2유형"
   ]
  },
  {
   "cell_type": "code",
   "execution_count": 122,
   "id": "3b81f69e-761e-4d28-b1c5-442185500eca",
   "metadata": {},
   "outputs": [
    {
     "data": {
      "text/html": [
       "<div>\n",
       "<style scoped>\n",
       "    .dataframe tbody tr th:only-of-type {\n",
       "        vertical-align: middle;\n",
       "    }\n",
       "\n",
       "    .dataframe tbody tr th {\n",
       "        vertical-align: top;\n",
       "    }\n",
       "\n",
       "    .dataframe thead th {\n",
       "        text-align: right;\n",
       "    }\n",
       "</style>\n",
       "<table border=\"1\" class=\"dataframe\">\n",
       "  <thead>\n",
       "    <tr style=\"text-align: right;\">\n",
       "      <th></th>\n",
       "      <th>ID</th>\n",
       "      <th>age</th>\n",
       "      <th>job</th>\n",
       "      <th>marital</th>\n",
       "      <th>education</th>\n",
       "      <th>default</th>\n",
       "      <th>balance</th>\n",
       "      <th>housing</th>\n",
       "      <th>loan</th>\n",
       "      <th>contact</th>\n",
       "      <th>day</th>\n",
       "      <th>month</th>\n",
       "      <th>campaign</th>\n",
       "      <th>pdays</th>\n",
       "      <th>previous</th>\n",
       "      <th>poutcome</th>\n",
       "      <th>y</th>\n",
       "    </tr>\n",
       "  </thead>\n",
       "  <tbody>\n",
       "    <tr>\n",
       "      <th>0</th>\n",
       "      <td>13829</td>\n",
       "      <td>29</td>\n",
       "      <td>technician</td>\n",
       "      <td>single</td>\n",
       "      <td>tertiary</td>\n",
       "      <td>no</td>\n",
       "      <td>18254</td>\n",
       "      <td>no</td>\n",
       "      <td>no</td>\n",
       "      <td>cellular</td>\n",
       "      <td>11</td>\n",
       "      <td>may</td>\n",
       "      <td>2</td>\n",
       "      <td>-1</td>\n",
       "      <td>0</td>\n",
       "      <td>unknown</td>\n",
       "      <td>no</td>\n",
       "    </tr>\n",
       "    <tr>\n",
       "      <th>1</th>\n",
       "      <td>22677</td>\n",
       "      <td>26</td>\n",
       "      <td>services</td>\n",
       "      <td>single</td>\n",
       "      <td>secondary</td>\n",
       "      <td>no</td>\n",
       "      <td>512</td>\n",
       "      <td>yes</td>\n",
       "      <td>yes</td>\n",
       "      <td>unknown</td>\n",
       "      <td>5</td>\n",
       "      <td>jun</td>\n",
       "      <td>3</td>\n",
       "      <td>-1</td>\n",
       "      <td>0</td>\n",
       "      <td>unknown</td>\n",
       "      <td>no</td>\n",
       "    </tr>\n",
       "    <tr>\n",
       "      <th>2</th>\n",
       "      <td>10541</td>\n",
       "      <td>30</td>\n",
       "      <td>management</td>\n",
       "      <td>single</td>\n",
       "      <td>secondary</td>\n",
       "      <td>no</td>\n",
       "      <td>135</td>\n",
       "      <td>no</td>\n",
       "      <td>no</td>\n",
       "      <td>cellular</td>\n",
       "      <td>14</td>\n",
       "      <td>aug</td>\n",
       "      <td>2</td>\n",
       "      <td>-1</td>\n",
       "      <td>0</td>\n",
       "      <td>unknown</td>\n",
       "      <td>no</td>\n",
       "    </tr>\n",
       "    <tr>\n",
       "      <th>3</th>\n",
       "      <td>13689</td>\n",
       "      <td>41</td>\n",
       "      <td>technician</td>\n",
       "      <td>married</td>\n",
       "      <td>unknown</td>\n",
       "      <td>no</td>\n",
       "      <td>30</td>\n",
       "      <td>yes</td>\n",
       "      <td>no</td>\n",
       "      <td>cellular</td>\n",
       "      <td>10</td>\n",
       "      <td>jul</td>\n",
       "      <td>1</td>\n",
       "      <td>-1</td>\n",
       "      <td>0</td>\n",
       "      <td>unknown</td>\n",
       "      <td>no</td>\n",
       "    </tr>\n",
       "    <tr>\n",
       "      <th>4</th>\n",
       "      <td>11304</td>\n",
       "      <td>27</td>\n",
       "      <td>admin.</td>\n",
       "      <td>single</td>\n",
       "      <td>secondary</td>\n",
       "      <td>no</td>\n",
       "      <td>321</td>\n",
       "      <td>no</td>\n",
       "      <td>yes</td>\n",
       "      <td>unknown</td>\n",
       "      <td>2</td>\n",
       "      <td>sep</td>\n",
       "      <td>1</td>\n",
       "      <td>-1</td>\n",
       "      <td>0</td>\n",
       "      <td>unknown</td>\n",
       "      <td>no</td>\n",
       "    </tr>\n",
       "  </tbody>\n",
       "</table>\n",
       "</div>"
      ],
      "text/plain": [
       "      ID  age         job  marital  education default  balance housing loan  \\\n",
       "0  13829   29  technician   single   tertiary      no    18254      no   no   \n",
       "1  22677   26    services   single  secondary      no      512     yes  yes   \n",
       "2  10541   30  management   single  secondary      no      135      no   no   \n",
       "3  13689   41  technician  married    unknown      no       30     yes   no   \n",
       "4  11304   27      admin.   single  secondary      no      321      no  yes   \n",
       "\n",
       "    contact  day month  campaign  pdays  previous poutcome   y  \n",
       "0  cellular   11   may         2     -1         0  unknown  no  \n",
       "1   unknown    5   jun         3     -1         0  unknown  no  \n",
       "2  cellular   14   aug         2     -1         0  unknown  no  \n",
       "3  cellular   10   jul         1     -1         0  unknown  no  \n",
       "4   unknown    2   sep         1     -1         0  unknown  no  "
      ]
     },
     "metadata": {},
     "output_type": "display_data"
    },
    {
     "data": {
      "text/html": [
       "<div>\n",
       "<style scoped>\n",
       "    .dataframe tbody tr th:only-of-type {\n",
       "        vertical-align: middle;\n",
       "    }\n",
       "\n",
       "    .dataframe tbody tr th {\n",
       "        vertical-align: top;\n",
       "    }\n",
       "\n",
       "    .dataframe thead th {\n",
       "        text-align: right;\n",
       "    }\n",
       "</style>\n",
       "<table border=\"1\" class=\"dataframe\">\n",
       "  <thead>\n",
       "    <tr style=\"text-align: right;\">\n",
       "      <th></th>\n",
       "      <th>ID</th>\n",
       "      <th>age</th>\n",
       "      <th>job</th>\n",
       "      <th>marital</th>\n",
       "      <th>education</th>\n",
       "      <th>default</th>\n",
       "      <th>balance</th>\n",
       "      <th>housing</th>\n",
       "      <th>loan</th>\n",
       "      <th>contact</th>\n",
       "      <th>day</th>\n",
       "      <th>month</th>\n",
       "      <th>campaign</th>\n",
       "      <th>pdays</th>\n",
       "      <th>previous</th>\n",
       "      <th>poutcome</th>\n",
       "    </tr>\n",
       "  </thead>\n",
       "  <tbody>\n",
       "    <tr>\n",
       "      <th>0</th>\n",
       "      <td>53608</td>\n",
       "      <td>32</td>\n",
       "      <td>management</td>\n",
       "      <td>single</td>\n",
       "      <td>tertiary</td>\n",
       "      <td>no</td>\n",
       "      <td>12569</td>\n",
       "      <td>no</td>\n",
       "      <td>no</td>\n",
       "      <td>cellular</td>\n",
       "      <td>1</td>\n",
       "      <td>jul</td>\n",
       "      <td>2</td>\n",
       "      <td>295</td>\n",
       "      <td>2</td>\n",
       "      <td>success</td>\n",
       "    </tr>\n",
       "    <tr>\n",
       "      <th>1</th>\n",
       "      <td>51055</td>\n",
       "      <td>25</td>\n",
       "      <td>services</td>\n",
       "      <td>single</td>\n",
       "      <td>secondary</td>\n",
       "      <td>no</td>\n",
       "      <td>801</td>\n",
       "      <td>no</td>\n",
       "      <td>no</td>\n",
       "      <td>cellular</td>\n",
       "      <td>5</td>\n",
       "      <td>jun</td>\n",
       "      <td>2</td>\n",
       "      <td>-1</td>\n",
       "      <td>0</td>\n",
       "      <td>unknown</td>\n",
       "    </tr>\n",
       "    <tr>\n",
       "      <th>2</th>\n",
       "      <td>52573</td>\n",
       "      <td>46</td>\n",
       "      <td>blue-collar</td>\n",
       "      <td>married</td>\n",
       "      <td>secondary</td>\n",
       "      <td>no</td>\n",
       "      <td>1728</td>\n",
       "      <td>yes</td>\n",
       "      <td>no</td>\n",
       "      <td>unknown</td>\n",
       "      <td>26</td>\n",
       "      <td>may</td>\n",
       "      <td>2</td>\n",
       "      <td>-1</td>\n",
       "      <td>0</td>\n",
       "      <td>unknown</td>\n",
       "    </tr>\n",
       "    <tr>\n",
       "      <th>3</th>\n",
       "      <td>50458</td>\n",
       "      <td>39</td>\n",
       "      <td>management</td>\n",
       "      <td>divorced</td>\n",
       "      <td>secondary</td>\n",
       "      <td>no</td>\n",
       "      <td>51</td>\n",
       "      <td>no</td>\n",
       "      <td>no</td>\n",
       "      <td>unknown</td>\n",
       "      <td>17</td>\n",
       "      <td>jun</td>\n",
       "      <td>2</td>\n",
       "      <td>-1</td>\n",
       "      <td>0</td>\n",
       "      <td>unknown</td>\n",
       "    </tr>\n",
       "    <tr>\n",
       "      <th>4</th>\n",
       "      <td>52272</td>\n",
       "      <td>31</td>\n",
       "      <td>services</td>\n",
       "      <td>single</td>\n",
       "      <td>tertiary</td>\n",
       "      <td>no</td>\n",
       "      <td>1626</td>\n",
       "      <td>no</td>\n",
       "      <td>no</td>\n",
       "      <td>unknown</td>\n",
       "      <td>31</td>\n",
       "      <td>jul</td>\n",
       "      <td>1</td>\n",
       "      <td>-1</td>\n",
       "      <td>0</td>\n",
       "      <td>unknown</td>\n",
       "    </tr>\n",
       "  </tbody>\n",
       "</table>\n",
       "</div>"
      ],
      "text/plain": [
       "      ID  age          job   marital  education default  balance housing loan  \\\n",
       "0  53608   32   management    single   tertiary      no    12569      no   no   \n",
       "1  51055   25     services    single  secondary      no      801      no   no   \n",
       "2  52573   46  blue-collar   married  secondary      no     1728     yes   no   \n",
       "3  50458   39   management  divorced  secondary      no       51      no   no   \n",
       "4  52272   31     services    single   tertiary      no     1626      no   no   \n",
       "\n",
       "    contact  day month  campaign  pdays  previous poutcome  \n",
       "0  cellular    1   jul         2    295         2  success  \n",
       "1  cellular    5   jun         2     -1         0  unknown  \n",
       "2   unknown   26   may         2     -1         0  unknown  \n",
       "3   unknown   17   jun         2     -1         0  unknown  \n",
       "4   unknown   31   jul         1     -1         0  unknown  "
      ]
     },
     "metadata": {},
     "output_type": "display_data"
    },
    {
     "data": {
      "text/html": [
       "<div>\n",
       "<style scoped>\n",
       "    .dataframe tbody tr th:only-of-type {\n",
       "        vertical-align: middle;\n",
       "    }\n",
       "\n",
       "    .dataframe tbody tr th {\n",
       "        vertical-align: top;\n",
       "    }\n",
       "\n",
       "    .dataframe thead th {\n",
       "        text-align: right;\n",
       "    }\n",
       "</style>\n",
       "<table border=\"1\" class=\"dataframe\">\n",
       "  <thead>\n",
       "    <tr style=\"text-align: right;\">\n",
       "      <th></th>\n",
       "      <th>ID</th>\n",
       "      <th>predict</th>\n",
       "    </tr>\n",
       "  </thead>\n",
       "  <tbody>\n",
       "    <tr>\n",
       "      <th>0</th>\n",
       "      <td>53608</td>\n",
       "      <td>0.0</td>\n",
       "    </tr>\n",
       "    <tr>\n",
       "      <th>1</th>\n",
       "      <td>51055</td>\n",
       "      <td>0.0</td>\n",
       "    </tr>\n",
       "    <tr>\n",
       "      <th>2</th>\n",
       "      <td>52573</td>\n",
       "      <td>0.0</td>\n",
       "    </tr>\n",
       "    <tr>\n",
       "      <th>3</th>\n",
       "      <td>50458</td>\n",
       "      <td>0.0</td>\n",
       "    </tr>\n",
       "    <tr>\n",
       "      <th>4</th>\n",
       "      <td>52272</td>\n",
       "      <td>0.0</td>\n",
       "    </tr>\n",
       "  </tbody>\n",
       "</table>\n",
       "</div>"
      ],
      "text/plain": [
       "      ID  predict\n",
       "0  53608      0.0\n",
       "1  51055      0.0\n",
       "2  52573      0.0\n",
       "3  50458      0.0\n",
       "4  52272      0.0"
      ]
     },
     "metadata": {},
     "output_type": "display_data"
    }
   ],
   "source": [
    "import pandas as pd\n",
    "train = pd.read_csv('https://raw.githubusercontent.com/Datamanim/datarepo/main/bank/train.csv')\n",
    "test = pd.read_csv('https://raw.githubusercontent.com/Datamanim/datarepo/main/bank/test.csv')\n",
    "submission = pd.read_csv('https://raw.githubusercontent.com/Datamanim/datarepo/main/bank/submission.csv')\n",
    "\n",
    "display(train.head())\n",
    "display(test.head())\n",
    "# print(submission.predict)\n",
    "display(submission.head())"
   ]
  },
  {
   "cell_type": "code",
   "execution_count": 125,
   "id": "f77a8a1a-b444-4fab-bb2d-a115e2fea053",
   "metadata": {},
   "outputs": [
    {
     "name": "stdout",
     "output_type": "stream",
     "text": [
      "[[0.83 0.17]\n",
      " [0.95 0.05]\n",
      " [0.92 0.08]\n",
      " ...\n",
      " [0.72 0.28]\n",
      " [0.82 0.18]\n",
      " [0.75 0.25]]\n",
      "test roc score:  0.785533368475205\n",
      "submission file\n"
     ]
    },
    {
     "data": {
      "text/html": [
       "<div>\n",
       "<style scoped>\n",
       "    .dataframe tbody tr th:only-of-type {\n",
       "        vertical-align: middle;\n",
       "    }\n",
       "\n",
       "    .dataframe tbody tr th {\n",
       "        vertical-align: top;\n",
       "    }\n",
       "\n",
       "    .dataframe thead th {\n",
       "        text-align: right;\n",
       "    }\n",
       "</style>\n",
       "<table border=\"1\" class=\"dataframe\">\n",
       "  <thead>\n",
       "    <tr style=\"text-align: right;\">\n",
       "      <th></th>\n",
       "      <th>ID</th>\n",
       "      <th>predict</th>\n",
       "    </tr>\n",
       "  </thead>\n",
       "  <tbody>\n",
       "    <tr>\n",
       "      <th>0</th>\n",
       "      <td>53608</td>\n",
       "      <td>0.79</td>\n",
       "    </tr>\n",
       "    <tr>\n",
       "      <th>1</th>\n",
       "      <td>51055</td>\n",
       "      <td>0.93</td>\n",
       "    </tr>\n",
       "    <tr>\n",
       "      <th>2</th>\n",
       "      <td>52573</td>\n",
       "      <td>0.11</td>\n",
       "    </tr>\n",
       "    <tr>\n",
       "      <th>3</th>\n",
       "      <td>50458</td>\n",
       "      <td>0.15</td>\n",
       "    </tr>\n",
       "    <tr>\n",
       "      <th>4</th>\n",
       "      <td>52272</td>\n",
       "      <td>0.35</td>\n",
       "    </tr>\n",
       "  </tbody>\n",
       "</table>\n",
       "</div>"
      ],
      "text/plain": [
       "      ID  predict\n",
       "0  53608     0.79\n",
       "1  51055     0.93\n",
       "2  52573     0.11\n",
       "3  50458     0.15\n",
       "4  52272     0.35"
      ]
     },
     "metadata": {},
     "output_type": "display_data"
    }
   ],
   "source": [
    "# 모델링, submission 파일 생성\n",
    "from sklearn.model_selection import train_test_split\n",
    "\n",
    "x = train.drop(columns=['ID','y'])\n",
    "xd = pd.get_dummies(x)\n",
    "y = train['y']\n",
    "\n",
    "x_train, x_test, y_train, y_test = train_test_split(xd, y, stratify = y, random_state=42)\n",
    "\n",
    "from sklearn.ensemble import RandomForestClassifier\n",
    "rf = RandomForestClassifier()\n",
    "rf.fit(x_train, y_train)\n",
    "pred = rf.predict_proba(x_test)\n",
    "print(pred)\n",
    "from sklearn.metrics import roc_auc_score, classification_report\n",
    "print('test roc score: ', roc_auc_score(y_test, pred[:,1]))\n",
    "\n",
    "test_pred = rf.predict_proba(pd.get_dummies(test.drop(columns=['ID'])))\n",
    "submission['predict'] = test_pred[:,1]\n",
    "print('submission file')\n",
    "display(submission.head())\n",
    "# submission.to_csv('0000000.csv', index=False)"
   ]
  },
  {
   "cell_type": "code",
   "execution_count": null,
   "id": "652bd308-43d3-44b1-8f53-53f853dcdb3b",
   "metadata": {},
   "outputs": [],
   "source": []
  }
 ],
 "metadata": {
  "kernelspec": {
   "display_name": "Python 3 (ipykernel)",
   "language": "python",
   "name": "python3"
  },
  "language_info": {
   "codemirror_mode": {
    "name": "ipython",
    "version": 3
   },
   "file_extension": ".py",
   "mimetype": "text/x-python",
   "name": "python",
   "nbconvert_exporter": "python",
   "pygments_lexer": "ipython3",
   "version": "3.10.14"
  }
 },
 "nbformat": 4,
 "nbformat_minor": 5
}
