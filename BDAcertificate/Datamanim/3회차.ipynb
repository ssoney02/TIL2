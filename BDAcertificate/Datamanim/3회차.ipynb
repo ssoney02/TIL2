{
 "cells": [
  {
   "cell_type": "markdown",
   "id": "ebfbf9d7-500a-4b53-9a95-a7dc101a48f3",
   "metadata": {},
   "source": [
    "# 작업 1 유형"
   ]
  },
  {
   "cell_type": "code",
   "execution_count": 1,
   "id": "38e64170-9cee-40a2-9a68-4242994407ca",
   "metadata": {},
   "outputs": [
    {
     "data": {
      "text/html": [
       "<div>\n",
       "<style scoped>\n",
       "    .dataframe tbody tr th:only-of-type {\n",
       "        vertical-align: middle;\n",
       "    }\n",
       "\n",
       "    .dataframe tbody tr th {\n",
       "        vertical-align: top;\n",
       "    }\n",
       "\n",
       "    .dataframe thead th {\n",
       "        text-align: right;\n",
       "    }\n",
       "</style>\n",
       "<table border=\"1\" class=\"dataframe\">\n",
       "  <thead>\n",
       "    <tr style=\"text-align: right;\">\n",
       "      <th></th>\n",
       "      <th>title</th>\n",
       "      <th>artist</th>\n",
       "      <th>top genre</th>\n",
       "      <th>year released</th>\n",
       "      <th>added</th>\n",
       "      <th>bpm</th>\n",
       "      <th>nrgy</th>\n",
       "      <th>dnce</th>\n",
       "      <th>dB</th>\n",
       "      <th>live</th>\n",
       "      <th>val</th>\n",
       "      <th>dur</th>\n",
       "      <th>acous</th>\n",
       "      <th>spch</th>\n",
       "      <th>pop</th>\n",
       "      <th>top year</th>\n",
       "      <th>artist type</th>\n",
       "    </tr>\n",
       "  </thead>\n",
       "  <tbody>\n",
       "    <tr>\n",
       "      <th>0</th>\n",
       "      <td>STARSTRUKK (feat. Katy Perry)</td>\n",
       "      <td>3OH!3</td>\n",
       "      <td>dance pop</td>\n",
       "      <td>2009.0</td>\n",
       "      <td>2022‑02‑17</td>\n",
       "      <td>140.0</td>\n",
       "      <td>81.0</td>\n",
       "      <td>61.0</td>\n",
       "      <td>-6.0</td>\n",
       "      <td>23.0</td>\n",
       "      <td>23.0</td>\n",
       "      <td>203.0</td>\n",
       "      <td>0.0</td>\n",
       "      <td>6.0</td>\n",
       "      <td>70.0</td>\n",
       "      <td>2010.0</td>\n",
       "      <td>Duo</td>\n",
       "    </tr>\n",
       "    <tr>\n",
       "      <th>1</th>\n",
       "      <td>My First Kiss (feat. Ke$ha)</td>\n",
       "      <td>3OH!3</td>\n",
       "      <td>dance pop</td>\n",
       "      <td>2010.0</td>\n",
       "      <td>2022‑02‑17</td>\n",
       "      <td>138.0</td>\n",
       "      <td>89.0</td>\n",
       "      <td>68.0</td>\n",
       "      <td>-4.0</td>\n",
       "      <td>36.0</td>\n",
       "      <td>83.0</td>\n",
       "      <td>192.0</td>\n",
       "      <td>1.0</td>\n",
       "      <td>8.0</td>\n",
       "      <td>68.0</td>\n",
       "      <td>2010.0</td>\n",
       "      <td>Duo</td>\n",
       "    </tr>\n",
       "    <tr>\n",
       "      <th>2</th>\n",
       "      <td>I Need A Dollar</td>\n",
       "      <td>Aloe Blacc</td>\n",
       "      <td>pop soul</td>\n",
       "      <td>2010.0</td>\n",
       "      <td>2022‑02‑17</td>\n",
       "      <td>95.0</td>\n",
       "      <td>48.0</td>\n",
       "      <td>84.0</td>\n",
       "      <td>-7.0</td>\n",
       "      <td>9.0</td>\n",
       "      <td>96.0</td>\n",
       "      <td>243.0</td>\n",
       "      <td>20.0</td>\n",
       "      <td>3.0</td>\n",
       "      <td>72.0</td>\n",
       "      <td>2010.0</td>\n",
       "      <td>Solo</td>\n",
       "    </tr>\n",
       "    <tr>\n",
       "      <th>3</th>\n",
       "      <td>Airplanes (feat. Hayley Williams of Paramore)</td>\n",
       "      <td>B.o.B</td>\n",
       "      <td>atl hip hop</td>\n",
       "      <td>2010.0</td>\n",
       "      <td>2022‑02‑17</td>\n",
       "      <td>93.0</td>\n",
       "      <td>87.0</td>\n",
       "      <td>66.0</td>\n",
       "      <td>-4.0</td>\n",
       "      <td>4.0</td>\n",
       "      <td>38.0</td>\n",
       "      <td>180.0</td>\n",
       "      <td>11.0</td>\n",
       "      <td>12.0</td>\n",
       "      <td>80.0</td>\n",
       "      <td>2010.0</td>\n",
       "      <td>Solo</td>\n",
       "    </tr>\n",
       "    <tr>\n",
       "      <th>4</th>\n",
       "      <td>Nothin' on You (feat. Bruno Mars)</td>\n",
       "      <td>B.o.B</td>\n",
       "      <td>atl hip hop</td>\n",
       "      <td>2010.0</td>\n",
       "      <td>2022‑02‑17</td>\n",
       "      <td>104.0</td>\n",
       "      <td>85.0</td>\n",
       "      <td>69.0</td>\n",
       "      <td>-6.0</td>\n",
       "      <td>9.0</td>\n",
       "      <td>74.0</td>\n",
       "      <td>268.0</td>\n",
       "      <td>39.0</td>\n",
       "      <td>5.0</td>\n",
       "      <td>79.0</td>\n",
       "      <td>2010.0</td>\n",
       "      <td>Solo</td>\n",
       "    </tr>\n",
       "  </tbody>\n",
       "</table>\n",
       "</div>"
      ],
      "text/plain": [
       "                                           title      artist    top genre  \\\n",
       "0                  STARSTRUKK (feat. Katy Perry)       3OH!3    dance pop   \n",
       "1                    My First Kiss (feat. Ke$ha)       3OH!3    dance pop   \n",
       "2                                I Need A Dollar  Aloe Blacc     pop soul   \n",
       "3  Airplanes (feat. Hayley Williams of Paramore)       B.o.B  atl hip hop   \n",
       "4              Nothin' on You (feat. Bruno Mars)       B.o.B  atl hip hop   \n",
       "\n",
       "   year released       added    bpm  nrgy  dnce   dB  live   val    dur  \\\n",
       "0         2009.0  2022‑02‑17  140.0  81.0  61.0 -6.0  23.0  23.0  203.0   \n",
       "1         2010.0  2022‑02‑17  138.0  89.0  68.0 -4.0  36.0  83.0  192.0   \n",
       "2         2010.0  2022‑02‑17   95.0  48.0  84.0 -7.0   9.0  96.0  243.0   \n",
       "3         2010.0  2022‑02‑17   93.0  87.0  66.0 -4.0   4.0  38.0  180.0   \n",
       "4         2010.0  2022‑02‑17  104.0  85.0  69.0 -6.0   9.0  74.0  268.0   \n",
       "\n",
       "   acous  spch   pop  top year artist type  \n",
       "0    0.0   6.0  70.0    2010.0         Duo  \n",
       "1    1.0   8.0  68.0    2010.0         Duo  \n",
       "2   20.0   3.0  72.0    2010.0        Solo  \n",
       "3   11.0  12.0  80.0    2010.0        Solo  \n",
       "4   39.0   5.0  79.0    2010.0        Solo  "
      ]
     },
     "execution_count": 1,
     "metadata": {},
     "output_type": "execute_result"
    }
   ],
   "source": [
    "import pandas as pd\n",
    "df = pd.read_csv('https://raw.githubusercontent.com/Datamanim/datarepo/main/spotify/spotify.csv')\n",
    "df.head()"
   ]
  },
  {
   "cell_type": "markdown",
   "id": "d1e78729-b5b7-434a-adb2-5ff9e94ccfaa",
   "metadata": {},
   "source": [
    "### Q1.데이터는 현재 년도별 100곡이 인기순으로 정렬되어 있다. 각 년도별 1~100위의 랭킹을 나타내는 rank컬럼을 만들고 매년도 1위의 bpm컬럼의 평균값을 구하여라"
   ]
  },
  {
   "cell_type": "code",
   "execution_count": 5,
   "id": "6c6fd170-7bfd-453f-b24f-e16a059cd961",
   "metadata": {},
   "outputs": [
    {
     "data": {
      "text/plain": [
       "(1000, 18)"
      ]
     },
     "execution_count": 5,
     "metadata": {},
     "output_type": "execute_result"
    }
   ],
   "source": [
    "df.shape"
   ]
  },
  {
   "cell_type": "code",
   "execution_count": 17,
   "id": "3c9e62ce-3bdb-4e34-ba62-a06d0270cbc4",
   "metadata": {},
   "outputs": [
    {
     "name": "stdout",
     "output_type": "stream",
     "text": [
      "                                             title              artist  \\\n",
      "0                    STARSTRUKK (feat. Katy Perry)               3OH!3   \n",
      "1                      My First Kiss (feat. Ke$ha)               3OH!3   \n",
      "2                                  I Need A Dollar          Aloe Blacc   \n",
      "3    Airplanes (feat. Hayley Williams of Paramore)               B.o.B   \n",
      "4                Nothin' on You (feat. Bruno Mars)               B.o.B   \n",
      "..                                             ...                 ...   \n",
      "995                                     SICKO MODE        Travis Scott   \n",
      "996                                      EARFQUAKE  Tyler, The Creator   \n",
      "997                      Boasty (feat. Idris Elba)               Wiley   \n",
      "998                    Strike a Pose (feat. Aitch)    Young T & Bugsey   \n",
      "999      The London (feat. J. Cole & Travis Scott)          Young Thug   \n",
      "\n",
      "       top genre  year released       added    bpm  nrgy  dnce   dB  live  \\\n",
      "0      dance pop         2009.0  2022‑02‑17  140.0  81.0  61.0 -6.0  23.0   \n",
      "1      dance pop         2010.0  2022‑02‑17  138.0  89.0  68.0 -4.0  36.0   \n",
      "2       pop soul         2010.0  2022‑02‑17   95.0  48.0  84.0 -7.0   9.0   \n",
      "3    atl hip hop         2010.0  2022‑02‑17   93.0  87.0  66.0 -4.0   4.0   \n",
      "4    atl hip hop         2010.0  2022‑02‑17  104.0  85.0  69.0 -6.0   9.0   \n",
      "..           ...            ...         ...    ...   ...   ...  ...   ...   \n",
      "995      hip hop         2018.0  2020‑06‑22  155.0  73.0  83.0 -4.0  12.0   \n",
      "996      hip hop         2019.0  2020‑06‑22   80.0  50.0  55.0 -9.0  80.0   \n",
      "997        grime         2019.0  2020‑06‑22  103.0  77.0  89.0 -5.0   9.0   \n",
      "998    afroswing         2019.0  2020‑08‑20  138.0  58.0  53.0 -6.0  10.0   \n",
      "999  atl hip hop         2019.0  2020‑06‑22   98.0  59.0  80.0 -7.0  13.0   \n",
      "\n",
      "      val    dur  acous  spch   pop  top year artist type  rank  \n",
      "0    23.0  203.0    0.0   6.0  70.0    2010.0         Duo     1  \n",
      "1    83.0  192.0    1.0   8.0  68.0    2010.0         Duo     2  \n",
      "2    96.0  243.0   20.0   3.0  72.0    2010.0        Solo     3  \n",
      "3    38.0  180.0   11.0  12.0  80.0    2010.0        Solo     4  \n",
      "4    74.0  268.0   39.0   5.0  79.0    2010.0        Solo     5  \n",
      "..    ...    ...    ...   ...   ...       ...         ...   ...  \n",
      "995  45.0  313.0    1.0  22.0  86.0    2019.0        Solo    96  \n",
      "996  41.0  190.0   23.0   7.0  85.0    2019.0        Solo    97  \n",
      "997  46.0  177.0    1.0   7.0  68.0    2019.0        Solo    98  \n",
      "998  59.0  214.0    1.0  10.0  67.0    2019.0         Duo    99  \n",
      "999  18.0  200.0    2.0  15.0  75.0    2019.0        Solo   100  \n",
      "\n",
      "[1000 rows x 18 columns]\n",
      "125.6\n"
     ]
    }
   ],
   "source": [
    "df = df.dropna()\n",
    "df.loc[:, 'rank'] = list(range(1,101))*10\n",
    "# df['rank'] = list(range(1,101))*10\n",
    "\n",
    "print(df)\n",
    "result = df[df['rank'] == 1].bpm.mean()\n",
    "print(result)"
   ]
  },
  {
   "cell_type": "markdown",
   "id": "e9cc08e3-2553-4bdb-bf84-1f40972a4dad",
   "metadata": {},
   "source": [
    "### Q2. 2015년도에 가장많은 top100곡을 올린 artist는 누구인가?"
   ]
  },
  {
   "cell_type": "code",
   "execution_count": 18,
   "id": "e9c383fe-1608-45a8-b7c6-b487f1ddd8c6",
   "metadata": {},
   "outputs": [
    {
     "name": "stdout",
     "output_type": "stream",
     "text": [
      "Taylor Swift\n"
     ]
    }
   ],
   "source": [
    "ans = df[df['top year'] == 2015].artist.value_counts().index[0]\n",
    "print(ans)"
   ]
  },
  {
   "cell_type": "markdown",
   "id": "f7691c44-d92c-40cf-ad3a-d8767339c3e0",
   "metadata": {},
   "source": [
    "### Q3. 년도별 rank값이 1~10위 까지의 곡들 중 두번째로 많은 top genre는 무엇인가?"
   ]
  },
  {
   "cell_type": "code",
   "execution_count": 16,
   "id": "efd0daeb-97f8-444a-a5cd-23f28cc20efb",
   "metadata": {},
   "outputs": [
    {
     "name": "stdout",
     "output_type": "stream",
     "text": [
      "top genre\n",
      "dance pop                    40\n",
      "atl hip hop                   7\n",
      "british soul                  7\n",
      "boy band                      4\n",
      "garage rock                   3\n",
      "detroit hip hop               3\n",
      "melodic rap                   3\n",
      "emo rap                       2\n",
      "modern rock                   2\n",
      "pop soul                      2\n",
      "canadian contemporary r&b     2\n",
      "latin                         2\n",
      "canadian pop                  2\n",
      "gangster rap                  1\n",
      "grime                         1\n",
      "art pop                       1\n",
      "electropop                    1\n",
      "basshall                      1\n",
      "afroswing                     1\n",
      "london rap                    1\n",
      "social media pop              1\n",
      "hip hop                       1\n",
      "israeli pop                   1\n",
      "east coast hip hop            1\n",
      "metropopolis                  1\n",
      "alt z                         1\n",
      "kentucky hip hop              1\n",
      "contemporary country          1\n",
      "modern alternative rock       1\n",
      "indie poptimism               1\n",
      "indie rock                    1\n",
      "bass trap                     1\n",
      "la indie                      1\n",
      "pop                           1\n",
      "Name: count, dtype: int64\n"
     ]
    }
   ],
   "source": [
    "res = df[(df['rank'] >= 1) & (df['rank'] <=10)]['top genre'].value_counts()\n",
    "print(res)"
   ]
  },
  {
   "cell_type": "markdown",
   "id": "5dae32ff-0f86-47bd-9cd0-de8b7afb5ad6",
   "metadata": {},
   "source": [
    "### Q4.피처링의 경우 title에 표시된다. 피처링을 가장 많이 해준 가수는 누구인가?"
   ]
  },
  {
   "cell_type": "code",
   "execution_count": 31,
   "id": "74e2e11a-1240-4f97-ace7-2868ca518ba6",
   "metadata": {},
   "outputs": [
    {
     "name": "stdout",
     "output_type": "stream",
     "text": [
      " Bruno Mars)\n"
     ]
    }
   ],
   "source": [
    "ans = df['title'].str.split('.').str[1].value_counts()\n",
    "print(ans.index[1])"
   ]
  },
  {
   "cell_type": "markdown",
   "id": "6309d938-a39d-41c2-8299-b0a9642e470e",
   "metadata": {},
   "source": [
    "### Q5. top year 년도를 기준으로 발매일(year released)과 top100에 진입한 일자 (top year)가 다른 곡의 숫자를 count 했을때 가장 많은 년도는?"
   ]
  },
  {
   "cell_type": "code",
   "execution_count": 32,
   "id": "ab47b338-2b99-4612-acb5-61403d4fd4b2",
   "metadata": {},
   "outputs": [
    {
     "name": "stdout",
     "output_type": "stream",
     "text": [
      "top year\n",
      "2016.0    37\n",
      "2011.0    34\n",
      "2010.0    33\n",
      "2013.0    33\n",
      "2015.0    31\n",
      "2012.0    28\n",
      "2017.0    26\n",
      "2014.0    23\n",
      "2019.0    21\n",
      "2018.0    19\n",
      "Name: count, dtype: int64\n"
     ]
    }
   ],
   "source": [
    "res = df[df['top year'] != df['year released']]['top year'].value_counts()\n",
    "print(res)"
   ]
  },
  {
   "cell_type": "markdown",
   "id": "4eb32e3d-8fe3-4c82-ad78-81e8ac6b8441",
   "metadata": {},
   "source": [
    "### Q6. artist 컬럼의 값에 대소문자 상관없이 q 단어가 들어가는 아티스트는 몇명인가?"
   ]
  },
  {
   "cell_type": "code",
   "execution_count": 35,
   "id": "48a2af73-2138-4196-8f85-ae0563828247",
   "metadata": {},
   "outputs": [
    {
     "name": "stdout",
     "output_type": "stream",
     "text": [
      "6\n"
     ]
    }
   ],
   "source": [
    "# 대소문자 구분없이 -> 다 소문자로 바꿔놓고. .str.contains('q')로 체크\n",
    "ans = df[df['artist'].str.lower().str.contains('q')].artist.unique()\n",
    "print(len(ans))"
   ]
  },
  {
   "cell_type": "markdown",
   "id": "4cafbb95-e258-4b93-b5f0-4d503670df82",
   "metadata": {},
   "source": [
    "### Q7. 년도 상관없이 전체데이터에서 1 ~ 50위와 51 ~ 100위간의 dur 컬럼의 평균값의 차이는?"
   ]
  },
  {
   "cell_type": "code",
   "execution_count": 36,
   "id": "05145d52-4f93-4172-8257-8528225e843e",
   "metadata": {},
   "outputs": [
    {
     "name": "stdout",
     "output_type": "stream",
     "text": [
      "0.896000000000015\n"
     ]
    }
   ],
   "source": [
    "m1 = df[(df['rank']>=1) & (df['rank'] <=50)].dur.mean()\n",
    "m2 = df[(df['rank']>=51) & (df['rank']<=100)].dur.mean()\n",
    "print(abs(m1-m2))"
   ]
  },
  {
   "cell_type": "code",
   "execution_count": 37,
   "id": "aa6b1d0c-2f43-4464-a63e-96f607f35481",
   "metadata": {},
   "outputs": [
    {
     "name": "stdout",
     "output_type": "stream",
     "text": [
      "0.896000000000015\n"
     ]
    }
   ],
   "source": [
    "# 모범답안..\n",
    "result = df[df['rank'].isin(range(1,51))].dur.mean() - df[df['rank'].isin(range(51,101))].dur.mean()\n",
    "print(result)"
   ]
  },
  {
   "cell_type": "markdown",
   "id": "edb38f15-86d8-4148-b913-71bd257718af",
   "metadata": {},
   "source": [
    "### Q8. title을 띄어쓰기 단어로 구분 했을때 가장 많이 나온 단어는 무엇인가? (대소문자 구분 x)"
   ]
  },
  {
   "cell_type": "code",
   "execution_count": 39,
   "id": "b6f6f59c-f2cd-4279-beae-db8a9ebe48ab",
   "metadata": {},
   "outputs": [
    {
     "name": "stdout",
     "output_type": "stream",
     "text": [
      "title\n",
      "[paradise]                                            3\n",
      "[sorry]                                               3\n",
      "[don't]                                               3\n",
      "[history]                                             2\n",
      "[closer]                                              2\n",
      "                                                     ..\n",
      "[started, from, the, bottom]                          1\n",
      "[need, u, (100%), (feat., a*m*e), -, radio, edit]     1\n",
      "[the, monster]                                        1\n",
      "[berzerk]                                             1\n",
      "[the, london, (feat., j., cole, &, travis, scott)]    1\n",
      "Name: count, Length: 945, dtype: int64\n"
     ]
    }
   ],
   "source": [
    "res = df['title'].str.lower().str.split().value_counts()\n",
    "print(res)"
   ]
  },
  {
   "cell_type": "code",
   "execution_count": null,
   "id": "a3ca42f4-e201-4ec8-9de7-053678e3882f",
   "metadata": {},
   "outputs": [],
   "source": []
  }
 ],
 "metadata": {
  "kernelspec": {
   "display_name": "Python 3 (ipykernel)",
   "language": "python",
   "name": "python3"
  },
  "language_info": {
   "codemirror_mode": {
    "name": "ipython",
    "version": 3
   },
   "file_extension": ".py",
   "mimetype": "text/x-python",
   "name": "python",
   "nbconvert_exporter": "python",
   "pygments_lexer": "ipython3",
   "version": "3.10.14"
  }
 },
 "nbformat": 4,
 "nbformat_minor": 5
}
