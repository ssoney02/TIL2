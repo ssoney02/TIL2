{
 "cells": [
  {
   "cell_type": "code",
   "execution_count": 86,
   "id": "2b61c0fb-0ed4-4b02-a187-e6550834cd73",
   "metadata": {},
   "outputs": [
    {
     "name": "stdout",
     "output_type": "stream",
     "text": [
      "<class 'pandas.core.frame.DataFrame'>\n",
      "RangeIndex: 60399 entries, 0 to 60398\n",
      "Data columns (total 10 columns):\n",
      " #   Column          Non-Null Count  Dtype \n",
      "---  ------          --------------  ----- \n",
      " 0   Unnamed: 0      60399 non-null  int64 \n",
      " 1   title           60399 non-null  object\n",
      " 2   channelTitle    60399 non-null  object\n",
      " 3   categoryId      60399 non-null  int64 \n",
      " 4   view_count      60399 non-null  int64 \n",
      " 5   likes           60399 non-null  int64 \n",
      " 6   dislikes        60399 non-null  int64 \n",
      " 7   comment_count   60399 non-null  int64 \n",
      " 8   channelId       60399 non-null  object\n",
      " 9   trending_date2  60399 non-null  object\n",
      "dtypes: int64(6), object(4)\n",
      "memory usage: 4.6+ MB\n"
     ]
    }
   ],
   "source": [
    "import pandas as pd\n",
    "\n",
    "# 유튜브 인기 동영상 데이터\n",
    "df = pd.read_csv('https://raw.githubusercontent.com/Datamanim/datarepo/main/youtube/youtube.csv')\n",
    "df.info()"
   ]
  },
  {
   "cell_type": "code",
   "execution_count": 65,
   "id": "354e91f5-e3b2-4125-abe1-7e91ce09b74f",
   "metadata": {},
   "outputs": [
    {
     "data": {
      "text/plain": [
       "['장삐쭈',\n",
       " '총몇명',\n",
       " '파뿌리',\n",
       " '짤툰',\n",
       " '런닝맨 - 스브스 공식 채널',\n",
       " '엠뚜루마뚜루 : MBC 공식 종합 채널',\n",
       " 'SPOTV',\n",
       " '채널 십오야',\n",
       " '이과장',\n",
       " 'BANGTANTV']"
      ]
     },
     "execution_count": 65,
     "metadata": {},
     "output_type": "execute_result"
    }
   ],
   "source": [
    "# Q1 인기동영상 제작횟수 -> 정렬해서 10개 출력\n",
    "# channelId 카운트 -> \n",
    "# value_counts: series를 반환하므로 \n",
    "ans = list(df[df['channelId'].isin(df.channelId.value_counts().head(10).index)]['channelTitle'].unique())\n",
    "ans"
   ]
  },
  {
   "cell_type": "code",
   "execution_count": 66,
   "id": "a1c672be-b886-48f4-87ec-c4bad7d0916f",
   "metadata": {},
   "outputs": [
    {
     "name": "stdout",
     "output_type": "stream",
     "text": [
      "['핫도그TV', 'ASMR 애정TV', '하얀트리HayanTree', '양팡 YangPang', '철구형 (CHULTUBE)', '왜냐맨하우스', '(MUTUBE)와꾸대장봉준', '오메킴TV', '육지담', 'MapleStory_KR', 'ROAD FIGHTING CHAMPIONSHIP', '사나이 김기훈', '나혼자산다 STUDIO', 'Gen.G esports']\n"
     ]
    }
   ],
   "source": [
    "# Q2\n",
    "# dislikes > like 를 만족하는 영상 필터링\n",
    "# 채널 title\n",
    "# print(df[df['dislikes'] > df['likes']])\n",
    "ans = list(df[df['dislikes']>df['likes']].channelTitle.unique())\n",
    "print(ans)"
   ]
  },
  {
   "cell_type": "code",
   "execution_count": 67,
   "id": "20cbc801-b0aa-443a-b27d-206ed701fc1a",
   "metadata": {},
   "outputs": [
    {
     "name": "stdout",
     "output_type": "stream",
     "text": [
      "71\n"
     ]
    }
   ],
   "source": [
    "# Q3\n",
    "# channelId는 동일한데, channelTitle이 다른 경우 count\n",
    "ans = df[['channelId', 'channelTitle']].drop_duplicates()\n",
    "res = ans.channelId.value_counts()\n",
    "# 여기서 res는 series객체!! (컬럼 하나) -> 바로 조건 걸 수 o\n",
    "# value_counts()의 값이 1보다 큰 것 == 타이틀의 등장횟수가 여러 번 인 것\n",
    "target = res[res>1]\n",
    "print(len(target))"
   ]
  },
  {
   "cell_type": "code",
   "execution_count": 87,
   "id": "22dad5dc-79a0-4a0d-9d1c-680678bc3cae",
   "metadata": {},
   "outputs": [
    {
     "name": "stdout",
     "output_type": "stream",
     "text": [
      "<class 'pandas.core.frame.DataFrame'>\n",
      "RangeIndex: 60399 entries, 0 to 60398\n",
      "Data columns (total 10 columns):\n",
      " #   Column          Non-Null Count  Dtype         \n",
      "---  ------          --------------  -----         \n",
      " 0   Unnamed: 0      60399 non-null  int64         \n",
      " 1   title           60399 non-null  object        \n",
      " 2   channelTitle    60399 non-null  object        \n",
      " 3   categoryId      60399 non-null  int64         \n",
      " 4   view_count      60399 non-null  int64         \n",
      " 5   likes           60399 non-null  int64         \n",
      " 6   dislikes        60399 non-null  int64         \n",
      " 7   comment_count   60399 non-null  int64         \n",
      " 8   channelId       60399 non-null  object        \n",
      " 9   trending_date2  60399 non-null  datetime64[ns]\n",
      "dtypes: datetime64[ns](1), int64(6), object(3)\n",
      "memory usage: 4.6+ MB\n"
     ]
    }
   ],
   "source": [
    "# Q4\n",
    "# 일요일에 인기있었던 영상들 중 가장 많은 categoryId\n",
    "# trending_date2.weekday 가 6\n",
    "df['trending_date2'] = pd.to_datetime(df['trending_date2'])\n",
    "df.info()"
   ]
  },
  {
   "cell_type": "code",
   "execution_count": 71,
   "id": "78e23b29-1a58-4b8e-abbe-883e4c17a5fc",
   "metadata": {},
   "outputs": [
    {
     "name": "stdout",
     "output_type": "stream",
     "text": [
      "24\n"
     ]
    },
    {
     "data": {
      "text/plain": [
       "\"\\nans = df[df['trending_date2'].dt.weekday == 6].categoryId.value_counts()\\nprint(ans.index[0])\\nprint(ans.index.values[0])\\n\""
      ]
     },
     "execution_count": 71,
     "metadata": {},
     "output_type": "execute_result"
    }
   ],
   "source": [
    "# idxmax 사용: 가장 큰 값을 가진 index를 반환\n",
    "# !!!!! value_counts()의 반환값은 series 객체!!!\n",
    "ans = df[df['trending_date2'].dt.weekday == 6].categoryId.value_counts().idxmax()\n",
    "print(ans)\n",
    "\n",
    "'''\n",
    "ans = df[df['trending_date2'].dt.weekday == 6].categoryId.value_counts()\n",
    "print(ans.index[0])\n",
    "print(ans.index.values[0])\n",
    "'''"
   ]
  },
  {
   "cell_type": "code",
   "execution_count": 88,
   "id": "a86257fa-c606-4a38-86f7-e69c214cc6c9",
   "metadata": {},
   "outputs": [
    {
     "data": {
      "text/html": [
       "<div>\n",
       "<style scoped>\n",
       "    .dataframe tbody tr th:only-of-type {\n",
       "        vertical-align: middle;\n",
       "    }\n",
       "\n",
       "    .dataframe tbody tr th {\n",
       "        vertical-align: top;\n",
       "    }\n",
       "\n",
       "    .dataframe thead tr th {\n",
       "        text-align: left;\n",
       "    }\n",
       "\n",
       "    .dataframe thead tr:last-of-type th {\n",
       "        text-align: right;\n",
       "    }\n",
       "</style>\n",
       "<table border=\"1\" class=\"dataframe\">\n",
       "  <thead>\n",
       "    <tr>\n",
       "      <th></th>\n",
       "      <th colspan=\"7\" halign=\"left\">size</th>\n",
       "    </tr>\n",
       "    <tr>\n",
       "      <th>trending_date2</th>\n",
       "      <th>Friday</th>\n",
       "      <th>Monday</th>\n",
       "      <th>Saturday</th>\n",
       "      <th>Sunday</th>\n",
       "      <th>Thursday</th>\n",
       "      <th>Tuesday</th>\n",
       "      <th>Wednesday</th>\n",
       "    </tr>\n",
       "    <tr>\n",
       "      <th>categoryId</th>\n",
       "      <th></th>\n",
       "      <th></th>\n",
       "      <th></th>\n",
       "      <th></th>\n",
       "      <th></th>\n",
       "      <th></th>\n",
       "      <th></th>\n",
       "    </tr>\n",
       "  </thead>\n",
       "  <tbody>\n",
       "    <tr>\n",
       "      <th>1</th>\n",
       "      <td>243</td>\n",
       "      <td>263</td>\n",
       "      <td>255</td>\n",
       "      <td>274</td>\n",
       "      <td>246</td>\n",
       "      <td>257</td>\n",
       "      <td>234</td>\n",
       "    </tr>\n",
       "    <tr>\n",
       "      <th>2</th>\n",
       "      <td>120</td>\n",
       "      <td>105</td>\n",
       "      <td>119</td>\n",
       "      <td>99</td>\n",
       "      <td>128</td>\n",
       "      <td>119</td>\n",
       "      <td>129</td>\n",
       "    </tr>\n",
       "    <tr>\n",
       "      <th>10</th>\n",
       "      <td>833</td>\n",
       "      <td>837</td>\n",
       "      <td>776</td>\n",
       "      <td>830</td>\n",
       "      <td>890</td>\n",
       "      <td>894</td>\n",
       "      <td>917</td>\n",
       "    </tr>\n",
       "    <tr>\n",
       "      <th>15</th>\n",
       "      <td>187</td>\n",
       "      <td>215</td>\n",
       "      <td>198</td>\n",
       "      <td>217</td>\n",
       "      <td>207</td>\n",
       "      <td>208</td>\n",
       "      <td>207</td>\n",
       "    </tr>\n",
       "    <tr>\n",
       "      <th>17</th>\n",
       "      <td>633</td>\n",
       "      <td>668</td>\n",
       "      <td>592</td>\n",
       "      <td>636</td>\n",
       "      <td>682</td>\n",
       "      <td>708</td>\n",
       "      <td>706</td>\n",
       "    </tr>\n",
       "    <tr>\n",
       "      <th>19</th>\n",
       "      <td>90</td>\n",
       "      <td>92</td>\n",
       "      <td>87</td>\n",
       "      <td>91</td>\n",
       "      <td>92</td>\n",
       "      <td>89</td>\n",
       "      <td>85</td>\n",
       "    </tr>\n",
       "    <tr>\n",
       "      <th>20</th>\n",
       "      <td>283</td>\n",
       "      <td>298</td>\n",
       "      <td>296</td>\n",
       "      <td>289</td>\n",
       "      <td>282</td>\n",
       "      <td>285</td>\n",
       "      <td>291</td>\n",
       "    </tr>\n",
       "    <tr>\n",
       "      <th>22</th>\n",
       "      <td>1288</td>\n",
       "      <td>1373</td>\n",
       "      <td>1289</td>\n",
       "      <td>1337</td>\n",
       "      <td>1341</td>\n",
       "      <td>1375</td>\n",
       "      <td>1333</td>\n",
       "    </tr>\n",
       "    <tr>\n",
       "      <th>23</th>\n",
       "      <td>568</td>\n",
       "      <td>594</td>\n",
       "      <td>570</td>\n",
       "      <td>556</td>\n",
       "      <td>560</td>\n",
       "      <td>569</td>\n",
       "      <td>566</td>\n",
       "    </tr>\n",
       "    <tr>\n",
       "      <th>24</th>\n",
       "      <td>2976</td>\n",
       "      <td>3148</td>\n",
       "      <td>3066</td>\n",
       "      <td>3096</td>\n",
       "      <td>2954</td>\n",
       "      <td>3084</td>\n",
       "      <td>3090</td>\n",
       "    </tr>\n",
       "    <tr>\n",
       "      <th>25</th>\n",
       "      <td>444</td>\n",
       "      <td>453</td>\n",
       "      <td>422</td>\n",
       "      <td>437</td>\n",
       "      <td>470</td>\n",
       "      <td>452</td>\n",
       "      <td>468</td>\n",
       "    </tr>\n",
       "    <tr>\n",
       "      <th>26</th>\n",
       "      <td>369</td>\n",
       "      <td>378</td>\n",
       "      <td>364</td>\n",
       "      <td>363</td>\n",
       "      <td>375</td>\n",
       "      <td>394</td>\n",
       "      <td>385</td>\n",
       "    </tr>\n",
       "    <tr>\n",
       "      <th>27</th>\n",
       "      <td>183</td>\n",
       "      <td>205</td>\n",
       "      <td>183</td>\n",
       "      <td>199</td>\n",
       "      <td>194</td>\n",
       "      <td>194</td>\n",
       "      <td>212</td>\n",
       "    </tr>\n",
       "    <tr>\n",
       "      <th>28</th>\n",
       "      <td>171</td>\n",
       "      <td>160</td>\n",
       "      <td>173</td>\n",
       "      <td>167</td>\n",
       "      <td>166</td>\n",
       "      <td>161</td>\n",
       "      <td>165</td>\n",
       "    </tr>\n",
       "    <tr>\n",
       "      <th>29</th>\n",
       "      <td>12</td>\n",
       "      <td>10</td>\n",
       "      <td>10</td>\n",
       "      <td>9</td>\n",
       "      <td>13</td>\n",
       "      <td>11</td>\n",
       "      <td>12</td>\n",
       "    </tr>\n",
       "  </tbody>\n",
       "</table>\n",
       "</div>"
      ],
      "text/plain": [
       "                 size                                                  \n",
       "trending_date2 Friday Monday Saturday Sunday Thursday Tuesday Wednesday\n",
       "categoryId                                                             \n",
       "1                 243    263      255    274      246     257       234\n",
       "2                 120    105      119     99      128     119       129\n",
       "10                833    837      776    830      890     894       917\n",
       "15                187    215      198    217      207     208       207\n",
       "17                633    668      592    636      682     708       706\n",
       "19                 90     92       87     91       92      89        85\n",
       "20                283    298      296    289      282     285       291\n",
       "22               1288   1373     1289   1337     1341    1375      1333\n",
       "23                568    594      570    556      560     569       566\n",
       "24               2976   3148     3066   3096     2954    3084      3090\n",
       "25                444    453      422    437      470     452       468\n",
       "26                369    378      364    363      375     394       385\n",
       "27                183    205      183    199      194     194       212\n",
       "28                171    160      173    167      166     161       165\n",
       "29                 12     10       10      9       13      11        12"
      ]
     },
     "metadata": {},
     "output_type": "display_data"
    }
   ],
   "source": [
    "# Q5\n",
    "# 요일별 인기 영상들의 categoryId 개수 -> 데이터 프레임으로 표현\n",
    "# .pivot\n",
    "group = df.groupby([df['trending_date2'].dt.day_name(), 'categoryId'], as_index=False).size()\n",
    "answer = group.pivot(index='categoryId', columns='trending_date2')\n",
    "display(answer)"
   ]
  },
  {
   "cell_type": "code",
   "execution_count": 101,
   "id": "2d58ff21-6d6f-44a6-8751-222db1c3e804",
   "metadata": {},
   "outputs": [
    {
     "name": "stdout",
     "output_type": "stream",
     "text": [
      "60분 동안 댓글이 달리지 않으면, 영상이 삭제됩니다. (챌린지)\n"
     ]
    }
   ],
   "source": [
    "# Q6\n",
    "# comment_count / view_count 가 가장 높은 영상\n",
    "# view_count = 0 인 경우는 제외\n",
    "target2 = df.loc[df.view_count!=0]\n",
    "t = target2.copy()\n",
    "t['ratio'] = (target2['comment_count']/ target2['view_count']).dropna()\n",
    "result = t.sort_values(by='ratio', ascending=False).head(1).title\n",
    "print(result.values[0])\n",
    "# print(result.head(1).title.values[0])"
   ]
  },
  {
   "cell_type": "code",
   "execution_count": 108,
   "id": "599ce740-d55e-4fd0-bdb3-6f87405e7630",
   "metadata": {},
   "outputs": [
    {
     "name": "stdout",
     "output_type": "stream",
     "text": [
      "Join the BTS #PermissiontoDance Challenge only on YouTube #Shorts\n"
     ]
    }
   ],
   "source": [
    "# Q7\n",
    "# comment_count / view_count 가 최소인 영상(view_count, ratio= 0인 경우는 제외)\n",
    "ratio = (df['comment_count'] / df['view_count']).dropna().sort_values()\n",
    "ratio[ratio!=0].index[0]\n",
    "\n",
    "result = df.iloc[ratio[ratio!=0].index[0]]\n",
    "print(result.title)\n"
   ]
  },
  {
   "cell_type": "code",
   "execution_count": 112,
   "id": "61f6da11-fdd4-4a83-9163-b23fa14aba34",
   "metadata": {},
   "outputs": [
    {
     "name": "stdout",
     "output_type": "stream",
     "text": [
      "[줌터뷰] *최초공개* 사부작즈🐰🐶의 비공식 이름은 아이라인즈? 꿀조합 티키타카 가득한 NCT 127 도영&정우의 줌터뷰\n"
     ]
    }
   ],
   "source": [
    "# Q8\n",
    "# dislike / like 가 적은 영상 \n",
    "# 단, like, dislike == 0 인 건 제외\n",
    "\n",
    "'''\n",
    "target = df.loc[(df.likes != 0 ) & (df.dislikes!=0)]\n",
    "num = (target['dislikes']/target['likes']).sort_values().index[0] -> 인덱스!!\n",
    "\n",
    "answer = df.iloc[num].title\n",
    "print(answer)\n",
    "'''\n",
    "\n",
    "ratio = (df['dislikes']/df['likes']).dropna().sort_values()\n",
    "res = df.iloc[ratio[ratio!=0].index[0]]\n",
    "print(res.title)"
   ]
  },
  {
   "cell_type": "code",
   "execution_count": 125,
   "id": "d0b50ce1-4dac-40c1-a8c2-0c6616bd9b69",
   "metadata": {},
   "outputs": [
    {
     "name": "stdout",
     "output_type": "stream",
     "text": [
      "짤툰\n"
     ]
    }
   ],
   "source": [
    "# 9\n",
    "# 가장 많은 트렌드 영상 제작 채널\n",
    "# 채널 id 기준 빈도수 계산\n",
    "\n",
    "ans = df[df['channelId'] == df['channelId'].value_counts().index[0]].channelTitle.unique()[0]\n",
    "print(ans)"
   ]
  },
  {
   "cell_type": "code",
   "execution_count": 137,
   "id": "67fb15f0-e6a2-416f-8f41-36c8b1382762",
   "metadata": {},
   "outputs": [
    {
     "name": "stdout",
     "output_type": "stream",
     "text": [
      "40\n"
     ]
    }
   ],
   "source": [
    "# 10\n",
    "ans = df[['title','channelId']].value_counts()\n",
    "# ans = df.groupby(['title', 'channelId']).value_counts() # xxx -> groupby -> value_counts 존재 x\n",
    "print(len(ans[ans>=20]))"
   ]
  },
  {
   "cell_type": "markdown",
   "id": "af9e0c0b-3374-4fba-a20e-079249160a19",
   "metadata": {},
   "source": [
    "### 유튜브 공범컨텐츠 동영상 데이터"
   ]
  },
  {
   "cell_type": "code",
   "execution_count": 139,
   "id": "ff3d8fdb-d493-45b4-b613-52ec80e1843f",
   "metadata": {},
   "outputs": [
    {
     "name": "stdout",
     "output_type": "stream",
     "text": [
      "The history saving thread hit an unexpected error (OperationalError('attempt to write a readonly database')).History will not be written to the database.\n"
     ]
    },
    {
     "data": {
      "text/html": [
       "<div>\n",
       "<style scoped>\n",
       "    .dataframe tbody tr th:only-of-type {\n",
       "        vertical-align: middle;\n",
       "    }\n",
       "\n",
       "    .dataframe tbody tr th {\n",
       "        vertical-align: top;\n",
       "    }\n",
       "\n",
       "    .dataframe thead th {\n",
       "        text-align: right;\n",
       "    }\n",
       "</style>\n",
       "<table border=\"1\" class=\"dataframe\">\n",
       "  <thead>\n",
       "    <tr style=\"text-align: right;\">\n",
       "      <th></th>\n",
       "      <th>channelid</th>\n",
       "      <th>subcnt</th>\n",
       "      <th>viewcnt</th>\n",
       "      <th>videocnt</th>\n",
       "      <th>ct</th>\n",
       "      <th>channelname</th>\n",
       "    </tr>\n",
       "  </thead>\n",
       "  <tbody>\n",
       "    <tr>\n",
       "      <th>0</th>\n",
       "      <td>UCkQCwnkQfgSuPTTnw_Y7v7w</td>\n",
       "      <td>1310000</td>\n",
       "      <td>410238653</td>\n",
       "      <td>736</td>\n",
       "      <td>2021-09-30 03:01:03</td>\n",
       "      <td>꽈뚜룹</td>\n",
       "    </tr>\n",
       "    <tr>\n",
       "      <th>1</th>\n",
       "      <td>UCkQCwnkQfgSuPTTnw_Y7v7w</td>\n",
       "      <td>1310000</td>\n",
       "      <td>412531322</td>\n",
       "      <td>736</td>\n",
       "      <td>2021-09-30 09:01:03</td>\n",
       "      <td>꽈뚜룹</td>\n",
       "    </tr>\n",
       "    <tr>\n",
       "      <th>2</th>\n",
       "      <td>UCkQCwnkQfgSuPTTnw_Y7v7w</td>\n",
       "      <td>1310000</td>\n",
       "      <td>412531322</td>\n",
       "      <td>735</td>\n",
       "      <td>2021-09-30 15:01:03</td>\n",
       "      <td>꽈뚜룹</td>\n",
       "    </tr>\n",
       "    <tr>\n",
       "      <th>3</th>\n",
       "      <td>UCkQCwnkQfgSuPTTnw_Y7v7w</td>\n",
       "      <td>1310000</td>\n",
       "      <td>412531322</td>\n",
       "      <td>737</td>\n",
       "      <td>2021-09-30 21:01:03</td>\n",
       "      <td>꽈뚜룹</td>\n",
       "    </tr>\n",
       "    <tr>\n",
       "      <th>4</th>\n",
       "      <td>UCkQCwnkQfgSuPTTnw_Y7v7w</td>\n",
       "      <td>1320000</td>\n",
       "      <td>412531322</td>\n",
       "      <td>737</td>\n",
       "      <td>2021-10-01 03:01:04</td>\n",
       "      <td>꽈뚜룹</td>\n",
       "    </tr>\n",
       "  </tbody>\n",
       "</table>\n",
       "</div>"
      ],
      "text/plain": [
       "                  channelid   subcnt    viewcnt  videocnt  \\\n",
       "0  UCkQCwnkQfgSuPTTnw_Y7v7w  1310000  410238653       736   \n",
       "1  UCkQCwnkQfgSuPTTnw_Y7v7w  1310000  412531322       736   \n",
       "2  UCkQCwnkQfgSuPTTnw_Y7v7w  1310000  412531322       735   \n",
       "3  UCkQCwnkQfgSuPTTnw_Y7v7w  1310000  412531322       737   \n",
       "4  UCkQCwnkQfgSuPTTnw_Y7v7w  1320000  412531322       737   \n",
       "\n",
       "                    ct channelname  \n",
       "0  2021-09-30 03:01:03         꽈뚜룹  \n",
       "1  2021-09-30 09:01:03         꽈뚜룹  \n",
       "2  2021-09-30 15:01:03         꽈뚜룹  \n",
       "3  2021-09-30 21:01:03         꽈뚜룹  \n",
       "4  2021-10-01 03:01:04         꽈뚜룹  "
      ]
     },
     "metadata": {},
     "output_type": "display_data"
    },
    {
     "data": {
      "text/html": [
       "<div>\n",
       "<style scoped>\n",
       "    .dataframe tbody tr th:only-of-type {\n",
       "        vertical-align: middle;\n",
       "    }\n",
       "\n",
       "    .dataframe tbody tr th {\n",
       "        vertical-align: top;\n",
       "    }\n",
       "\n",
       "    .dataframe thead th {\n",
       "        text-align: right;\n",
       "    }\n",
       "</style>\n",
       "<table border=\"1\" class=\"dataframe\">\n",
       "  <thead>\n",
       "    <tr style=\"text-align: right;\">\n",
       "      <th></th>\n",
       "      <th>videopk</th>\n",
       "      <th>viewcnt</th>\n",
       "      <th>likecnt</th>\n",
       "      <th>dislikecnt</th>\n",
       "      <th>favoritecnt</th>\n",
       "      <th>cmcnt</th>\n",
       "      <th>ct</th>\n",
       "      <th>videoname</th>\n",
       "    </tr>\n",
       "  </thead>\n",
       "  <tbody>\n",
       "    <tr>\n",
       "      <th>0</th>\n",
       "      <td>c5JQp6xafqc</td>\n",
       "      <td>1667010</td>\n",
       "      <td>30474</td>\n",
       "      <td>706</td>\n",
       "      <td>0</td>\n",
       "      <td>6587</td>\n",
       "      <td>2021-10-10 15:20:03</td>\n",
       "      <td>공범 EP1</td>\n",
       "    </tr>\n",
       "    <tr>\n",
       "      <th>1</th>\n",
       "      <td>c5JQp6xafqc</td>\n",
       "      <td>1669089</td>\n",
       "      <td>30495</td>\n",
       "      <td>707</td>\n",
       "      <td>0</td>\n",
       "      <td>6589</td>\n",
       "      <td>2021-10-10 15:30:03</td>\n",
       "      <td>공범 EP1</td>\n",
       "    </tr>\n",
       "    <tr>\n",
       "      <th>2</th>\n",
       "      <td>c5JQp6xafqc</td>\n",
       "      <td>1674759</td>\n",
       "      <td>30522</td>\n",
       "      <td>711</td>\n",
       "      <td>0</td>\n",
       "      <td>6596</td>\n",
       "      <td>2021-10-10 15:40:02</td>\n",
       "      <td>공범 EP1</td>\n",
       "    </tr>\n",
       "    <tr>\n",
       "      <th>3</th>\n",
       "      <td>c5JQp6xafqc</td>\n",
       "      <td>1677026</td>\n",
       "      <td>30555</td>\n",
       "      <td>712</td>\n",
       "      <td>0</td>\n",
       "      <td>6604</td>\n",
       "      <td>2021-10-10 15:50:03</td>\n",
       "      <td>공범 EP1</td>\n",
       "    </tr>\n",
       "    <tr>\n",
       "      <th>4</th>\n",
       "      <td>c5JQp6xafqc</td>\n",
       "      <td>1681824</td>\n",
       "      <td>30585</td>\n",
       "      <td>713</td>\n",
       "      <td>0</td>\n",
       "      <td>6600</td>\n",
       "      <td>2021-10-10 16:00:03</td>\n",
       "      <td>공범 EP1</td>\n",
       "    </tr>\n",
       "  </tbody>\n",
       "</table>\n",
       "</div>"
      ],
      "text/plain": [
       "       videopk  viewcnt  likecnt  dislikecnt  favoritecnt  cmcnt  \\\n",
       "0  c5JQp6xafqc  1667010    30474         706            0   6587   \n",
       "1  c5JQp6xafqc  1669089    30495         707            0   6589   \n",
       "2  c5JQp6xafqc  1674759    30522         711            0   6596   \n",
       "3  c5JQp6xafqc  1677026    30555         712            0   6604   \n",
       "4  c5JQp6xafqc  1681824    30585         713            0   6600   \n",
       "\n",
       "                    ct videoname  \n",
       "0  2021-10-10 15:20:03    공범 EP1  \n",
       "1  2021-10-10 15:30:03    공범 EP1  \n",
       "2  2021-10-10 15:40:02    공범 EP1  \n",
       "3  2021-10-10 15:50:03    공범 EP1  \n",
       "4  2021-10-10 16:00:03    공범 EP1  "
      ]
     },
     "metadata": {},
     "output_type": "display_data"
    }
   ],
   "source": [
    "import pandas as pd\n",
    "channel =pd.read_csv('https://raw.githubusercontent.com/Datamanim/datarepo/main/youtube/channelInfo.csv')\n",
    "video =pd.read_csv('https://raw.githubusercontent.com/Datamanim/datarepo/main/youtube/videoInfo.csv')\n",
    "display(channel.head())\n",
    "display(video.head())"
   ]
  },
  {
   "cell_type": "code",
   "execution_count": null,
   "id": "5b31563c-d8c2-4955-abf2-2de456bbda80",
   "metadata": {},
   "outputs": [],
   "source": []
  }
 ],
 "metadata": {
  "kernelspec": {
   "display_name": "Python 3 (ipykernel)",
   "language": "python",
   "name": "python3"
  },
  "language_info": {
   "codemirror_mode": {
    "name": "ipython",
    "version": 3
   },
   "file_extension": ".py",
   "mimetype": "text/x-python",
   "name": "python",
   "nbconvert_exporter": "python",
   "pygments_lexer": "ipython3",
   "version": "3.10.14"
  }
 },
 "nbformat": 4,
 "nbformat_minor": 5
}
