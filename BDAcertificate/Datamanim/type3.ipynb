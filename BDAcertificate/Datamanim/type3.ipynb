{
 "cells": [
  {
   "cell_type": "markdown",
   "id": "8290606f-a581-445a-9950-293fec68834d",
   "metadata": {},
   "source": [
    "# SciPy tutorial"
   ]
  },
  {
   "cell_type": "code",
   "execution_count": 1,
   "id": "2e532870-6728-4343-a36e-c3f51aff0da3",
   "metadata": {},
   "outputs": [
    {
     "data": {
      "image/png": "[encoded data removed]",
      "text/plain": [
       "<Figure size 640x480 with 1 Axes>"
      ]
     },
     "metadata": {},
     "output_type": "display_data"
    }
   ],
   "source": [
    "# 정규성 검정\n",
    "import pandas as pd\n",
    "import matplotlib.pyplot as plt\n",
    "df = pd.read_csv('https://raw.githubusercontent.com/Datamanim/datarepo/main/scipy/normal1.csv')\n",
    "plt.hist(df)\n",
    "plt.show()"
   ]
  },
  {
   "cell_type": "code",
   "execution_count": 2,
   "id": "424c0511-af9e-42a0-8caf-cd17c518d118",
   "metadata": {},
   "outputs": [
    {
     "name": "stdout",
     "output_type": "stream",
     "text": [
      "['BootstrapMethod', 'CensoredData', 'ConstantInputWarning', 'Covariance', 'DegenerateDataWarning', 'FitError', 'MonteCarloMethod', 'NearConstantInputWarning', 'PermutationMethod', '__all__', '__builtins__', '__cached__', '__doc__', '__file__', '__loader__', '__name__', '__package__', '__path__', '__spec__', '_ansari_swilk_statistics', '_axis_nan_policy', '_biasedurn', '_binned_statistic', '_binomtest', '_boost', '_bws_test', '_censored_data', '_common', '_constants', '_continuous_distns', '_covariance', '_crosstab', '_discrete_distns', '_distn_infrastructure', '_distr_params', '_entropy', '_fit', '_hypotests', '_kde', '_ksstats', '_levy_stable', '_mannwhitneyu', '_morestats', '_mstats_basic', '_mstats_extras', '_multicomp', '_multivariate', '_mvn', '_odds_ratio', '_page_trend_test', '_qmc', '_qmc_cy', '_qmvnt', '_rcont', '_relative_risk', '_resampling', '_rvs_sampling', '_sampling', '_sensitivity_analysis', '_sobol', '_stats', '_stats_mstats_common', '_stats_py', '_stats_pythran', '_survival', '_tukeylambda_stats', '_unuran', '_variation', '_warnings_errors', '_wilcoxon', 'alexandergovern', 'alpha', 'anderson', 'anderson_ksamp', 'anglit', 'ansari', 'arcsine', 'argus', 'barnard_exact', 'bartlett', 'bayes_mvs', 'bernoulli', 'beta', 'betabinom', 'betanbinom', 'betaprime', 'biasedurn', 'binned_statistic', 'binned_statistic_2d', 'binned_statistic_dd', 'binom', 'binomtest', 'boltzmann', 'bootstrap', 'boschloo_exact', 'boxcox', 'boxcox_llf', 'boxcox_normmax', 'boxcox_normplot', 'bradford', 'brunnermunzel', 'burr', 'burr12', 'bws_test', 'cauchy', 'chi', 'chi2', 'chi2_contingency', 'chisquare', 'circmean', 'circstd', 'circvar', 'combine_pvalues', 'contingency', 'cosine', 'cramervonmises', 'cramervonmises_2samp', 'crystalball', 'cumfreq', 'describe', 'dgamma', 'differential_entropy', 'directional_stats', 'dirichlet', 'dirichlet_multinomial', 'distributions', 'dlaplace', 'dunnett', 'dweibull', 'ecdf', 'energy_distance', 'entropy', 'epps_singleton_2samp', 'erlang', 'expectile', 'expon', 'exponnorm', 'exponpow', 'exponweib', 'f', 'f_oneway', 'false_discovery_control', 'fatiguelife', 'find_repeats', 'fisher_exact', 'fisk', 'fit', 'fligner', 'foldcauchy', 'foldnorm', 'friedmanchisquare', 'gamma', 'gausshyper', 'gaussian_kde', 'genexpon', 'genextreme', 'gengamma', 'genhalflogistic', 'genhyperbolic', 'geninvgauss', 'genlogistic', 'gennorm', 'genpareto', 'geom', 'gibrat', 'gmean', 'gompertz', 'goodness_of_fit', 'gstd', 'gumbel_l', 'gumbel_r', 'gzscore', 'halfcauchy', 'halfgennorm', 'halflogistic', 'halfnorm', 'hmean', 'hypergeom', 'hypsecant', 'invgamma', 'invgauss', 'invweibull', 'invwishart', 'iqr', 'jarque_bera', 'jf_skew_t', 'johnsonsb', 'johnsonsu', 'kappa3', 'kappa4', 'kde', 'kendalltau', 'kruskal', 'ks_1samp', 'ks_2samp', 'ksone', 'kstat', 'kstatvar', 'kstest', 'kstwo', 'kstwobign', 'kurtosis', 'kurtosistest', 'laplace', 'laplace_asymmetric', 'levene', 'levy', 'levy_l', 'levy_stable', 'linregress', 'loggamma', 'logistic', 'loglaplace', 'lognorm', 'logrank', 'logser', 'loguniform', 'lomax', 'mannwhitneyu', 'matrix_normal', 'maxwell', 'median_abs_deviation', 'median_test', 'mielke', 'mode', 'moment', 'monte_carlo_test', 'mood', 'morestats', 'moyal', 'mstats', 'mstats_basic', 'mstats_extras', 'multinomial', 'multiscale_graphcorr', 'multivariate_hypergeom', 'multivariate_normal', 'multivariate_t', 'mvn', 'mvsdist', 'nakagami', 'nbinom', 'ncf', 'nchypergeom_fisher', 'nchypergeom_wallenius', 'nct', 'ncx2', 'nhypergeom', 'norm', 'normaltest', 'norminvgauss', 'obrientransform', 'ortho_group', 'page_trend_test', 'pareto', 'pearson3', 'pearsonr', 'percentileofscore', 'permutation_test', 'planck', 'pmean', 'pointbiserialr', 'poisson', 'poisson_means_test', 'power_divergence', 'powerlaw', 'powerlognorm', 'powernorm', 'ppcc_max', 'ppcc_plot', 'probplot', 'qmc', 'quantile_test', 'randint', 'random_correlation', 'random_table', 'rankdata', 'ranksums', 'rayleigh', 'rdist', 'recipinvgauss', 'reciprocal', 'rel_breitwigner', 'relfreq', 'rice', 'rv_continuous', 'rv_discrete', 'rv_histogram', 'rvs_ratio_uniforms', 'sampling', 'scoreatpercentile', 'sem', 'semicircular', 'shapiro', 'siegelslopes', 'sigmaclip', 'skellam', 'skew', 'skewcauchy', 'skewnorm', 'skewtest', 'sobol_indices', 'somersd', 'spearmanr', 'special_ortho_group', 'stats', 'studentized_range', 't', 'test', 'theilslopes', 'tiecorrect', 'tmax', 'tmean', 'tmin', 'trapezoid', 'trapz', 'triang', 'trim1', 'trim_mean', 'trimboth', 'truncexpon', 'truncnorm', 'truncpareto', 'truncweibull_min', 'tsem', 'tstd', 'ttest_1samp', 'ttest_ind', 'ttest_ind_from_stats', 'ttest_rel', 'tukey_hsd', 'tukeylambda', 'tvar', 'uniform', 'uniform_direction', 'unitary_group', 'variation', 'vonmises', 'vonmises_fisher', 'vonmises_line', 'wald', 'wasserstein_distance', 'wasserstein_distance_nd', 'weibull_max', 'weibull_min', 'weightedtau', 'wilcoxon', 'wishart', 'wrapcauchy', 'yeojohnson', 'yeojohnson_llf', 'yeojohnson_normmax', 'yeojohnson_normplot', 'yulesimon', 'zipf', 'zipfian', 'zmap', 'zscore']\n"
     ]
    }
   ],
   "source": [
    "from scipy import stats\n",
    "print(dir(stats))"
   ]
  },
  {
   "cell_type": "code",
   "execution_count": 3,
   "id": "b1849d5e-9d7d-442c-8ca9-da9fc4d10a62",
   "metadata": {},
   "outputs": [
    {
     "name": "stdout",
     "output_type": "stream",
     "text": [
      "ShapiroResult(statistic=0.9981433805517022, pvalue=0.34796592330595577)\n"
     ]
    }
   ],
   "source": [
    "# 정규성 검정\n",
    "from scipy.stats import shapiro\n",
    "print(shapiro(df))"
   ]
  },
  {
   "cell_type": "markdown",
   "id": "a9259972-70c9-443a-8176-2f7282850a43",
   "metadata": {},
   "source": [
    "-> 샤피로 검정 시, p-value=0.35 -> 유의수준 5%에서 귀무가설 기각 불가\n",
    "=> 귀무가설 채택. 정규성을 가진다.<br>\n",
    "<br>\n",
    "p-value가 유의수준보다 크면, 유의하므로 귀무가설 기각할 수 없음 -> 귀무가설 채택<br>\n",
    "p-value < 유의수준이면, 유의하지 않으므로, 귀무가설 기각 -> 대립가설 채택"
   ]
  },
  {
   "cell_type": "code",
   "execution_count": 4,
   "id": "5ea1e0fe-67e0-4204-adca-e3d87258ddb5",
   "metadata": {},
   "outputs": [
    {
     "data": {
      "image/png": "[encoded data removed]",
      "text/plain": [
       "<Figure size 640x480 with 1 Axes>"
      ]
     },
     "metadata": {},
     "output_type": "display_data"
    }
   ],
   "source": [
    "# 2\n",
    "import pandas as pd\n",
    "import matplotlib.pyplot as plt\n",
    "df = pd.read_csv('https://raw.githubusercontent.com/Datamanim/datarepo/main/scipy/normal3.csv')\n",
    "plt.hist(df)\n",
    "plt.show()"
   ]
  },
  {
   "cell_type": "code",
   "execution_count": 5,
   "id": "9e594eed-a149-448c-af5b-a7180c99651e",
   "metadata": {},
   "outputs": [
    {
     "name": "stdout",
     "output_type": "stream",
     "text": [
      "ShapiroResult(statistic=0.9578887230674161, pvalue=2.3098528601775786e-16)\n"
     ]
    }
   ],
   "source": [
    "from scipy.stats import shapiro\n",
    "print(shapiro(df))"
   ]
  },
  {
   "cell_type": "markdown",
   "id": "1c2cfc18-494c-4258-8e01-cc40e31411f3",
   "metadata": {},
   "source": [
    "**p-value = 2.3e-16** (아주 작은수...)\n",
    "-> p-value < 0.05 : 유의수준 5%에서 귀무가설 기각 가능, 대립가설 채택<br>\n",
    "=> 데이터는 정규성을 가지지 않는다."
   ]
  },
  {
   "cell_type": "code",
   "execution_count": 6,
   "id": "9044b77c-b9cc-47f7-92e7-89a845878b02",
   "metadata": {},
   "outputs": [
    {
     "data": {
      "image/png": "[encoded data removed]",
      "text/plain": [
       "<Figure size 640x480 with 1 Axes>"
      ]
     },
     "metadata": {},
     "output_type": "display_data"
    }
   ],
   "source": [
    "# 3 log 변환 후 정규성 가지는 지 확인\n",
    "import numpy as np\n",
    "import matplotlib.pyplot as plt\n",
    "import pandas as pd\n",
    "\n",
    "df = pd.read_csv('https://raw.githubusercontent.com/Datamanim/datarepo/main/scipy/normal3.csv')\n",
    "log_y_data = np.log1p(df)  # 로그변환!!!!!!\n",
    "plt.hist(log_y_data)\n",
    "plt.show()"
   ]
  },
  {
   "cell_type": "code",
   "execution_count": 8,
   "id": "ba152b88-6536-4db2-852c-dc6fe5d922e4",
   "metadata": {},
   "outputs": [
    {
     "name": "stdout",
     "output_type": "stream",
     "text": [
      "ShapiroResult(statistic=0.9976879570377135, pvalue=0.17513126966872208)\n"
     ]
    }
   ],
   "source": [
    "from scipy.stats import shapiro\n",
    "print(shapiro(log_y_data))"
   ]
  },
  {
   "cell_type": "markdown",
   "id": "938842be-15d8-4bf5-bd6b-6590a915ab9f",
   "metadata": {},
   "source": [
    "로그변환 한 데이터 -> p-value > 0.05 귀무가설 기각불가. 귀무가설 채택 <br>\n",
    "=> 정규성을 가진다."
   ]
  },
  {
   "cell_type": "code",
   "execution_count": 9,
   "id": "699d4080-9bf8-4d65-8006-32becad8aa17",
   "metadata": {},
   "outputs": [
    {
     "data": {
      "image/png": "[encoded data removed]",
      "text/plain": [
       "<Figure size 640x480 with 1 Axes>"
      ]
     },
     "metadata": {},
     "output_type": "display_data"
    }
   ],
   "source": [
    "# 7\n",
    "import pandas as pd\n",
    "import numpy as np\n",
    "import matplotlib.pyplot as plt\n",
    "\n",
    "df = pd.read_csv('https://raw.githubusercontent.com/Datamanim/datarepo/main/scipy/normal6.csv')\n",
    "plt.hist(df)\n",
    "plt.show()"
   ]
  },
  {
   "cell_type": "code",
   "execution_count": 10,
   "id": "c1565b0b-e86f-4f7b-bf04-8c586f245503",
   "metadata": {},
   "outputs": [
    {
     "name": "stdout",
     "output_type": "stream",
     "text": [
      "ShapiroResult(statistic=0.9995353804150279, pvalue=0.15046155392344363)\n"
     ]
    },
    {
     "name": "stderr",
     "output_type": "stream",
     "text": [
      "/opt/homebrew/Caskroom/miniforge/base/lib/python3.10/site-packages/scipy/stats/_axis_nan_policy.py:531: UserWarning: scipy.stats.shapiro: For N > 5000, computed p-value may not be accurate. Current N is 6000.\n",
      "  res = hypotest_fun_out(*samples, **kwds)\n"
     ]
    }
   ],
   "source": [
    "from scipy.stats import shapiro\n",
    "\n",
    "print(shapiro(df))"
   ]
  },
  {
   "cell_type": "markdown",
   "id": "bc9f82f7-07fe-48de-8ecd-f9c0842759dd",
   "metadata": {},
   "source": [
    "shapiro 검정 시, p-value > 0.05 이므로 귀무가설 유의함. 귀무가설 기각 불가. 귀무가설 채택<br>\n",
    "**경고메세지**\n",
    "5000개 초과의 샘플에 대해서 샤피로 검정은 정확하지 않을 수 o <br>\n",
    "=> anderson 검정"
   ]
  },
  {
   "cell_type": "code",
   "execution_count": 12,
   "id": "801518f3-db1b-4607-9c0a-3f8e5b735639",
   "metadata": {},
   "outputs": [
    {
     "name": "stdout",
     "output_type": "stream",
     "text": [
      "AndersonResult(statistic=0.8266993530396576, critical_values=array([0.576, 0.656, 0.786, 0.917, 1.091]), significance_level=array([15. , 10. ,  5. ,  2.5,  1. ]), fit_result=  params: FitParams(loc=299.95980319533163, scale=5.03180688788513)\n",
      " success: True\n",
      " message: '`anderson` successfully fit the distribution to the data.')\n"
     ]
    }
   ],
   "source": [
    "# anderson 검정(N > 5000)\n",
    "from scipy.stats import anderson\n",
    "print(anderson(df['data'].values))"
   ]
  },
  {
   "cell_type": "markdown",
   "id": "026865a0-cfd1-42d0-b0ef-422d6b46d134",
   "metadata": {},
   "source": [
    "### anderson 검정 결과 해석\n",
    "significance_level : 유의 확률값\n",
    "critical_values : 각 유의확률 값의 기준점\n",
    "- 유의수준 5%에서 검정 진행 -> significance_level 5.에서 확인 => critical_values= 0.786\n",
    "- statistic = 0.82\n",
    "- **p-value로 판단할 때와 반대..**\n",
    "- 0.82 > 0.786 (statistic > critical_values) => 귀무가설 기각. 대립가설 채택\n",
    "=> 정규성을 가지지 않는다."
   ]
  },
  {
   "cell_type": "markdown",
   "id": "d1a63b31-3335-441a-8d31-716e2c170be3",
   "metadata": {},
   "source": [
    "# 단일 표본 t-검정(one-sample)"
   ]
  },
  {
   "cell_type": "markdown",
   "id": "1ef24fe1-8d25-4a82-b144-4419a6a21bbb",
   "metadata": {},
   "source": [
    "100명의 키 정보가 들어 있는 데이터가 있다.데이터가 정규성을 만족하는지 확인하라.\n",
    "그리고 평균키는 165라 판단할수 있는지 귀무가설과 대립가설을 설정한 후 유의수준 5%로 검정하라."
   ]
  },
  {
   "cell_type": "markdown",
   "id": "a9a6d797-198f-49fa-a53c-ce943dc71932",
   "metadata": {},
   "source": [
    "1. 데이터가 정규성을 만족하는지 확인\n",
    "2. 정규성을 만족하는 경우\n",
    "   - 평균 165인지 검정 : 단일 표본 t-검정\n",
    "\n",
    "3. 정규성을 만족하지 않는 경우\n",
    "   - 평균 165인지 검정: 윌콕슨 부호순위 검정(비모수)\n",
    "   - 샘플이 정규분포를 따르지 않으므로,\n",
    "   - 평균이 아닌 중앙값 기준의 검정 수행\n",
    "   - df['height'] - 165 형태로 중심값을 기준으로 편차의 부호/순위 계산"
   ]
  },
  {
   "cell_type": "code",
   "execution_count": 13,
   "id": "2a0f8b86-8600-4132-9dc1-5cef26e92d1e",
   "metadata": {},
   "outputs": [
    {
     "data": {
      "image/png": "[encoded data removed]",
      "text/plain": [
       "<Figure size 640x480 with 1 Axes>"
      ]
     },
     "metadata": {},
     "output_type": "display_data"
    }
   ],
   "source": [
    "import pandas as pd\n",
    "import matplotlib.pyplot as plt\n",
    "df = pd.read_csv('https://raw.githubusercontent.com/Datamanim/datarepo/main/scipy/height1.csv')\n",
    "plt.hist(df)\n",
    "plt.show()"
   ]
  },
  {
   "cell_type": "code",
   "execution_count": 14,
   "id": "63eea8ab-918e-4960-89e7-b5d93fef585b",
   "metadata": {},
   "outputs": [
    {
     "name": "stdout",
     "output_type": "stream",
     "text": [
      "ShapiroResult(statistic=0.9872671038154957, pvalue=0.45583339816328994)\n"
     ]
    }
   ],
   "source": [
    "from scipy.stats import shapiro\n",
    "print(shapiro(df))"
   ]
  },
  {
   "cell_type": "markdown",
   "id": "c8163890-db68-4607-9ba4-34940176a8ee",
   "metadata": {},
   "source": [
    "p-value > 0.05 이므로 귀무가설 유의. 기각불가. 정규성을 만족한다."
   ]
  },
  {
   "cell_type": "code",
   "execution_count": 15,
   "id": "ae00a2f2-d168-4b0b-9267-a5d7a409f84d",
   "metadata": {},
   "outputs": [
    {
     "name": "stdout",
     "output_type": "stream",
     "text": [
      "샤피로 정규성 검정 p-value:  0.45583339816328994 이므로\n",
      "귀무가설 기각\n"
     ]
    }
   ],
   "source": [
    "# 평균키 = 165라 할 수 있는지 귀무가설, 대립가설 설정 후 유의수준 5% 검정\n",
    "# H0: m = 165 , H1: m != 165\n",
    "\n",
    "from scipy.stats import ttest_1samp, shapiro, wilcoxon\n",
    "# 데이터의 정규성 먼저 검정\n",
    "static, pvalue = shapiro(df)\n",
    "print('샤피로 정규성 검정 p-value: ', pvalue,'이므로')\n",
    "\n",
    "# 데이터가 정규성을 만족하지 않는 경우\n",
    "if pvalue < 0.05 : \n",
    "    print('귀무가설 기각. 정규성 만족하지 않으므로 비모수 검정 진행. 윌콕슨 순위 부호 검정 진행')\n",
    "\n",
    "    # 윌콕슨 부호순위 검정\n",
    "    static, pvalue = wilcoxon(df['height']-165)\n",
    "    # static, pvalue = wilcoxon(df['height'], np.ones(len(df) * 165) # 여러 표본쌍을 비교할 때 일반적인 형식\n",
    "\n",
    "    if pvalue < 0.05:\n",
    "        print(f'검정결과 pvalue 는 {pvalue}이므로 귀무가설 기각. 평균은 165가 아니다')\n",
    "    else:\n",
    "        print('평균은 165')\n",
    "\n",
    "# 데이터가 정규성을 만족하는 경우 -> t-검정\n",
    "else:\n",
    "    # 단일 표본 t검정\n",
    "    static, pvalue = ttest_1samp(df['height'], 165)\n",
    "    if pvalue < 0.05:\n",
    "        print('귀무가설 기각')\n",
    "    else:\n",
    "        print('귀무가설 채택')\n",
    "    "
   ]
  },
  {
   "cell_type": "markdown",
   "id": "3e202e82-3bd5-4f9e-8d77-8912d72c2221",
   "metadata": {},
   "source": [
    "## 등분산 검정\n",
    "두개 학급의 시험성적에 대한 데이터이다 그룹간 등분산 검정을 시행하라"
   ]
  },
  {
   "cell_type": "code",
   "execution_count": 16,
   "id": "8268c19c-0e31-489e-8ea7-bea469d194d8",
   "metadata": {},
   "outputs": [
    {
     "data": {
      "text/html": [
       "<div>\n",
       "<style scoped>\n",
       "    .dataframe tbody tr th:only-of-type {\n",
       "        vertical-align: middle;\n",
       "    }\n",
       "\n",
       "    .dataframe tbody tr th {\n",
       "        vertical-align: top;\n",
       "    }\n",
       "\n",
       "    .dataframe thead th {\n",
       "        text-align: right;\n",
       "    }\n",
       "</style>\n",
       "<table border=\"1\" class=\"dataframe\">\n",
       "  <thead>\n",
       "    <tr style=\"text-align: right;\">\n",
       "      <th></th>\n",
       "      <th>class</th>\n",
       "      <th>score</th>\n",
       "    </tr>\n",
       "  </thead>\n",
       "  <tbody>\n",
       "    <tr>\n",
       "      <th>0</th>\n",
       "      <td>A</td>\n",
       "      <td>84</td>\n",
       "    </tr>\n",
       "    <tr>\n",
       "      <th>1</th>\n",
       "      <td>A</td>\n",
       "      <td>59</td>\n",
       "    </tr>\n",
       "    <tr>\n",
       "      <th>2</th>\n",
       "      <td>A</td>\n",
       "      <td>49</td>\n",
       "    </tr>\n",
       "    <tr>\n",
       "      <th>3</th>\n",
       "      <td>A</td>\n",
       "      <td>57</td>\n",
       "    </tr>\n",
       "    <tr>\n",
       "      <th>4</th>\n",
       "      <td>A</td>\n",
       "      <td>82</td>\n",
       "    </tr>\n",
       "  </tbody>\n",
       "</table>\n",
       "</div>"
      ],
      "text/plain": [
       "  class  score\n",
       "0     A     84\n",
       "1     A     59\n",
       "2     A     49\n",
       "3     A     57\n",
       "4     A     82"
      ]
     },
     "execution_count": 16,
     "metadata": {},
     "output_type": "execute_result"
    }
   ],
   "source": [
    "import pandas as pd\n",
    "df = pd.read_csv('https://raw.githubusercontent.com/Datamanim/datarepo/main/scipy/scipy2.csv')\n",
    "df.head()"
   ]
  },
  {
   "cell_type": "code",
   "execution_count": 19,
   "id": "7a548141-3022-4bed-a06b-c5ce444f917f",
   "metadata": {},
   "outputs": [
    {
     "name": "stdout",
     "output_type": "stream",
     "text": [
      "BartlettResult(statistic=0.26035880448930865, pvalue=0.609873758447687)\n",
      "FlignerResult(statistic=0.7281251154135562, pvalue=0.39349158741002765)\n",
      "FlignerResult(statistic=0.8272211734319945, pvalue=0.36307728836821906)\n",
      "LeveneResult(statistic=0.3145466542912649, pvalue=0.5751662820554713)\n",
      "LeveneResult(statistic=0.5086970687685527, pvalue=0.4760514837800255)\n"
     ]
    }
   ],
   "source": [
    "# 등분산 검정 - 3가지 방법\n",
    "from scipy.stats import bartlett\n",
    "from scipy.stats import fligner\n",
    "from scipy.stats import levene\n",
    "\n",
    "# a, b: pandas.Series 객체\n",
    "a = df[df['class'] == 'A'].score\n",
    "b = df[df['class'] == 'B'].score\n",
    "\n",
    "#bartlett : 데이터가 정규분포일때 (계산기준 -> 평균)\n",
    "print(bartlett(a,b))\n",
    "\n",
    "print(fligner(a,b,center='median')) # default\n",
    "print(fligner(a,b,center='mean'))\n",
    "# fligner() : 함수 내부에서 각 그룹의 분산(산포도)를 측정할 때, \n",
    "# 데이터 중심으로부터 얼마나 떨어져 있는지를 측정해야됨\n",
    "# 중심을 어떤 값으로 보느냐 -> center 옵션(기본값: 'median')\n",
    "# mean: 각 그룹의 평균을 중심으로 분산 계산\n",
    "# trimmed: 양 끝 10%를 제외한 절사 평균 사용\n",
    "\n",
    "print(levene(a,b,center='median')) # default\n",
    "print(levene(a,b,center='mean'))"
   ]
  },
  {
   "cell_type": "markdown",
   "id": "d1291a3c-0bdf-4b73-825b-39320dcb29e2",
   "metadata": {},
   "source": [
    "**center설정**<br>\n",
    "mean: 이상치에 민감 <br>\n",
    "median: 비정규분포나 이상치가 있는 데이터에서 훨씬 안정적 <br>\n",
    "trimmed mean: 극단 값을 잘라내고 평균을 내서 둘 사이의 절충값 <br>\n",
    "\n",
    "**함수 선정 기준**\n",
    "- bartlett(): 정규분포+등분산 검정\n",
    "- levene(): 정규성 여부 애매할 때\n",
    "- fligner(): 정규성 완전히 무시하고 싶을 때"
   ]
  },
  {
   "cell_type": "markdown",
   "id": "711c5629-9e37-4b3e-b614-fa81ee8a8b4b",
   "metadata": {},
   "source": [
    "모든 p-value > 0.05 이므로 귀무가설이 유의함. 귀무가설 기각 불가.<br>\n",
    "=> 등분산성을 만족한다."
   ]
  },
  {
   "cell_type": "markdown",
   "id": "bb589084-eef5-43d3-bfbd-00bdf6c71eb4",
   "metadata": {},
   "source": [
    "두개 학급의 시험성적에 대한 데이터이다 그룹간 등분산 검정을 시행하라\n",
    "\n"
   ]
  },
  {
   "cell_type": "code",
   "execution_count": 22,
   "id": "671b3e73-6747-46d4-aa43-61c67b460edf",
   "metadata": {},
   "outputs": [
    {
     "name": "stdout",
     "output_type": "stream",
     "text": [
      "    class  score\n",
      "0       A     32\n",
      "1       A     69\n",
      "2       A     68\n",
      "3       A     60\n",
      "4       A     78\n",
      "..    ...    ...\n",
      "475     B     60\n",
      "476     B     56\n",
      "477     B     56\n",
      "478     B     52\n",
      "479     B     77\n",
      "\n",
      "[480 rows x 2 columns]\n"
     ]
    }
   ],
   "source": [
    "import pandas as pd\n",
    "df = pd.read_csv('https://raw.githubusercontent.com/Datamanim/datarepo/main/scipy/scipy3.csv')\n",
    "print(df)"
   ]
  },
  {
   "cell_type": "code",
   "execution_count": 23,
   "id": "13ebf444-a16d-4e5d-947c-e675eb0e1d43",
   "metadata": {},
   "outputs": [
    {
     "name": "stdout",
     "output_type": "stream",
     "text": [
      "FlignerResult(statistic=4.960366756026232, pvalue=0.025934706256615536)\n"
     ]
    }
   ],
   "source": [
    "from scipy.stats import fligner\n",
    "\n",
    "# 그룹별로 분리\n",
    "a = df[df['class'] == 'A'].score\n",
    "b = df[df['class'] == 'B'].score\n",
    "\n",
    "print(fligner(a,b,center='median'))\n"
   ]
  },
  {
   "cell_type": "markdown",
   "id": "d75bcc8e-5ebc-4d42-ab34-f3ce7466eaa3",
   "metadata": {},
   "source": [
    "fligner, levene는 bartlett보다 좀 더 robust하다는 특징이 o    \n",
    "- robust하다는건.. 모델이 더 튼튼하고 강력함\n",
    "- 입력데이터의 이상치나 노이즈에 민감하게 흔들리지 x"
   ]
  },
  {
   "cell_type": "markdown",
   "id": "01d8165b-4d97-45de-a1ea-4ac1dc957d77",
   "metadata": {},
   "source": [
    "---\n",
    "두개 학급의 시험성적에 대한 데이터이다 그룹간 등분산 검정을 시행하라"
   ]
  },
  {
   "cell_type": "code",
   "execution_count": 24,
   "id": "5ea51bc5-496f-4409-b7f1-2f0d6c7a76a6",
   "metadata": {},
   "outputs": [
    {
     "data": {
      "text/html": [
       "<div>\n",
       "<style scoped>\n",
       "    .dataframe tbody tr th:only-of-type {\n",
       "        vertical-align: middle;\n",
       "    }\n",
       "\n",
       "    .dataframe tbody tr th {\n",
       "        vertical-align: top;\n",
       "    }\n",
       "\n",
       "    .dataframe thead th {\n",
       "        text-align: right;\n",
       "    }\n",
       "</style>\n",
       "<table border=\"1\" class=\"dataframe\">\n",
       "  <thead>\n",
       "    <tr style=\"text-align: right;\">\n",
       "      <th></th>\n",
       "      <th>A</th>\n",
       "      <th>B</th>\n",
       "    </tr>\n",
       "  </thead>\n",
       "  <tbody>\n",
       "    <tr>\n",
       "      <th>0</th>\n",
       "      <td>44</td>\n",
       "      <td>36</td>\n",
       "    </tr>\n",
       "    <tr>\n",
       "      <th>1</th>\n",
       "      <td>61</td>\n",
       "      <td>92</td>\n",
       "    </tr>\n",
       "    <tr>\n",
       "      <th>2</th>\n",
       "      <td>76</td>\n",
       "      <td>41</td>\n",
       "    </tr>\n",
       "    <tr>\n",
       "      <th>3</th>\n",
       "      <td>64</td>\n",
       "      <td>45</td>\n",
       "    </tr>\n",
       "    <tr>\n",
       "      <th>4</th>\n",
       "      <td>65</td>\n",
       "      <td>35</td>\n",
       "    </tr>\n",
       "  </tbody>\n",
       "</table>\n",
       "</div>"
      ],
      "text/plain": [
       "    A   B\n",
       "0  44  36\n",
       "1  61  92\n",
       "2  76  41\n",
       "3  64  45\n",
       "4  65  35"
      ]
     },
     "execution_count": 24,
     "metadata": {},
     "output_type": "execute_result"
    }
   ],
   "source": [
    "import pandas as pd\n",
    "\n",
    "df = pd.read_csv('https://raw.githubusercontent.com/Datamanim/datarepo/main/scipy/scipy6.csv')\n",
    "df.head()"
   ]
  },
  {
   "cell_type": "code",
   "execution_count": 25,
   "id": "871b387f-c372-4b20-b5ea-8de028ff2ee5",
   "metadata": {},
   "outputs": [
    {
     "name": "stdout",
     "output_type": "stream",
     "text": [
      "FlignerResult(statistic=5.124831619122788, pvalue=0.02358585889069899)\n"
     ]
    }
   ],
   "source": [
    "from scipy.stats import bartlett\n",
    "from scipy.stats import fligner\n",
    "from scipy.stats import levene\n",
    "\n",
    "# 그룹 분리\n",
    "a = df['A']\n",
    "b = df['B']\n",
    "\n",
    "print(fligner(a,b,center='median'))\n",
    "\n",
    "# 그냥 print(fligner(df.A, df.B)) 해도 됨...."
   ]
  },
  {
   "cell_type": "markdown",
   "id": "255bd4ee-1273-4ffe-8f94-b8cf92594e01",
   "metadata": {},
   "source": [
    "---\n",
    "두개 학급의 시험성적에 대한 데이터이다 그룹간 등분산 검정을 시행하라"
   ]
  },
  {
   "cell_type": "code",
   "execution_count": 32,
   "id": "fa946f5d-4f55-4b5a-8cfd-43d90a940e61",
   "metadata": {},
   "outputs": [
    {
     "name": "stdout",
     "output_type": "stream",
     "text": [
      "<class 'pandas.core.frame.DataFrame'>\n",
      "RangeIndex: 300 entries, 0 to 299\n",
      "Data columns (total 2 columns):\n",
      " #   Column  Non-Null Count  Dtype  \n",
      "---  ------  --------------  -----  \n",
      " 0   A       300 non-null    int64  \n",
      " 1   B       180 non-null    float64\n",
      "dtypes: float64(1), int64(1)\n",
      "memory usage: 4.8 KB\n"
     ]
    }
   ],
   "source": [
    "import pandas as pd\n",
    "df = pd.read_csv('https://raw.githubusercontent.com/Datamanim/datarepo/main/scipy/scipy5.csv')\n",
    "df.info()"
   ]
  },
  {
   "cell_type": "code",
   "execution_count": 35,
   "id": "f1a7d8b8-5ee7-431a-8f65-b6e00afedb9d",
   "metadata": {},
   "outputs": [
    {
     "name": "stdout",
     "output_type": "stream",
     "text": [
      "BartlettResult(statistic=3.024072692680794, pvalue=0.08203720607748431)\n",
      "FlignerResult(statistic=7.710320541528441, pvalue=0.005490600130793614)\n",
      "LeveneResult(statistic=8.008595918808284, pvalue=0.004851565077063262)\n"
     ]
    }
   ],
   "source": [
    "from scipy.stats import bartlett\n",
    "from scipy.stats import fligner\n",
    "from scipy.stats import levene\n",
    "\n",
    "a = df.A\n",
    "b = df.B\n",
    "\n",
    "# df.info() non-null count가 A는 nan없음. B만 nan 존재\n",
    "print(bartlett(a, b.dropna()))\n",
    "print(fligner(a, b.dropna()))\n",
    "print(levene(a, b.dropna()))"
   ]
  },
  {
   "cell_type": "markdown",
   "id": "4d9a0477-ea0c-442d-a979-e337fbe9994b",
   "metadata": {},
   "source": [
    "nan값 지우고 사용해야됨!!"
   ]
  },
  {
   "cell_type": "markdown",
   "id": "d5b7a07a-874e-4c3b-b756-71afa3b51ade",
   "metadata": {},
   "source": [
    "# 독립표본 검정(Independent)"
   ]
  },
  {
   "cell_type": "markdown",
   "id": "daaa5aa6-33d5-4b45-91aa-af7031e2b7bd",
   "metadata": {},
   "source": [
    "두개 학급의 시험성적에 대한 데이터이다. 두 학습의 시험 평균(비모수검정의 경우 중위값)은 동일하다 말할 수 있는지 확인 하라"
   ]
  },
  {
   "cell_type": "code",
   "execution_count": 37,
   "id": "f68e64c1-f606-402f-a78b-6f587d93459a",
   "metadata": {},
   "outputs": [
    {
     "data": {
      "image/png": "[encoded data removed]",
      "text/plain": [
       "<Figure size 640x480 with 1 Axes>"
      ]
     },
     "metadata": {},
     "output_type": "display_data"
    }
   ],
   "source": [
    "import pandas as pd\n",
    "import matplotlib.pyplot as plt\n",
    "df1 = pd.read_csv('https://raw.githubusercontent.com/Datamanim/datarepo/main/scipy/ind1.csv')\n",
    "df2 = pd.read_csv('https://raw.githubusercontent.com/Datamanim/datarepo/main/scipy/ind2.csv')\n",
    "\n",
    "plt.hist(df1, label='df1', alpha = 0.4) # alpha: 투명도\n",
    "plt.hist(df2, label='df2', alpha = 0.4)\n",
    "plt.xlabel('Score bins')\n",
    "plt.ylabel('Counts')\n",
    "plt.legend() # 범례 표시 위치\n",
    "\n",
    "plt.show()"
   ]
  },
  {
   "cell_type": "code",
   "execution_count": 39,
   "id": "3719ba0b-af32-409f-9808-f8ecee3abefd",
   "metadata": {},
   "outputs": [
    {
     "data": {
      "text/html": [
       "<div>\n",
       "<style scoped>\n",
       "    .dataframe tbody tr th:only-of-type {\n",
       "        vertical-align: middle;\n",
       "    }\n",
       "\n",
       "    .dataframe tbody tr th {\n",
       "        vertical-align: top;\n",
       "    }\n",
       "\n",
       "    .dataframe thead th {\n",
       "        text-align: right;\n",
       "    }\n",
       "</style>\n",
       "<table border=\"1\" class=\"dataframe\">\n",
       "  <thead>\n",
       "    <tr style=\"text-align: right;\">\n",
       "      <th></th>\n",
       "      <th>data</th>\n",
       "    </tr>\n",
       "  </thead>\n",
       "  <tbody>\n",
       "    <tr>\n",
       "      <th>0</th>\n",
       "      <td>105.408458</td>\n",
       "    </tr>\n",
       "    <tr>\n",
       "      <th>1</th>\n",
       "      <td>108.722618</td>\n",
       "    </tr>\n",
       "    <tr>\n",
       "      <th>2</th>\n",
       "      <td>84.398634</td>\n",
       "    </tr>\n",
       "    <tr>\n",
       "      <th>3</th>\n",
       "      <td>100.510816</td>\n",
       "    </tr>\n",
       "    <tr>\n",
       "      <th>4</th>\n",
       "      <td>100.965949</td>\n",
       "    </tr>\n",
       "  </tbody>\n",
       "</table>\n",
       "</div>"
      ],
      "text/plain": [
       "         data\n",
       "0  105.408458\n",
       "1  108.722618\n",
       "2   84.398634\n",
       "3  100.510816\n",
       "4  100.965949"
      ]
     },
     "execution_count": 39,
     "metadata": {},
     "output_type": "execute_result"
    }
   ],
   "source": [
    "df1.head()"
   ]
  },
  {
   "cell_type": "code",
   "execution_count": 38,
   "id": "16149b3c-6081-4c30-856b-120f6b09f723",
   "metadata": {},
   "outputs": [
    {
     "name": "stdout",
     "output_type": "stream",
     "text": [
      "ShapiroResult(statistic=0.9860948333328386, pvalue=0.37968357263512703)\n",
      "ShapiroResult(statistic=0.9901827646291551, pvalue=0.6793743269084339)\n"
     ]
    }
   ],
   "source": [
    "# 두 학습의 시험 평균(비모수검정의 경우 중위값)은 동일하다 말할 수 있는지\n",
    "from scipy.stats import shapiro # 정규성 검정\n",
    "print(shapiro(df1))\n",
    "print(shapiro(df2))"
   ]
  },
  {
   "cell_type": "markdown",
   "id": "55285a39-de77-476c-9677-b2ef36be906a",
   "metadata": {},
   "source": [
    "df1, df2 둘다 p-value > 0.05 -> 귀무가설 유의. 기각 불가 <br>\n",
    "둘 다 정규성 가짐"
   ]
  },
  {
   "cell_type": "code",
   "execution_count": 40,
   "id": "df1ef772-5721-44a0-a2cd-df29f7f767ab",
   "metadata": {},
   "outputs": [
    {
     "name": "stdout",
     "output_type": "stream",
     "text": [
      "\n",
      "LeveneResult(statistic=2.5337683795339547, pvalue=0.11302904824469269)\n"
     ]
    }
   ],
   "source": [
    "from scipy.stats import levene\n",
    "print()\n",
    "print(levene(df1['data'], df2['data']))\n"
   ]
  },
  {
   "cell_type": "markdown",
   "id": "0ac0fe6e-491b-4def-8177-c640e689d0bf",
   "metadata": {},
   "source": [
    "p-value > 0.05 이므로 귀무가설 유의함. 기각 불가 -> 등분산성 가짐<br>\n",
    "등분산이므로, equal_var=True 파라미터 주고 ttest_ind 모듈로 t-test 진행"
   ]
  },
  {
   "cell_type": "code",
   "execution_count": 41,
   "id": "a19be503-62b0-4d11-b7bb-ae2dcf4ffea0",
   "metadata": {},
   "outputs": [
    {
     "name": "stdout",
     "output_type": "stream",
     "text": [
      "\n",
      "TtestResult(statistic=array([2.76719074]), pvalue=array([0.00619015]), df=array([198.]))\n"
     ]
    }
   ],
   "source": [
    "from scipy.stats import ttest_ind\n",
    "print()\n",
    "print(ttest_ind(df1, df2, equal_var=True))"
   ]
  },
  {
   "cell_type": "markdown",
   "id": "83b8aa85-bf92-423c-aa7f-24b34c563d8e",
   "metadata": {},
   "source": [
    "p-value < 0.05 이므로 귀무가설 기각. 대립가설 채택.<br>\n",
    "=> 두 학습의 시험 평균은 동일하지 않다."
   ]
  },
  {
   "cell_type": "markdown",
   "id": "5b9bcb9d-b3e6-4ebc-973a-fc00c32beb34",
   "metadata": {},
   "source": [
    "### Q.\n",
    "두개 학급의 시험성적에 대한 데이터이다. 두 학습의 시험 평균(비모수검정의 경우 중위값)은 동일하다 말할 수 있는지 확인 하라\n"
   ]
  },
  {
   "cell_type": "code",
   "execution_count": 43,
   "id": "9b1fcfba-793f-4ed1-baa9-2875e12ba58d",
   "metadata": {},
   "outputs": [
    {
     "data": {
      "image/png": "[encoded data removed]",
      "text/plain": [
       "<Figure size 640x480 with 1 Axes>"
      ]
     },
     "metadata": {},
     "output_type": "display_data"
    }
   ],
   "source": [
    "import pandas as pd\n",
    "import matplotlib.pyplot as plt\n",
    "df = pd.read_csv('https://raw.githubusercontent.com/Datamanim/datarepo/main/scipy/scipy5.csv')\n",
    "\n",
    "plt.hist(df['A'], alpha=0.5, label='A')\n",
    "plt.hist(df['B'].dropna(), alpha=0.5, label='B')\n",
    "plt.xlabel('Score bins')\n",
    "plt.ylabel('Counts')\n",
    "plt.legend()\n",
    "plt.show()"
   ]
  },
  {
   "cell_type": "code",
   "execution_count": 45,
   "id": "aec8e1f9-e8a5-4c9d-8241-b61a7a1c6e13",
   "metadata": {},
   "outputs": [
    {
     "name": "stdout",
     "output_type": "stream",
     "text": [
      "ShapiroResult(statistic=0.963943232017511, pvalue=0.00013568101164926347)\n",
      "ShapiroResult(statistic=0.9375393672524903, pvalue=6.175255664338868e-10)\n"
     ]
    }
   ],
   "source": [
    "# 분포 그려봤을 때 정규성 안보임\n",
    "# 두 그룹 중 한 그룹만 정규성을 위배해도 독립표본 t-검정 할 수 x\n",
    "print(shapiro(df['B'].dropna()))\n",
    "print(shapiro(df['A']))"
   ]
  },
  {
   "cell_type": "markdown",
   "id": "47270d4d-7bd7-4ae9-9425-d1a9cf07ee91",
   "metadata": {},
   "source": [
    "두 그룹 다 p-value < 0.05 이므로 귀무가설 유의 x. 귀무가설 기각 <br>\n",
    "-> 정규성 만족x => **비모수 검정 실시**"
   ]
  },
  {
   "cell_type": "code",
   "execution_count": 47,
   "id": "348b3775-a813-46e2-996d-1f3c2f4f7bd0",
   "metadata": {},
   "outputs": [
    {
     "name": "stdout",
     "output_type": "stream",
     "text": [
      "\n",
      "MannwhitneyuResult(statistic=27036.0, pvalue=0.9807458376150018)\n",
      "RanksumsResult(statistic=0.02446942170858557, pvalue=0.9804781743503561)\n"
     ]
    }
   ],
   "source": [
    "from scipy.stats import mannwhitneyu, ranksums\n",
    "print()\n",
    "print(mannwhitneyu(df['A'], df['B'].dropna()))\n",
    "print(ranksums(df['A'], df['B'].dropna()))"
   ]
  },
  {
   "cell_type": "markdown",
   "id": "633bae32-e939-4818-9220-4621f28e5734",
   "metadata": {},
   "source": [
    "mann-whitney u 검정, 윌콕슨 순위합 검정 모두 p-value > 0.05 : 귀무가설 유의<br>\n",
    "귀무가설 기각 불가. 평균은 동일하다."
   ]
  },
  {
   "cell_type": "markdown",
   "id": "df437806-8d1d-45d6-a7e5-6576ed05366b",
   "metadata": {},
   "source": [
    "### Q.\n",
    "두개 그룹에 대한 수치형 데이터이다. 두 그룹의 평균은 동일하다 말할 수 있는지 검정하라"
   ]
  },
  {
   "cell_type": "code",
   "execution_count": 55,
   "id": "f81e821a-8e78-41b0-a2ea-becf4b41cd88",
   "metadata": {},
   "outputs": [
    {
     "data": {
      "text/html": [
       "<div>\n",
       "<style scoped>\n",
       "    .dataframe tbody tr th:only-of-type {\n",
       "        vertical-align: middle;\n",
       "    }\n",
       "\n",
       "    .dataframe tbody tr th {\n",
       "        vertical-align: top;\n",
       "    }\n",
       "\n",
       "    .dataframe thead th {\n",
       "        text-align: right;\n",
       "    }\n",
       "</style>\n",
       "<table border=\"1\" class=\"dataframe\">\n",
       "  <thead>\n",
       "    <tr style=\"text-align: right;\">\n",
       "      <th></th>\n",
       "      <th>group</th>\n",
       "      <th>data</th>\n",
       "    </tr>\n",
       "  </thead>\n",
       "  <tbody>\n",
       "    <tr>\n",
       "      <th>0</th>\n",
       "      <td>a</td>\n",
       "      <td>108.065847</td>\n",
       "    </tr>\n",
       "    <tr>\n",
       "      <th>1</th>\n",
       "      <td>a</td>\n",
       "      <td>88.714106</td>\n",
       "    </tr>\n",
       "    <tr>\n",
       "      <th>2</th>\n",
       "      <td>a</td>\n",
       "      <td>61.182748</td>\n",
       "    </tr>\n",
       "    <tr>\n",
       "      <th>3</th>\n",
       "      <td>a</td>\n",
       "      <td>51.763444</td>\n",
       "    </tr>\n",
       "    <tr>\n",
       "      <th>4</th>\n",
       "      <td>a</td>\n",
       "      <td>127.858730</td>\n",
       "    </tr>\n",
       "    <tr>\n",
       "      <th>...</th>\n",
       "      <td>...</td>\n",
       "      <td>...</td>\n",
       "    </tr>\n",
       "    <tr>\n",
       "      <th>185</th>\n",
       "      <td>b</td>\n",
       "      <td>100.192985</td>\n",
       "    </tr>\n",
       "    <tr>\n",
       "      <th>186</th>\n",
       "      <td>b</td>\n",
       "      <td>112.081790</td>\n",
       "    </tr>\n",
       "    <tr>\n",
       "      <th>187</th>\n",
       "      <td>b</td>\n",
       "      <td>83.148014</td>\n",
       "    </tr>\n",
       "    <tr>\n",
       "      <th>188</th>\n",
       "      <td>b</td>\n",
       "      <td>147.504761</td>\n",
       "    </tr>\n",
       "    <tr>\n",
       "      <th>189</th>\n",
       "      <td>b</td>\n",
       "      <td>117.412623</td>\n",
       "    </tr>\n",
       "  </tbody>\n",
       "</table>\n",
       "<p>190 rows × 2 columns</p>\n",
       "</div>"
      ],
      "text/plain": [
       "    group        data\n",
       "0       a  108.065847\n",
       "1       a   88.714106\n",
       "2       a   61.182748\n",
       "3       a   51.763444\n",
       "4       a  127.858730\n",
       "..    ...         ...\n",
       "185     b  100.192985\n",
       "186     b  112.081790\n",
       "187     b   83.148014\n",
       "188     b  147.504761\n",
       "189     b  117.412623\n",
       "\n",
       "[190 rows x 2 columns]"
      ]
     },
     "execution_count": 55,
     "metadata": {},
     "output_type": "execute_result"
    }
   ],
   "source": [
    "import pandas as pd\n",
    "import matplotlib.pyplot as plt\n",
    "df = pd.read_csv('https://raw.githubusercontent.com/Datamanim/datarepo/main/scipy/ind3.csv')\n",
    "\n",
    "df\n",
    "# df.info()"
   ]
  },
  {
   "cell_type": "code",
   "execution_count": 56,
   "id": "ca497366-66a9-4b9c-87d2-c69c93dacb40",
   "metadata": {},
   "outputs": [
    {
     "data": {
      "image/png": "[encoded data removed]",
      "text/plain": [
       "<Figure size 640x480 with 1 Axes>"
      ]
     },
     "metadata": {},
     "output_type": "display_data"
    }
   ],
   "source": [
    "plt.hist(df[df['group'] == 'a'].data, label='A', alpha = 0.5)\n",
    "plt.hist(df[df['group'] == 'b'].data, label='B', alpha = 0.5)\n",
    "plt.xlabel('Score bins')\n",
    "plt.ylabel('Counts')\n",
    "plt.legend()\n",
    "plt.show()"
   ]
  },
  {
   "cell_type": "code",
   "execution_count": 57,
   "id": "689cc7e4-427f-4b70-9452-f2e7942bb481",
   "metadata": {},
   "outputs": [
    {
     "name": "stdout",
     "output_type": "stream",
     "text": [
      "ShapiroResult(statistic=0.983412964740451, pvalue=0.1474180067494916)\n",
      "ShapiroResult(statistic=0.9831848013864206, pvalue=0.4701751973689775)\n"
     ]
    }
   ],
   "source": [
    "# 정규성 검정\n",
    "# 하나라도 정규성 만족하지 못하면 t-test불가(equal_var=False)\n",
    "a = df[df['group'] == 'a'].data\n",
    "b = df[df['group'] == 'b'].data\n",
    "\n",
    "from scipy.stats import shapiro\n",
    "print(shapiro(a))\n",
    "print(shapiro(b))\n"
   ]
  },
  {
   "cell_type": "markdown",
   "id": "95e81706-12eb-4fd0-817d-1bebd4b10728",
   "metadata": {},
   "source": [
    "p-value > 0.05 => 귀무가설 기각 불가<br>\n",
    "두 그룹 모두 정규성 가짐"
   ]
  },
  {
   "cell_type": "code",
   "execution_count": 58,
   "id": "06ee641a-ecb7-430c-84db-c66b0a2be266",
   "metadata": {},
   "outputs": [
    {
     "name": "stdout",
     "output_type": "stream",
     "text": [
      "\n",
      "LeveneResult(statistic=6.185601018015722, pvalue=0.01375048457191142)\n"
     ]
    }
   ],
   "source": [
    "# 등분산성 검정\n",
    "from scipy.stats import levene\n",
    "print()\n",
    "print(levene(a,b))\n"
   ]
  },
  {
   "cell_type": "markdown",
   "id": "a2fe1bac-b202-4a6a-8310-e8c7f66b66d8",
   "metadata": {},
   "source": [
    "p-value < 0.05 : 귀무가설 유의 x. 기각. \n",
    "등분산성 가지지 x => equal_var = False"
   ]
  },
  {
   "cell_type": "code",
   "execution_count": 59,
   "id": "3a3be023-d06c-438d-99d1-9ddb470d8b51",
   "metadata": {},
   "outputs": [
    {
     "name": "stdout",
     "output_type": "stream",
     "text": [
      "\n",
      "TtestResult(statistic=-2.1949470315829265, pvalue=0.029512802991767905, df=171.25282465005142)\n"
     ]
    }
   ],
   "source": [
    "from scipy.stats import ttest_ind\n",
    "print()\n",
    "print(ttest_ind(a,b,equal_var=False))"
   ]
  },
  {
   "cell_type": "markdown",
   "id": "26d9af07-480c-4bfa-a66b-e48833a744a3",
   "metadata": {},
   "source": [
    "p-value < 0.05 이므로 귀무가설 기각. 평균 동일x<br>\n",
    "정규성은 가지지만 등분산은 x, 평균은 동일하다고 보기 어려움"
   ]
  },
  {
   "cell_type": "markdown",
   "id": "3af65c1d-38b8-4494-a02d-de5d849249f1",
   "metadata": {},
   "source": [
    "### Q.\n",
    "두개 그룹에 대한 수치형 데이터이다. 두 그룹의 평균은 동일하다 말할 수 있는지 검정하라"
   ]
  },
  {
   "cell_type": "code",
   "execution_count": 60,
   "id": "d350575b-d6ec-4412-a5ed-5f121a3cd436",
   "metadata": {},
   "outputs": [
    {
     "data": {
      "image/png": "[encoded data removed]",
      "text/plain": [
       "<Figure size 640x480 with 1 Axes>"
      ]
     },
     "metadata": {},
     "output_type": "display_data"
    }
   ],
   "source": [
    "import pandas as pd\n",
    "import matplotlib.pyplot as plt\n",
    "df = pd.read_csv('https://raw.githubusercontent.com/Datamanim/datarepo/main/scipy/ind6.csv')\n",
    "plt.hist(df['a'], alpha=0.5, label='A')\n",
    "plt.hist(df['b'], alpha=0.5, label='B')\n",
    "plt.xlabel('Score bins')\n",
    "plt.ylabel('Counts')\n",
    "plt.legend()\n",
    "plt.show()"
   ]
  },
  {
   "cell_type": "code",
   "execution_count": 62,
   "id": "3ccb7a1a-d342-4155-8328-6d0968483d36",
   "metadata": {},
   "outputs": [
    {
     "name": "stdout",
     "output_type": "stream",
     "text": [
      "<class 'pandas.core.frame.DataFrame'>\n",
      "RangeIndex: 120 entries, 0 to 119\n",
      "Data columns (total 2 columns):\n",
      " #   Column  Non-Null Count  Dtype  \n",
      "---  ------  --------------  -----  \n",
      " 0   a       120 non-null    float64\n",
      " 1   b       70 non-null     float64\n",
      "dtypes: float64(2)\n",
      "memory usage: 2.0 KB\n"
     ]
    }
   ],
   "source": [
    "df.info()"
   ]
  },
  {
   "cell_type": "code",
   "execution_count": 63,
   "id": "bfb8bf7d-0c8b-4426-ad91-d3e44f660f18",
   "metadata": {},
   "outputs": [
    {
     "name": "stdout",
     "output_type": "stream",
     "text": [
      "ShapiroResult(statistic=0.9865897179339462, pvalue=0.2839111805144782)\n",
      "ShapiroResult(statistic=0.9854325124950464, pvalue=0.5937526914945417)\n"
     ]
    }
   ],
   "source": [
    "# 그룹 분리\n",
    "a = df['a']\n",
    "b = df['b'].dropna()\n",
    "\n",
    "# 정규성 검정\n",
    "from scipy.stats import shapiro\n",
    "print(shapiro(a))\n",
    "print(shapiro(b))"
   ]
  },
  {
   "cell_type": "markdown",
   "id": "5de09499-80c1-45d4-9ef3-cee17d858c92",
   "metadata": {},
   "source": [
    "둘 다 p-value > 0.05 이므로 귀무가설 기각 불가. 정규성 만족"
   ]
  },
  {
   "cell_type": "code",
   "execution_count": 64,
   "id": "415098d1-578a-4f62-95c4-b8b88cab9211",
   "metadata": {},
   "outputs": [
    {
     "name": "stdout",
     "output_type": "stream",
     "text": [
      "\n",
      "LeveneResult(statistic=3.9862856894158347, pvalue=0.047314956128685116)\n"
     ]
    }
   ],
   "source": [
    "# levene 검정\n",
    "from scipy.stats import levene\n",
    "print()\n",
    "print(levene(a,b))"
   ]
  },
  {
   "cell_type": "markdown",
   "id": "6a021630-1805-4ca2-930f-50c6d613d66d",
   "metadata": {},
   "source": [
    "p-value < 0.05 이므로 귀무가설 기각. 등분산성 만족x"
   ]
  },
  {
   "cell_type": "code",
   "execution_count": 65,
   "id": "a5af5115-f5c8-4fbe-8f1d-50c998b57f3e",
   "metadata": {},
   "outputs": [
    {
     "name": "stdout",
     "output_type": "stream",
     "text": [
      "\n",
      "TtestResult(statistic=0.0015963310698567184, pvalue=0.9987289046092704, df=122.72255248639058)\n"
     ]
    }
   ],
   "source": [
    "# ttest_ind(equal_var=False)\n",
    "from scipy.stats import ttest_ind\n",
    "print()\n",
    "print(ttest_ind(a,b,equal_var=False))"
   ]
  },
  {
   "cell_type": "markdown",
   "id": "acc0d019-50be-4180-8007-79dbacae6e89",
   "metadata": {},
   "source": [
    "p-value > 0.05 이므로 귀무가설 유의.. 기각 불가 -> 평균값 동일하다<br>\n",
    "두 그룹은 모두 정규성을 가지지만, 등분산성을 만족하진 않으며, 평균은 동일하다고 볼 수 있다."
   ]
  },
  {
   "cell_type": "markdown",
   "id": "c6a9545c-49d8-40c7-b6ed-f4be4d1f83fc",
   "metadata": {},
   "source": [
    "# 대응표본 t 검정(paired)\n",
    "- ttest_rel 사용(두 집단이 종속되어있을 때)\n",
    "- ttest_ind : 두 집단이 독립일 때"
   ]
  },
  {
   "cell_type": "markdown",
   "id": "0f8096f0-be6c-4bdd-ab50-c0763c60983e",
   "metadata": {},
   "source": [
    "### Q. \n",
    "특정 질병 집단의 투약 전후의 혈류량 변화를 나타낸 데이터이다. 투약 전후의 변화가 있는지 검정하라"
   ]
  },
  {
   "cell_type": "code",
   "execution_count": 69,
   "id": "2d9fdfed-596c-41f8-a4ef-5387212f05ea",
   "metadata": {},
   "outputs": [
    {
     "data": {
      "image/png": "[encoded data removed]",
      "text/plain": [
       "<Figure size 640x480 with 2 Axes>"
      ]
     },
     "metadata": {},
     "output_type": "display_data"
    }
   ],
   "source": [
    "import pandas as pd\n",
    "import matplotlib.pyplot as plt\n",
    "df = pd.read_csv('https://raw.githubusercontent.com/Datamanim/datarepo/main/scipy/rel2.csv')\n",
    "\n",
    "# df.info()\n",
    "fig, ax = plt.subplots(1,2) # 2개의 서브플롯을 가로로 나란히 생성할 때 사용하는 코드\n",
    "ax[0].boxplot(df['before'])\n",
    "ax[1].boxplot(df['after'])\n",
    "ax[0].set_xticklabels(['before'])\n",
    "ax[1].set_xticklabels(['after'])\n",
    "ax[0].set_ylim(100,350)\n",
    "ax[1].set_ylim(100,350)\n",
    "ax[1].get_yaxis().set_visible(False)\n",
    "ax[0].set_ylabel('value')\n",
    "plt.show()"
   ]
  },
  {
   "cell_type": "code",
   "execution_count": 70,
   "id": "4a65763b-7b39-4543-a849-d87d7d0486a7",
   "metadata": {},
   "outputs": [
    {
     "name": "stdout",
     "output_type": "stream",
     "text": [
      "ShapiroResult(statistic=0.9907895174016044, pvalue=0.6065791087935366)\n",
      "ShapiroResult(statistic=0.9916963493176595, pvalue=0.692386232128563)\n"
     ]
    }
   ],
   "source": [
    "# 정규성 검정\n",
    "\n",
    "from scipy.stats import shapiro\n",
    "before = df['before']\n",
    "after = df['after']\n",
    "print(shapiro(before))\n",
    "print(shapiro(after))"
   ]
  },
  {
   "cell_type": "markdown",
   "id": "689231df-0b10-4ca1-b958-cf7e4e24140d",
   "metadata": {},
   "source": [
    "p-value > 0.05 이므로 귀무가설 기각 불가. 둘 다 정규성 가짐"
   ]
  },
  {
   "cell_type": "code",
   "execution_count": 71,
   "id": "84f65712-6dd2-4b68-a382-57731aa3bfc9",
   "metadata": {},
   "outputs": [
    {
     "name": "stdout",
     "output_type": "stream",
     "text": [
      "\n",
      "LeveneResult(statistic=0.06427968690211051, pvalue=0.800074165167839)\n"
     ]
    }
   ],
   "source": [
    "# 등분산성 검정\n",
    "from scipy.stats import levene\n",
    "print()\n",
    "print(levene(before,after))"
   ]
  },
  {
   "cell_type": "markdown",
   "id": "a08a33bf-3165-4f50-9153-0865c7e6c5d3",
   "metadata": {},
   "source": [
    "p-value > 0.05 이므로 귀무가설 기각 불가. 등분산성 가짐"
   ]
  },
  {
   "cell_type": "code",
   "execution_count": 72,
   "id": "c5f40d86-aab2-4ed6-9878-e7e9a9f15875",
   "metadata": {},
   "outputs": [
    {
     "name": "stdout",
     "output_type": "stream",
     "text": [
      "TtestResult(statistic=-2.5535473487670672, pvalue=0.011926744724546521, df=119)\n"
     ]
    }
   ],
   "source": [
    "from scipy.stats import ttest_rel\n",
    "print(ttest_rel(before,after))"
   ]
  },
  {
   "cell_type": "markdown",
   "id": "998317b1-1667-4685-a24d-a392d3bc0159",
   "metadata": {},
   "source": [
    "p-value < 0.05 이므로 귀무가설 기각. 평균 동일 x"
   ]
  },
  {
   "cell_type": "markdown",
   "id": "59872bf1-9d77-41a9-8053-51220f0c42c6",
   "metadata": {},
   "source": [
    "### Q.\n",
    "특정 질병 집단의 투약 전후의 혈류량 변화를 나타낸 데이터이다. 투약 전후의 변화가 있는지 검정하라"
   ]
  },
  {
   "cell_type": "code",
   "execution_count": 74,
   "id": "7fb83699-6de1-4d57-90c4-ff12f45a9daf",
   "metadata": {},
   "outputs": [
    {
     "data": {
      "text/html": [
       "<div>\n",
       "<style scoped>\n",
       "    .dataframe tbody tr th:only-of-type {\n",
       "        vertical-align: middle;\n",
       "    }\n",
       "\n",
       "    .dataframe tbody tr th {\n",
       "        vertical-align: top;\n",
       "    }\n",
       "\n",
       "    .dataframe thead th {\n",
       "        text-align: right;\n",
       "    }\n",
       "</style>\n",
       "<table border=\"1\" class=\"dataframe\">\n",
       "  <thead>\n",
       "    <tr style=\"text-align: right;\">\n",
       "      <th></th>\n",
       "      <th>before</th>\n",
       "      <th>after</th>\n",
       "    </tr>\n",
       "  </thead>\n",
       "  <tbody>\n",
       "    <tr>\n",
       "      <th>0</th>\n",
       "      <td>253.566615</td>\n",
       "      <td>220.857837</td>\n",
       "    </tr>\n",
       "    <tr>\n",
       "      <th>1</th>\n",
       "      <td>195.080189</td>\n",
       "      <td>209.206667</td>\n",
       "    </tr>\n",
       "    <tr>\n",
       "      <th>2</th>\n",
       "      <td>228.299690</td>\n",
       "      <td>173.070057</td>\n",
       "    </tr>\n",
       "    <tr>\n",
       "      <th>3</th>\n",
       "      <td>279.417367</td>\n",
       "      <td>222.356980</td>\n",
       "    </tr>\n",
       "    <tr>\n",
       "      <th>4</th>\n",
       "      <td>230.062210</td>\n",
       "      <td>248.371045</td>\n",
       "    </tr>\n",
       "  </tbody>\n",
       "</table>\n",
       "</div>"
      ],
      "text/plain": [
       "       before       after\n",
       "0  253.566615  220.857837\n",
       "1  195.080189  209.206667\n",
       "2  228.299690  173.070057\n",
       "3  279.417367  222.356980\n",
       "4  230.062210  248.371045"
      ]
     },
     "execution_count": 74,
     "metadata": {},
     "output_type": "execute_result"
    }
   ],
   "source": [
    "import pandas as pd\n",
    "import matplotlib.pyplot as plt\n",
    "df = pd.read_csv('https://raw.githubusercontent.com/Datamanim/datarepo/main/scipy/rel3.csv')\n",
    "\n",
    "df.head()"
   ]
  },
  {
   "cell_type": "code",
   "execution_count": 75,
   "id": "04ac60e8-415a-49e2-8cf3-e52c3804ccad",
   "metadata": {},
   "outputs": [
    {
     "data": {
      "image/png": "[encoded data removed]",
      "text/plain": [
       "<Figure size 640x480 with 2 Axes>"
      ]
     },
     "metadata": {},
     "output_type": "display_data"
    }
   ],
   "source": [
    "fig, ax = plt.subplots(1,2)\n",
    "ax[0].boxplot(df['before'])\n",
    "ax[1].boxplot(df['after'])\n",
    "ax[0].set_xticklabels(['before'])\n",
    "ax[1].set_xticklabels(['after'])\n",
    "ax[0].set_ylim(130, 300)\n",
    "ax[1].set_ylim(130, 300)\n",
    "ax[1].get_yaxis().set_visible(False)\n",
    "ax[0].set_ylabel('value')\n",
    "plt.show()"
   ]
  },
  {
   "cell_type": "code",
   "execution_count": 76,
   "id": "a924520e-492e-4a91-ae06-25323f2df3ec",
   "metadata": {},
   "outputs": [
    {
     "name": "stdout",
     "output_type": "stream",
     "text": [
      "ShapiroResult(statistic=0.9920635606877197, pvalue=0.7270650360964436)\n",
      "ShapiroResult(statistic=0.992019320852851, pvalue=0.7229094514792569)\n"
     ]
    }
   ],
   "source": [
    "# 그룹 분할\n",
    "before = df['before']\n",
    "after = df['after']\n",
    "\n",
    "# 정규성 검정\n",
    "from scipy.stats import shapiro\n",
    "print(shapiro(before))\n",
    "print(shapiro(after))"
   ]
  },
  {
   "cell_type": "markdown",
   "id": "721c78fc-89e2-44d2-be16-6322beb8ecd0",
   "metadata": {},
   "source": [
    "둘 다 p-value > 0.05 이므로 귀무가설 기각 불가. 정규성 만족"
   ]
  },
  {
   "cell_type": "code",
   "execution_count": 77,
   "id": "ba5967fa-b78c-4a11-8e91-0eb639a2756e",
   "metadata": {},
   "outputs": [
    {
     "name": "stdout",
     "output_type": "stream",
     "text": [
      "LeveneResult(statistic=1.3463330638203614, pvalue=0.24708279045237283)\n"
     ]
    }
   ],
   "source": [
    "# 등분산성 검정\n",
    "from scipy.stats import levene\n",
    "print(levene(before, after))"
   ]
  },
  {
   "cell_type": "markdown",
   "id": "f0c9bad0-5bf0-4d17-a2af-1369ff8c0875",
   "metadata": {},
   "source": [
    "p-value > 0.05 이므로 귀무가설 기각 불가. 등분산성 만족"
   ]
  },
  {
   "cell_type": "code",
   "execution_count": 79,
   "id": "d5544979-2239-4694-826f-104911fabfa5",
   "metadata": {},
   "outputs": [
    {
     "name": "stdout",
     "output_type": "stream",
     "text": [
      "TtestResult(statistic=0.18890057599102558, pvalue=0.8504925317234712, df=119)\n",
      "The history saving thread hit an unexpected error (OperationalError('attempt to write a readonly database')).History will not be written to the database.\n"
     ]
    }
   ],
   "source": [
    "# 평균값 검정. 등분산성 만족하므로 equal_var=True(기본 값)\n",
    "from scipy.stats import ttest_rel\n",
    "print(ttest_rel(before, after))"
   ]
  },
  {
   "cell_type": "markdown",
   "id": "5be55bef-901b-4976-b2c7-5e0d6458c184",
   "metadata": {},
   "source": [
    "p-value > 0.05 이므로, 귀무가설 유의함. 평균값 차이 없다."
   ]
  },
  {
   "cell_type": "markdown",
   "id": "0aa35815-70cd-41d5-be66-63e1bc507b4a",
   "metadata": {},
   "source": [
    "### Q. 특정 집단의 학습 전후 시험 성적 변화를 나타낸 데이터이다. 시험 전과 후에 차이가 있는지 검정하라"
   ]
  },
  {
   "cell_type": "code",
   "execution_count": 83,
   "id": "f297631d-b9b3-4799-8af6-031fecbccef9",
   "metadata": {},
   "outputs": [
    {
     "name": "stdout",
     "output_type": "stream",
     "text": [
      "<class 'pandas.core.frame.DataFrame'>\n",
      "RangeIndex: 50 entries, 0 to 49\n",
      "Data columns (total 2 columns):\n",
      " #   Column  Non-Null Count  Dtype\n",
      "---  ------  --------------  -----\n",
      " 0   before  50 non-null     int64\n",
      " 1   after   50 non-null     int64\n",
      "dtypes: int64(2)\n",
      "memory usage: 928.0 bytes\n",
      "None\n",
      "   before  after\n",
      "0     153    162\n",
      "1     153    163\n",
      "2     158    159\n",
      "3     157    158\n",
      "4     167    160\n",
      "           before      after\n",
      "count   50.000000   50.00000\n",
      "mean   157.000000  159.52000\n",
      "std      5.454824    5.83529\n",
      "min    150.000000  150.00000\n",
      "25%    153.000000  154.25000\n",
      "50%    156.000000  159.50000\n",
      "75%    162.000000  164.50000\n",
      "max    168.000000  169.00000\n"
     ]
    }
   ],
   "source": [
    "import pandas as pd\n",
    "import matplotlib.pyplot as plt\n",
    "df = pd.read_csv('https://raw.githubusercontent.com/Datamanim/datarepo/main/scipy/rel1.csv')\n",
    "\n",
    "print(df.info())\n",
    "print(df.head())\n",
    "# print(df['before'])\n",
    "print(df.describe())"
   ]
  },
  {
   "cell_type": "code",
   "execution_count": 84,
   "id": "dc0789b6-fce6-4de6-8974-bce49f2db803",
   "metadata": {},
   "outputs": [
    {
     "data": {
      "image/png": "[encoded data removed]",
      "text/plain": [
       "<Figure size 640x480 with 2 Axes>"
      ]
     },
     "metadata": {},
     "output_type": "display_data"
    }
   ],
   "source": [
    "fig, ax = plt.subplots(1,2)\n",
    "ax[0].boxplot(df['before'])\n",
    "ax[1].boxplot(df['after'])\n",
    "ax[0].set_xticklabels(['before'])\n",
    "ax[1].set_xticklabels(['after'])\n",
    "ax[0].set_ylim(145, 170)\n",
    "ax[1].set_ylim(145, 170)\n",
    "ax[1].get_yaxis().set_visible(False)\n",
    "ax[0].set_ylabel('value')\n",
    "plt.show()"
   ]
  },
  {
   "cell_type": "code",
   "execution_count": 85,
   "id": "e42cc033-0e56-4390-a67d-4374681a3867",
   "metadata": {},
   "outputs": [
    {
     "name": "stdout",
     "output_type": "stream",
     "text": [
      "ShapiroResult(statistic=0.917372758507538, pvalue=0.001897357184031842)\n",
      "ShapiroResult(statistic=0.9448970350592877, pvalue=0.021140909861349883)\n"
     ]
    }
   ],
   "source": [
    "# 데이터 분할\n",
    "before = df['before']\n",
    "after = df['after']\n",
    "\n",
    "# 정규성 검정\n",
    "from scipy.stats import shapiro\n",
    "print(shapiro(before))\n",
    "print(shapiro(after))"
   ]
  },
  {
   "cell_type": "markdown",
   "id": "b9a30e17-ddd5-4e25-98be-8f882739b925",
   "metadata": {},
   "source": [
    "둘 다 p-value < 0.05 : 귀무가설 기각 가능. 둘 다 정규성 만족x"
   ]
  },
  {
   "cell_type": "code",
   "execution_count": 86,
   "id": "7c291189-3f3a-46d6-b664-6c3f1af5b856",
   "metadata": {},
   "outputs": [
    {
     "name": "stdout",
     "output_type": "stream",
     "text": [
      "LeveneResult(statistic=0.14329522146179022, pvalue=0.7058456563194881)\n"
     ]
    }
   ],
   "source": [
    "# 등분산성 검정\n",
    "from scipy.stats import levene\n",
    "print(levene(before, after))"
   ]
  },
  {
   "cell_type": "markdown",
   "id": "981a35df-b8e1-449a-b157-4b8bfde9eecf",
   "metadata": {},
   "source": [
    "p-value > 0.05 : 귀무가설 기각 불가. 등분산성 만족"
   ]
  },
  {
   "cell_type": "code",
   "execution_count": 87,
   "id": "cf9a1e41-c905-4dce-805f-d4c5ff97e027",
   "metadata": {},
   "outputs": [
    {
     "name": "stdout",
     "output_type": "stream",
     "text": [
      "WilcoxonResult(statistic=437.0, pvalue=0.12098409484052806)\n"
     ]
    }
   ],
   "source": [
    "# 정규성 x, 등분산성 o 이므로 대응표본의 경우 등분산성이 파라미터에 영향 주지 x\n",
    "# 정규성 가지지 x => 대응 표본 검정 중 비모수 검정(윌콕슨 부호순위 검정 진행)\n",
    "\n",
    "from scipy.stats import wilcoxon\n",
    "print(wilcoxon(before, after))"
   ]
  },
  {
   "cell_type": "markdown",
   "id": "82d26df8-32c9-414c-b9c1-ce265975b4e6",
   "metadata": {},
   "source": [
    "p-value > 0.05 이므로 귀무가설 기각 불가. 전후 평균 동일"
   ]
  },
  {
   "cell_type": "markdown",
   "id": "2cffaf94-6082-429e-9699-0062df46d8f6",
   "metadata": {},
   "source": [
    "### Q. 한 기계 부품의 rpm 수치를 두가지 다른 상황에서 측정했다.(총 70세트) b 상황이 a 상황보다 rpm값이 높다고 말할 수 있는지 검정하라"
   ]
  },
  {
   "cell_type": "code",
   "execution_count": 91,
   "id": "df4531e0-dc31-459a-8e99-631f5c8711ea",
   "metadata": {},
   "outputs": [
    {
     "name": "stdout",
     "output_type": "stream",
     "text": [
      "<class 'pandas.core.frame.DataFrame'>\n",
      "RangeIndex: 140 entries, 0 to 139\n",
      "Data columns (total 2 columns):\n",
      " #   Column  Non-Null Count  Dtype  \n",
      "---  ------  --------------  -----  \n",
      " 0   rpm     140 non-null    float64\n",
      " 1   group   140 non-null    object \n",
      "dtypes: float64(1), object(1)\n",
      "memory usage: 2.3+ KB\n",
      "None\n",
      "              rpm\n",
      "count  140.000000\n",
      "mean   499.382725\n",
      "std     29.666092\n",
      "min    433.897948\n",
      "25%    477.976414\n",
      "50%    500.709539\n",
      "75%    518.455160\n",
      "max    583.746527\n",
      "['a' 'b']\n"
     ]
    }
   ],
   "source": [
    "import pandas as pd\n",
    "import matplotlib.pyplot as plt\n",
    "df = pd.read_csv('https://raw.githubusercontent.com/Datamanim/datarepo/main/scipy/rel4.csv')\n",
    "\n",
    "print(df.info())\n",
    "print(df.describe())\n",
    "print(df['group'].unique())"
   ]
  },
  {
   "cell_type": "code",
   "execution_count": 92,
   "id": "63abfe35-0d1d-4594-abf4-1b3e0cd743a1",
   "metadata": {},
   "outputs": [
    {
     "data": {
      "image/png": "[encoded data removed]",
      "text/plain": [
       "<Figure size 640x480 with 2 Axes>"
      ]
     },
     "metadata": {},
     "output_type": "display_data"
    }
   ],
   "source": [
    "fig, ax = plt.subplots(1, 2)\n",
    "ax[0].boxplot(df[df['group']=='a'].rpm)\n",
    "ax[1].boxplot(df[df['group']=='b'].rpm)\n",
    "ax[0].set_xticklabels(['a'])\n",
    "ax[1].set_xticklabels(['b'])\n",
    "ax[0].set_ylim(430, 600)\n",
    "ax[1].set_ylim(430, 600)\n",
    "ax[1].get_yaxis().set_visible(False)\n",
    "ax[0].set_ylabel('rpm')\n",
    "plt.show()"
   ]
  },
  {
   "cell_type": "code",
   "execution_count": 93,
   "id": "4d5228c2-7f8d-40d7-843d-5365e4ea1df5",
   "metadata": {},
   "outputs": [
    {
     "name": "stdout",
     "output_type": "stream",
     "text": [
      "ShapiroResult(statistic=0.9907215247460177, pvalue=0.8884202208538523)\n",
      "ShapiroResult(statistic=0.9846746597671581, pvalue=0.5504989397841885)\n"
     ]
    }
   ],
   "source": [
    "# 그룹 분리\n",
    "a = df[df['group']=='a'].rpm\n",
    "b = df[df['group']=='b'].rpm\n",
    "\n",
    "# 정규성 검정\n",
    "from scipy.stats import shapiro\n",
    "print(shapiro(a))\n",
    "print(shapiro(b))"
   ]
  },
  {
   "cell_type": "code",
   "execution_count": 94,
   "id": "b9a99370-dad9-461b-ad4c-63ef92c85e06",
   "metadata": {},
   "outputs": [
    {
     "name": "stdout",
     "output_type": "stream",
     "text": [
      "LeveneResult(statistic=0.06716114122680156, pvalue=0.7959020864923277)\n"
     ]
    }
   ],
   "source": [
    "# 등분산성 검정\n",
    "from scipy.stats import levene\n",
    "print(levene(a,b))"
   ]
  },
  {
   "cell_type": "markdown",
   "id": "07870ec9-7995-40fd-bb17-84b477ddc4a0",
   "metadata": {},
   "source": [
    "정규성 , 등분산성 모두 기각 불가! 정규성, 등분산성 만족"
   ]
  },
  {
   "cell_type": "code",
   "execution_count": 97,
   "id": "929367c8-b713-4a37-ba75-33bccaa747d0",
   "metadata": {},
   "outputs": [
    {
     "name": "stdout",
     "output_type": "stream",
     "text": [
      "TtestResult(statistic=-1.9018108294460812, pvalue=0.9693143365355352, df=69)\n"
     ]
    }
   ],
   "source": [
    "from scipy.stats import ttest_rel\n",
    "# 대립가설: a > b\n",
    "print(ttest_rel(a,b,alternative='greater'))"
   ]
  },
  {
   "cell_type": "markdown",
   "id": "42860a94-5d27-4f5c-b4ad-a8b340c745cc",
   "metadata": {},
   "source": [
    "p-value > 0.05 : 기각 불가. 평균 a>b이다."
   ]
  },
  {
   "cell_type": "markdown",
   "id": "a321fc33-e1b7-4702-b002-8292833e8d29",
   "metadata": {},
   "source": [
    "# 카이제곱 검정(교차분석)\n",
    "1. 일원 카이제곱검정(chisquare, 카이제곱 적합도 검정)\n",
    "   : 한 개의 요인에 의해 k개 범주를 가질 때 이론적 분포를 따르는지 검정\n",
    "2. 이원 카이제곱검정(chi2_contingency, fisher_exact(빈도 수 5개 이하 셀이 20% 이상일때), 카이제곱독립검정)\n",
    "   : 모집단이 두개의 변수에 의해 범주화되었을 때, 두 변수들 사이의 관계가 독립인지 아닌 지 검정"
   ]
  },
  {
   "cell_type": "markdown",
   "id": "aa32b8f5-9122-41be-b418-0863b47bc5aa",
   "metadata": {},
   "source": [
    "# Q.\n",
    "144회 주사위를 던졌을때, 각 눈금별로 나온 횟수를 나타낸다. 이 데이터는 주사위의 분포에서 나올 가능성이 있는지 검정하라"
   ]
  },
  {
   "cell_type": "code",
   "execution_count": 98,
   "id": "4054e231-d52c-4ee9-95f6-f3dc7d53d489",
   "metadata": {},
   "outputs": [
    {
     "name": "stdout",
     "output_type": "stream",
     "text": [
      "<class 'pandas.core.frame.DataFrame'>\n",
      "RangeIndex: 6 entries, 0 to 5\n",
      "Data columns (total 2 columns):\n",
      " #   Column       Non-Null Count  Dtype\n",
      "---  ------       --------------  -----\n",
      " 0   dice_number  6 non-null      int64\n",
      " 1   counts       6 non-null      int64\n",
      "dtypes: int64(2)\n",
      "memory usage: 224.0 bytes\n",
      "None\n",
      "       dice_number    counts\n",
      "count     6.000000   6.00000\n",
      "mean      3.500000  24.00000\n",
      "std       1.870829   3.34664\n",
      "min       1.000000  20.00000\n",
      "25%       2.250000  22.00000\n",
      "50%       3.500000  23.00000\n",
      "75%       4.750000  27.00000\n",
      "max       6.000000  28.00000\n"
     ]
    }
   ],
   "source": [
    "import pandas as pd\n",
    "import matplotlib.pyplot as plt\n",
    "df = pd.read_csv('https://raw.githubusercontent.com/Datamanim/datarepo/main/scipy/dice.csv')\n",
    "\n",
    "print(df.info())\n",
    "print(df.describe())"
   ]
  },
  {
   "cell_type": "code",
   "execution_count": 99,
   "id": "18e2a09d-c593-4d65-9ede-0a91bb54cb2e",
   "metadata": {},
   "outputs": [
    {
     "data": {
      "image/png": "[encoded data removed]",
      "text/plain": [
       "<Figure size 640x480 with 1 Axes>"
      ]
     },
     "metadata": {},
     "output_type": "display_data"
    }
   ],
   "source": [
    "plt.bar(df.dice_number, df.counts)\n",
    "plt.xlabel('dice value')\n",
    "plt.ylabel('counts')\n",
    "plt.show()"
   ]
  },
  {
   "cell_type": "code",
   "execution_count": 100,
   "id": "8a964563-109c-4ef0-8eaf-b4ab5807b478",
   "metadata": {},
   "outputs": [
    {
     "name": "stdout",
     "output_type": "stream",
     "text": [
      "Power_divergenceResult(statistic=2.333333333333333, pvalue=0.8013589222076911)\n"
     ]
    }
   ],
   "source": [
    "# 주사위 눈금 발생확률 = 1/6 -> 각 눈금의 기댓값: 실제 발생한 모든 값을 6으로 나눈 값\n",
    "\n",
    "from scipy.stats import chisquare\n",
    "df['expected'] = (df['counts'].sum()/6).astype('int')\n",
    "print(chisquare(df.counts, df.expected))\n"
   ]
  },
  {
   "cell_type": "markdown",
   "id": "da74d1fb-f8cf-4ffe-a9b5-3274d7ab3d52",
   "metadata": {},
   "source": [
    "p-value > 0.05 이므로 귀무가설 유의함. 기각 불가. 각 주사위 눈금 발생 비율은 동일하다."
   ]
  },
  {
   "cell_type": "markdown",
   "id": "b282cc60-ac60-47d0-b23b-57871b63c2cf",
   "metadata": {},
   "source": [
    "### Q. \n",
    "다음 데이터는 어떤 집단의 왼손잡이, 오른손 잡이의 숫자를 나타낸다. 인간의 왼손잡이와 오른손잡이의 비율을 0.2:0.8로 알려져있다.\n",
    "이 집단에서 왼손과 오른손 잡이의 비율이 적합한지 검정하라"
   ]
  },
  {
   "cell_type": "code",
   "execution_count": 107,
   "id": "998f8eaa-47c9-45ec-819a-a8445936f6dc",
   "metadata": {},
   "outputs": [
    {
     "data": {
      "text/html": [
       "<div>\n",
       "<style scoped>\n",
       "    .dataframe tbody tr th:only-of-type {\n",
       "        vertical-align: middle;\n",
       "    }\n",
       "\n",
       "    .dataframe tbody tr th {\n",
       "        vertical-align: top;\n",
       "    }\n",
       "\n",
       "    .dataframe thead th {\n",
       "        text-align: right;\n",
       "    }\n",
       "</style>\n",
       "<table border=\"1\" class=\"dataframe\">\n",
       "  <thead>\n",
       "    <tr style=\"text-align: right;\">\n",
       "      <th></th>\n",
       "      <th>hands</th>\n",
       "    </tr>\n",
       "  </thead>\n",
       "  <tbody>\n",
       "    <tr>\n",
       "      <th>0</th>\n",
       "      <td>right</td>\n",
       "    </tr>\n",
       "    <tr>\n",
       "      <th>1</th>\n",
       "      <td>right</td>\n",
       "    </tr>\n",
       "    <tr>\n",
       "      <th>2</th>\n",
       "      <td>left</td>\n",
       "    </tr>\n",
       "    <tr>\n",
       "      <th>3</th>\n",
       "      <td>right</td>\n",
       "    </tr>\n",
       "    <tr>\n",
       "      <th>4</th>\n",
       "      <td>right</td>\n",
       "    </tr>\n",
       "  </tbody>\n",
       "</table>\n",
       "</div>"
      ],
      "text/plain": [
       "   hands\n",
       "0  right\n",
       "1  right\n",
       "2   left\n",
       "3  right\n",
       "4  right"
      ]
     },
     "execution_count": 107,
     "metadata": {},
     "output_type": "execute_result"
    }
   ],
   "source": [
    "import pandas as pd\n",
    "import matplotlib.pyplot as plt\n",
    "df = pd.read_csv('https://raw.githubusercontent.com/Datamanim/datarepo/main/scipy/hands2.csv')\n",
    "df.head()"
   ]
  },
  {
   "cell_type": "code",
   "execution_count": 109,
   "id": "afc4a1c3-71a8-4074-a7be-8e0fa48adabc",
   "metadata": {},
   "outputs": [
    {
     "data": {
      "text/html": [
       "<div>\n",
       "<style scoped>\n",
       "    .dataframe tbody tr th:only-of-type {\n",
       "        vertical-align: middle;\n",
       "    }\n",
       "\n",
       "    .dataframe tbody tr th {\n",
       "        vertical-align: top;\n",
       "    }\n",
       "\n",
       "    .dataframe thead th {\n",
       "        text-align: right;\n",
       "    }\n",
       "</style>\n",
       "<table border=\"1\" class=\"dataframe\">\n",
       "  <thead>\n",
       "    <tr style=\"text-align: right;\">\n",
       "      <th></th>\n",
       "      <th>hands</th>\n",
       "      <th>expected</th>\n",
       "    </tr>\n",
       "    <tr>\n",
       "      <th>hands</th>\n",
       "      <th></th>\n",
       "      <th></th>\n",
       "    </tr>\n",
       "  </thead>\n",
       "  <tbody>\n",
       "    <tr>\n",
       "      <th>right</th>\n",
       "      <td>420</td>\n",
       "      <td>400</td>\n",
       "    </tr>\n",
       "    <tr>\n",
       "      <th>left</th>\n",
       "      <td>80</td>\n",
       "      <td>100</td>\n",
       "    </tr>\n",
       "  </tbody>\n",
       "</table>\n",
       "</div>"
      ],
      "text/plain": [
       "       hands  expected\n",
       "hands                 \n",
       "right    420       400\n",
       "left      80       100"
      ]
     },
     "metadata": {},
     "output_type": "display_data"
    }
   ],
   "source": [
    "# 왼손잡이 확률 = 0.2, 오른손잡이 확률 = 0.8\n",
    "# 알려진 비율로 계산된 기댓값을 구하여 카이제곱검정 시행\n",
    "target = df.hands.value_counts().to_frame(name='hands')\n",
    "target.head()\n",
    "# 알려진 비율로 계산된 기대값\n",
    "target['expected'] = [int(target.hands.sum()*0.8), int(target.hands.sum()*0.2)]\n",
    "display(target)\n"
   ]
  },
  {
   "cell_type": "code",
   "execution_count": 110,
   "id": "c474c5a0-c0a4-4896-9c84-6a8fc5fd1c2c",
   "metadata": {},
   "outputs": [
    {
     "name": "stdout",
     "output_type": "stream",
     "text": [
      "Power_divergenceResult(statistic=5.0, pvalue=0.025347318677468252)\n"
     ]
    }
   ],
   "source": [
    "from scipy.stats import chisquare\n",
    "print(chisquare(target.hands, target.expected))"
   ]
  },
  {
   "cell_type": "markdown",
   "id": "d129e472-34c4-429b-a4bb-1c705070b557",
   "metadata": {},
   "source": [
    "p-value < 0.05 이므로 귀무가설 기각. <br>\n",
    "주어진 집단의 왼손, 오른손 비율은 0.2, 0.8로 볼 수 x"
   ]
  },
  {
   "cell_type": "markdown",
   "id": "600ee285-a4ef-486a-a042-921dbe22a794",
   "metadata": {},
   "source": [
    "### Q.\n",
    "다음 데이터는 국민 기초체력을 조사한 데이터이다. 성별과 등급이 독립적인지 검정하라"
   ]
  },
  {
   "cell_type": "code",
   "execution_count": 111,
   "id": "4c7b76c8-d6c0-4da3-ac90-68788f836b84",
   "metadata": {},
   "outputs": [
    {
     "data": {
      "text/html": [
       "<div>\n",
       "<style scoped>\n",
       "    .dataframe tbody tr th:only-of-type {\n",
       "        vertical-align: middle;\n",
       "    }\n",
       "\n",
       "    .dataframe tbody tr th {\n",
       "        vertical-align: top;\n",
       "    }\n",
       "\n",
       "    .dataframe thead th {\n",
       "        text-align: right;\n",
       "    }\n",
       "</style>\n",
       "<table border=\"1\" class=\"dataframe\">\n",
       "  <thead>\n",
       "    <tr style=\"text-align: right;\">\n",
       "      <th></th>\n",
       "      <th>측정나이</th>\n",
       "      <th>측정회원성별</th>\n",
       "      <th>신장 : cm</th>\n",
       "      <th>체중 : kg</th>\n",
       "      <th>체지방율 : %</th>\n",
       "      <th>이완기혈압(최저) : mmHg</th>\n",
       "      <th>수축기혈압(최고) : mmHg</th>\n",
       "      <th>악력D : kg</th>\n",
       "      <th>앉아윗몸앞으로굽히기 : cm</th>\n",
       "      <th>교차윗몸일으키기 : 회</th>\n",
       "      <th>제자리 멀리뛰기 : cm</th>\n",
       "      <th>등급</th>\n",
       "    </tr>\n",
       "  </thead>\n",
       "  <tbody>\n",
       "    <tr>\n",
       "      <th>0</th>\n",
       "      <td>59.0</td>\n",
       "      <td>M</td>\n",
       "      <td>175.0</td>\n",
       "      <td>70.6</td>\n",
       "      <td>19.2</td>\n",
       "      <td>91.0</td>\n",
       "      <td>150.0</td>\n",
       "      <td>40.6</td>\n",
       "      <td>12.2</td>\n",
       "      <td>30.0</td>\n",
       "      <td>179.0</td>\n",
       "      <td>C</td>\n",
       "    </tr>\n",
       "    <tr>\n",
       "      <th>1</th>\n",
       "      <td>40.0</td>\n",
       "      <td>F</td>\n",
       "      <td>161.4</td>\n",
       "      <td>45.8</td>\n",
       "      <td>21.7</td>\n",
       "      <td>62.0</td>\n",
       "      <td>119.0</td>\n",
       "      <td>22.1</td>\n",
       "      <td>16.0</td>\n",
       "      <td>32.0</td>\n",
       "      <td>165.0</td>\n",
       "      <td>B</td>\n",
       "    </tr>\n",
       "    <tr>\n",
       "      <th>2</th>\n",
       "      <td>27.0</td>\n",
       "      <td>M</td>\n",
       "      <td>176.6</td>\n",
       "      <td>84.8</td>\n",
       "      <td>19.2</td>\n",
       "      <td>87.0</td>\n",
       "      <td>153.0</td>\n",
       "      <td>45.9</td>\n",
       "      <td>13.2</td>\n",
       "      <td>61.0</td>\n",
       "      <td>216.0</td>\n",
       "      <td>B</td>\n",
       "    </tr>\n",
       "    <tr>\n",
       "      <th>3</th>\n",
       "      <td>38.0</td>\n",
       "      <td>M</td>\n",
       "      <td>167.6</td>\n",
       "      <td>76.7</td>\n",
       "      <td>24.7</td>\n",
       "      <td>63.0</td>\n",
       "      <td>132.0</td>\n",
       "      <td>43.6</td>\n",
       "      <td>16.0</td>\n",
       "      <td>45.0</td>\n",
       "      <td>231.0</td>\n",
       "      <td>A</td>\n",
       "    </tr>\n",
       "    <tr>\n",
       "      <th>4</th>\n",
       "      <td>21.0</td>\n",
       "      <td>M</td>\n",
       "      <td>165.2</td>\n",
       "      <td>66.2</td>\n",
       "      <td>21.5</td>\n",
       "      <td>83.0</td>\n",
       "      <td>106.0</td>\n",
       "      <td>33.5</td>\n",
       "      <td>10.6</td>\n",
       "      <td>46.0</td>\n",
       "      <td>198.0</td>\n",
       "      <td>C</td>\n",
       "    </tr>\n",
       "  </tbody>\n",
       "</table>\n",
       "</div>"
      ],
      "text/plain": [
       "   측정나이 측정회원성별  신장 : cm  체중 : kg  체지방율 : %  이완기혈압(최저) : mmHg  \\\n",
       "0  59.0      M    175.0     70.6      19.2              91.0   \n",
       "1  40.0      F    161.4     45.8      21.7              62.0   \n",
       "2  27.0      M    176.6     84.8      19.2              87.0   \n",
       "3  38.0      M    167.6     76.7      24.7              63.0   \n",
       "4  21.0      M    165.2     66.2      21.5              83.0   \n",
       "\n",
       "   수축기혈압(최고) : mmHg  악력D : kg  앉아윗몸앞으로굽히기 : cm  교차윗몸일으키기 : 회  제자리 멀리뛰기 : cm 등급  \n",
       "0             150.0      40.6             12.2          30.0          179.0  C  \n",
       "1             119.0      22.1             16.0          32.0          165.0  B  \n",
       "2             153.0      45.9             13.2          61.0          216.0  B  \n",
       "3             132.0      43.6             16.0          45.0          231.0  A  \n",
       "4             106.0      33.5             10.6          46.0          198.0  C  "
      ]
     },
     "execution_count": 111,
     "metadata": {},
     "output_type": "execute_result"
    }
   ],
   "source": [
    "import pandas as pd\n",
    "import matplotlib.pyplot as plt\n",
    "df = pd.read_csv('https://raw.githubusercontent.com/Datamanim/datarepo/main/body/body.csv')\n",
    "df.head()"
   ]
  },
  {
   "cell_type": "code",
   "execution_count": 112,
   "id": "07214eb5-1c31-4cff-affb-38223ab3fef2",
   "metadata": {},
   "outputs": [
    {
     "data": {
      "text/html": [
       "<div>\n",
       "<style scoped>\n",
       "    .dataframe tbody tr th:only-of-type {\n",
       "        vertical-align: middle;\n",
       "    }\n",
       "\n",
       "    .dataframe tbody tr th {\n",
       "        vertical-align: top;\n",
       "    }\n",
       "\n",
       "    .dataframe thead th {\n",
       "        text-align: right;\n",
       "    }\n",
       "</style>\n",
       "<table border=\"1\" class=\"dataframe\">\n",
       "  <thead>\n",
       "    <tr style=\"text-align: right;\">\n",
       "      <th>등급</th>\n",
       "      <th>A</th>\n",
       "      <th>B</th>\n",
       "      <th>C</th>\n",
       "      <th>D</th>\n",
       "    </tr>\n",
       "    <tr>\n",
       "      <th>측정회원성별</th>\n",
       "      <th></th>\n",
       "      <th></th>\n",
       "      <th></th>\n",
       "      <th></th>\n",
       "    </tr>\n",
       "  </thead>\n",
       "  <tbody>\n",
       "    <tr>\n",
       "      <th>F</th>\n",
       "      <td>1484</td>\n",
       "      <td>1130</td>\n",
       "      <td>1147</td>\n",
       "      <td>1120</td>\n",
       "    </tr>\n",
       "    <tr>\n",
       "      <th>M</th>\n",
       "      <td>1865</td>\n",
       "      <td>2219</td>\n",
       "      <td>2202</td>\n",
       "      <td>2229</td>\n",
       "    </tr>\n",
       "  </tbody>\n",
       "</table>\n",
       "</div>"
      ],
      "text/plain": [
       "등급         A     B     C     D\n",
       "측정회원성별                        \n",
       "F       1484  1130  1147  1120\n",
       "M       1865  2219  2202  2229"
      ]
     },
     "metadata": {},
     "output_type": "display_data"
    }
   ],
   "source": [
    "# pd.crosstab: 두 범주형 변수의 교차표를 만드는 함수\n",
    "cdf = pd.crosstab(df['측정회원성별'], df['등급'])\n",
    "display(cdf)"
   ]
  },
  {
   "cell_type": "code",
   "execution_count": 116,
   "id": "c1e55590-a7a1-448e-ac64-9509b3586df0",
   "metadata": {},
   "outputs": [
    {
     "name": "stdout",
     "output_type": "stream",
     "text": [
      "Chi2ContingencyResult(statistic=120.06233631119409, pvalue=7.481892813401678e-26, dof=3, expected_freq=array([[1220.25, 1220.25, 1220.25, 1220.25],\n",
      "       [2128.75, 2128.75, 2128.75, 2128.75]]))\n",
      "\n",
      "7.481892813401678e-26\n"
     ]
    }
   ],
   "source": [
    "from scipy.stats import chi2_contingency\n",
    "print(chi2_contingency(cdf))\n",
    "print()\n",
    "chi2, p, dof, expected = chi2_contingency(cdf)\n",
    "print(p)"
   ]
  },
  {
   "cell_type": "markdown",
   "id": "34c5dab7-b60a-429c-ad15-93040fafb7cc",
   "metadata": {},
   "source": [
    "### Q. 성별에 따른 동아리 활동 참석 비율을 나타낸 데이터이다. 성별과 참석간에 관련이 있는지 검정하라"
   ]
  },
  {
   "cell_type": "code",
   "execution_count": 117,
   "id": "d1b47bb3-effb-4311-b934-ca8e93dbbe00",
   "metadata": {},
   "outputs": [
    {
     "data": {
      "text/html": [
       "<div>\n",
       "<style scoped>\n",
       "    .dataframe tbody tr th:only-of-type {\n",
       "        vertical-align: middle;\n",
       "    }\n",
       "\n",
       "    .dataframe tbody tr th {\n",
       "        vertical-align: top;\n",
       "    }\n",
       "\n",
       "    .dataframe thead th {\n",
       "        text-align: right;\n",
       "    }\n",
       "</style>\n",
       "<table border=\"1\" class=\"dataframe\">\n",
       "  <thead>\n",
       "    <tr style=\"text-align: right;\">\n",
       "      <th></th>\n",
       "      <th>불참</th>\n",
       "      <th>참석</th>\n",
       "      <th>총합</th>\n",
       "    </tr>\n",
       "  </thead>\n",
       "  <tbody>\n",
       "    <tr>\n",
       "      <th>남성</th>\n",
       "      <td>4</td>\n",
       "      <td>2</td>\n",
       "      <td>6</td>\n",
       "    </tr>\n",
       "    <tr>\n",
       "      <th>여성</th>\n",
       "      <td>1</td>\n",
       "      <td>9</td>\n",
       "      <td>10</td>\n",
       "    </tr>\n",
       "    <tr>\n",
       "      <th>총합</th>\n",
       "      <td>5</td>\n",
       "      <td>11</td>\n",
       "      <td>16</td>\n",
       "    </tr>\n",
       "  </tbody>\n",
       "</table>\n",
       "</div>"
      ],
      "text/plain": [
       "    불참  참석  총합\n",
       "남성   4   2   6\n",
       "여성   1   9  10\n",
       "총합   5  11  16"
      ]
     },
     "execution_count": 117,
     "metadata": {},
     "output_type": "execute_result"
    }
   ],
   "source": [
    "import pandas as pd\n",
    "import matplotlib.pyplot as plt\n",
    "df = pd.read_csv('https://raw.githubusercontent.com/Datamanim/datarepo/main/scipy/fe2.csv',index_col=0)\n",
    "df"
   ]
  },
  {
   "cell_type": "code",
   "execution_count": 118,
   "id": "763d59f4-c20f-466a-811d-1b2c5d2df417",
   "metadata": {},
   "outputs": [
    {
     "data": {
      "text/html": [
       "<div>\n",
       "<style scoped>\n",
       "    .dataframe tbody tr th:only-of-type {\n",
       "        vertical-align: middle;\n",
       "    }\n",
       "\n",
       "    .dataframe tbody tr th {\n",
       "        vertical-align: top;\n",
       "    }\n",
       "\n",
       "    .dataframe thead th {\n",
       "        text-align: right;\n",
       "    }\n",
       "</style>\n",
       "<table border=\"1\" class=\"dataframe\">\n",
       "  <thead>\n",
       "    <tr style=\"text-align: right;\">\n",
       "      <th></th>\n",
       "      <th>불참</th>\n",
       "      <th>참석</th>\n",
       "    </tr>\n",
       "  </thead>\n",
       "  <tbody>\n",
       "    <tr>\n",
       "      <th>남성</th>\n",
       "      <td>4</td>\n",
       "      <td>2</td>\n",
       "    </tr>\n",
       "    <tr>\n",
       "      <th>여성</th>\n",
       "      <td>1</td>\n",
       "      <td>9</td>\n",
       "    </tr>\n",
       "  </tbody>\n",
       "</table>\n",
       "</div>"
      ],
      "text/plain": [
       "    불참  참석\n",
       "남성   4   2\n",
       "여성   1   9"
      ]
     },
     "metadata": {},
     "output_type": "display_data"
    }
   ],
   "source": [
    "# 총합 제외하고 dataframe\n",
    "cdf = df.iloc[:-1,:-1]\n",
    "display(cdf)"
   ]
  },
  {
   "cell_type": "code",
   "execution_count": 120,
   "id": "b6295357-1ee3-45f6-aa67-417c7432af15",
   "metadata": {},
   "outputs": [
    {
     "name": "stdout",
     "output_type": "stream",
     "text": [
      "Chi2ContingencyResult(statistic=3.277575757575758, pvalue=0.07023259819117433, dof=1, expected_freq=array([[1.875, 4.125],\n",
      "       [3.125, 6.875]]))\n"
     ]
    }
   ],
   "source": [
    "from scipy.stats import chi2_contingency, fisher_exact\n",
    "print(chi2_contingency(cdf))"
   ]
  },
  {
   "cell_type": "markdown",
   "id": "3279d8e8-ba7d-423c-ba00-74080b1a2a59",
   "metadata": {},
   "source": [
    "카이 제곱 검정 -> p-value > 0.07 : 귀무가설 기각 불가. 성별과 참석 엽부는 관련이 없다(독립) <br>\n",
    "**but**\n",
    "5보다 작은 셀이 20%가 넘어가므로(75%) 피셔의 정확검정 사용해야됨"
   ]
  },
  {
   "cell_type": "markdown",
   "id": "029a6638-b97c-4eb5-9549-95dde2aa27c1",
   "metadata": {},
   "source": [
    "카이제곱 검정 조건\n",
    "- 기대도수(expected frequency)가 모든 셀에서 5이상이어야\n",
    "- 또는, 전체 셀의 20% 이하만 5미만이어야됨"
   ]
  },
  {
   "cell_type": "code",
   "execution_count": 121,
   "id": "15621873-b062-44f6-add7-f5db440d477c",
   "metadata": {},
   "outputs": [
    {
     "name": "stdout",
     "output_type": "stream",
     "text": [
      "SignificanceResult(statistic=18.0, pvalue=0.03571428571428571)\n"
     ]
    }
   ],
   "source": [
    "print(fisher_exact(cdf))"
   ]
  },
  {
   "cell_type": "markdown",
   "id": "722e7141-cf70-4379-9f7b-e40f36216e0b",
   "metadata": {},
   "source": [
    "피셔 정확성 검정 결과 p-value < 0.05 : 귀무가설 기각 불가 <br>\n",
    "성별과 참석여부는 관련이 있다."
   ]
  },
  {
   "cell_type": "code",
   "execution_count": null,
   "id": "1166046e-d181-42a9-83a5-580798f55339",
   "metadata": {},
   "outputs": [],
   "source": []
  }
 ],
 "metadata": {
  "kernelspec": {
   "display_name": "Python 3 (ipykernel)",
   "language": "python",
   "name": "python3"
  },
  "language_info": {
   "codemirror_mode": {
    "name": "ipython",
    "version": 3
   },
   "file_extension": ".py",
   "mimetype": "text/x-python",
   "name": "python",
   "nbconvert_exporter": "python",
   "pygments_lexer": "ipython3",
   "version": "3.10.14"
  }
 },
 "nbformat": 4,
 "nbformat_minor": 5
}
