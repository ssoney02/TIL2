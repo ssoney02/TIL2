{
 "cells": [
  {
   "cell_type": "markdown",
   "id": "8290606f-a581-445a-9950-293fec68834d",
   "metadata": {},
   "source": [
    "# SciPy tutorial"
   ]
  },
  {
   "cell_type": "code",
   "execution_count": 1,
   "id": "2e532870-6728-4343-a36e-c3f51aff0da3",
   "metadata": {},
   "outputs": [
    {
     "data": {
      "image/png": "[encoded data removed]",
      "text/plain": [
       "<Figure size 640x480 with 1 Axes>"
      ]
     },
     "metadata": {},
     "output_type": "display_data"
    }
   ],
   "source": [
    "# 정규성 검정\n",
    "import pandas as pd\n",
    "import matplotlib.pyplot as plt\n",
    "df = pd.read_csv('https://raw.githubusercontent.com/Datamanim/datarepo/main/scipy/normal1.csv')\n",
    "plt.hist(df)\n",
    "plt.show()"
   ]
  },
  {
   "cell_type": "code",
   "execution_count": 2,
   "id": "424c0511-af9e-42a0-8caf-cd17c518d118",
   "metadata": {},
   "outputs": [
    {
     "name": "stdout",
     "output_type": "stream",
     "text": [
      "['BootstrapMethod', 'CensoredData', 'ConstantInputWarning', 'Covariance', 'DegenerateDataWarning', 'FitError', 'MonteCarloMethod', 'NearConstantInputWarning', 'PermutationMethod', '__all__', '__builtins__', '__cached__', '__doc__', '__file__', '__loader__', '__name__', '__package__', '__path__', '__spec__', '_ansari_swilk_statistics', '_axis_nan_policy', '_biasedurn', '_binned_statistic', '_binomtest', '_boost', '_bws_test', '_censored_data', '_common', '_constants', '_continuous_distns', '_covariance', '_crosstab', '_discrete_distns', '_distn_infrastructure', '_distr_params', '_entropy', '_fit', '_hypotests', '_kde', '_ksstats', '_levy_stable', '_mannwhitneyu', '_morestats', '_mstats_basic', '_mstats_extras', '_multicomp', '_multivariate', '_mvn', '_odds_ratio', '_page_trend_test', '_qmc', '_qmc_cy', '_qmvnt', '_rcont', '_relative_risk', '_resampling', '_rvs_sampling', '_sampling', '_sensitivity_analysis', '_sobol', '_stats', '_stats_mstats_common', '_stats_py', '_stats_pythran', '_survival', '_tukeylambda_stats', '_unuran', '_variation', '_warnings_errors', '_wilcoxon', 'alexandergovern', 'alpha', 'anderson', 'anderson_ksamp', 'anglit', 'ansari', 'arcsine', 'argus', 'barnard_exact', 'bartlett', 'bayes_mvs', 'bernoulli', 'beta', 'betabinom', 'betanbinom', 'betaprime', 'biasedurn', 'binned_statistic', 'binned_statistic_2d', 'binned_statistic_dd', 'binom', 'binomtest', 'boltzmann', 'bootstrap', 'boschloo_exact', 'boxcox', 'boxcox_llf', 'boxcox_normmax', 'boxcox_normplot', 'bradford', 'brunnermunzel', 'burr', 'burr12', 'bws_test', 'cauchy', 'chi', 'chi2', 'chi2_contingency', 'chisquare', 'circmean', 'circstd', 'circvar', 'combine_pvalues', 'contingency', 'cosine', 'cramervonmises', 'cramervonmises_2samp', 'crystalball', 'cumfreq', 'describe', 'dgamma', 'differential_entropy', 'directional_stats', 'dirichlet', 'dirichlet_multinomial', 'distributions', 'dlaplace', 'dunnett', 'dweibull', 'ecdf', 'energy_distance', 'entropy', 'epps_singleton_2samp', 'erlang', 'expectile', 'expon', 'exponnorm', 'exponpow', 'exponweib', 'f', 'f_oneway', 'false_discovery_control', 'fatiguelife', 'find_repeats', 'fisher_exact', 'fisk', 'fit', 'fligner', 'foldcauchy', 'foldnorm', 'friedmanchisquare', 'gamma', 'gausshyper', 'gaussian_kde', 'genexpon', 'genextreme', 'gengamma', 'genhalflogistic', 'genhyperbolic', 'geninvgauss', 'genlogistic', 'gennorm', 'genpareto', 'geom', 'gibrat', 'gmean', 'gompertz', 'goodness_of_fit', 'gstd', 'gumbel_l', 'gumbel_r', 'gzscore', 'halfcauchy', 'halfgennorm', 'halflogistic', 'halfnorm', 'hmean', 'hypergeom', 'hypsecant', 'invgamma', 'invgauss', 'invweibull', 'invwishart', 'iqr', 'jarque_bera', 'jf_skew_t', 'johnsonsb', 'johnsonsu', 'kappa3', 'kappa4', 'kde', 'kendalltau', 'kruskal', 'ks_1samp', 'ks_2samp', 'ksone', 'kstat', 'kstatvar', 'kstest', 'kstwo', 'kstwobign', 'kurtosis', 'kurtosistest', 'laplace', 'laplace_asymmetric', 'levene', 'levy', 'levy_l', 'levy_stable', 'linregress', 'loggamma', 'logistic', 'loglaplace', 'lognorm', 'logrank', 'logser', 'loguniform', 'lomax', 'mannwhitneyu', 'matrix_normal', 'maxwell', 'median_abs_deviation', 'median_test', 'mielke', 'mode', 'moment', 'monte_carlo_test', 'mood', 'morestats', 'moyal', 'mstats', 'mstats_basic', 'mstats_extras', 'multinomial', 'multiscale_graphcorr', 'multivariate_hypergeom', 'multivariate_normal', 'multivariate_t', 'mvn', 'mvsdist', 'nakagami', 'nbinom', 'ncf', 'nchypergeom_fisher', 'nchypergeom_wallenius', 'nct', 'ncx2', 'nhypergeom', 'norm', 'normaltest', 'norminvgauss', 'obrientransform', 'ortho_group', 'page_trend_test', 'pareto', 'pearson3', 'pearsonr', 'percentileofscore', 'permutation_test', 'planck', 'pmean', 'pointbiserialr', 'poisson', 'poisson_means_test', 'power_divergence', 'powerlaw', 'powerlognorm', 'powernorm', 'ppcc_max', 'ppcc_plot', 'probplot', 'qmc', 'quantile_test', 'randint', 'random_correlation', 'random_table', 'rankdata', 'ranksums', 'rayleigh', 'rdist', 'recipinvgauss', 'reciprocal', 'rel_breitwigner', 'relfreq', 'rice', 'rv_continuous', 'rv_discrete', 'rv_histogram', 'rvs_ratio_uniforms', 'sampling', 'scoreatpercentile', 'sem', 'semicircular', 'shapiro', 'siegelslopes', 'sigmaclip', 'skellam', 'skew', 'skewcauchy', 'skewnorm', 'skewtest', 'sobol_indices', 'somersd', 'spearmanr', 'special_ortho_group', 'stats', 'studentized_range', 't', 'test', 'theilslopes', 'tiecorrect', 'tmax', 'tmean', 'tmin', 'trapezoid', 'trapz', 'triang', 'trim1', 'trim_mean', 'trimboth', 'truncexpon', 'truncnorm', 'truncpareto', 'truncweibull_min', 'tsem', 'tstd', 'ttest_1samp', 'ttest_ind', 'ttest_ind_from_stats', 'ttest_rel', 'tukey_hsd', 'tukeylambda', 'tvar', 'uniform', 'uniform_direction', 'unitary_group', 'variation', 'vonmises', 'vonmises_fisher', 'vonmises_line', 'wald', 'wasserstein_distance', 'wasserstein_distance_nd', 'weibull_max', 'weibull_min', 'weightedtau', 'wilcoxon', 'wishart', 'wrapcauchy', 'yeojohnson', 'yeojohnson_llf', 'yeojohnson_normmax', 'yeojohnson_normplot', 'yulesimon', 'zipf', 'zipfian', 'zmap', 'zscore']\n"
     ]
    }
   ],
   "source": [
    "from scipy import stats\n",
    "print(dir(stats))"
   ]
  },
  {
   "cell_type": "code",
   "execution_count": 3,
   "id": "b1849d5e-9d7d-442c-8ca9-da9fc4d10a62",
   "metadata": {},
   "outputs": [
    {
     "name": "stdout",
     "output_type": "stream",
     "text": [
      "ShapiroResult(statistic=0.9981433805517022, pvalue=0.34796592330595577)\n"
     ]
    }
   ],
   "source": [
    "# 정규성 검정\n",
    "from scipy.stats import shapiro\n",
    "print(shapiro(df))"
   ]
  },
  {
   "cell_type": "markdown",
   "id": "a9259972-70c9-443a-8176-2f7282850a43",
   "metadata": {},
   "source": [
    "-> 샤피로 검정 시, p-value=0.35 -> 유의수준 5%에서 귀무가설 기각 불가\n",
    "=> 귀무가설 채택. 정규성을 가진다.<br>\n",
    "<br>\n",
    "p-value가 유의수준보다 크면, 유의하므로 귀무가설 기각할 수 없음 -> 귀무가설 채택<br>\n",
    "p-value < 유의수준이면, 유의하지 않으므로, 귀무가설 기각 -> 대립가설 채택"
   ]
  },
  {
   "cell_type": "code",
   "execution_count": 4,
   "id": "5ea1e0fe-67e0-4204-adca-e3d87258ddb5",
   "metadata": {},
   "outputs": [
    {
     "data": {
      "image/png": "[encoded data removed]",
      "text/plain": [
       "<Figure size 640x480 with 1 Axes>"
      ]
     },
     "metadata": {},
     "output_type": "display_data"
    }
   ],
   "source": [
    "# 2\n",
    "import pandas as pd\n",
    "import matplotlib.pyplot as plt\n",
    "df = pd.read_csv('https://raw.githubusercontent.com/Datamanim/datarepo/main/scipy/normal3.csv')\n",
    "plt.hist(df)\n",
    "plt.show()"
   ]
  },
  {
   "cell_type": "code",
   "execution_count": 5,
   "id": "9e594eed-a149-448c-af5b-a7180c99651e",
   "metadata": {},
   "outputs": [
    {
     "name": "stdout",
     "output_type": "stream",
     "text": [
      "ShapiroResult(statistic=0.9578887230674161, pvalue=2.3098528601775786e-16)\n"
     ]
    }
   ],
   "source": [
    "from scipy.stats import shapiro\n",
    "print(shapiro(df))"
   ]
  },
  {
   "cell_type": "markdown",
   "id": "1c2cfc18-494c-4258-8e01-cc40e31411f3",
   "metadata": {},
   "source": [
    "**p-value = 2.3e-16** (아주 작은수...)\n",
    "-> p-value < 0.05 : 유의수준 5%에서 귀무가설 기각 가능, 대립가설 채택<br>\n",
    "=> 데이터는 정규성을 가지지 않는다."
   ]
  },
  {
   "cell_type": "code",
   "execution_count": 6,
   "id": "9044b77c-b9cc-47f7-92e7-89a845878b02",
   "metadata": {},
   "outputs": [
    {
     "data": {
      "image/png": "[encoded data removed]",
      "text/plain": [
       "<Figure size 640x480 with 1 Axes>"
      ]
     },
     "metadata": {},
     "output_type": "display_data"
    }
   ],
   "source": [
    "# 3 log 변환 후 정규성 가지는 지 확인\n",
    "import numpy as np\n",
    "import matplotlib.pyplot as plt\n",
    "import pandas as pd\n",
    "\n",
    "df = pd.read_csv('https://raw.githubusercontent.com/Datamanim/datarepo/main/scipy/normal3.csv')\n",
    "log_y_data = np.log1p(df)  # 로그변환!!!!!!\n",
    "plt.hist(log_y_data)\n",
    "plt.show()"
   ]
  },
  {
   "cell_type": "code",
   "execution_count": 8,
   "id": "ba152b88-6536-4db2-852c-dc6fe5d922e4",
   "metadata": {},
   "outputs": [
    {
     "name": "stdout",
     "output_type": "stream",
     "text": [
      "ShapiroResult(statistic=0.9976879570377135, pvalue=0.17513126966872208)\n"
     ]
    }
   ],
   "source": [
    "from scipy.stats import shapiro\n",
    "print(shapiro(log_y_data))"
   ]
  },
  {
   "cell_type": "markdown",
   "id": "938842be-15d8-4bf5-bd6b-6590a915ab9f",
   "metadata": {},
   "source": [
    "로그변환 한 데이터 -> p-value > 0.05 귀무가설 기각불가. 귀무가설 채택 <br>\n",
    "=> 정규성을 가진다."
   ]
  },
  {
   "cell_type": "code",
   "execution_count": 9,
   "id": "699d4080-9bf8-4d65-8006-32becad8aa17",
   "metadata": {},
   "outputs": [
    {
     "data": {
      "image/png": "[encoded data removed]",
      "text/plain": [
       "<Figure size 640x480 with 1 Axes>"
      ]
     },
     "metadata": {},
     "output_type": "display_data"
    }
   ],
   "source": [
    "# 7\n",
    "import pandas as pd\n",
    "import numpy as np\n",
    "import matplotlib.pyplot as plt\n",
    "\n",
    "df = pd.read_csv('https://raw.githubusercontent.com/Datamanim/datarepo/main/scipy/normal6.csv')\n",
    "plt.hist(df)\n",
    "plt.show()"
   ]
  },
  {
   "cell_type": "code",
   "execution_count": 10,
   "id": "c1565b0b-e86f-4f7b-bf04-8c586f245503",
   "metadata": {},
   "outputs": [
    {
     "name": "stdout",
     "output_type": "stream",
     "text": [
      "ShapiroResult(statistic=0.9995353804150279, pvalue=0.15046155392344363)\n"
     ]
    },
    {
     "name": "stderr",
     "output_type": "stream",
     "text": [
      "/opt/homebrew/Caskroom/miniforge/base/lib/python3.10/site-packages/scipy/stats/_axis_nan_policy.py:531: UserWarning: scipy.stats.shapiro: For N > 5000, computed p-value may not be accurate. Current N is 6000.\n",
      "  res = hypotest_fun_out(*samples, **kwds)\n"
     ]
    }
   ],
   "source": [
    "from scipy.stats import shapiro\n",
    "\n",
    "print(shapiro(df))"
   ]
  },
  {
   "cell_type": "markdown",
   "id": "bc9f82f7-07fe-48de-8ecd-f9c0842759dd",
   "metadata": {},
   "source": [
    "shapiro 검정 시, p-value > 0.05 이므로 귀무가설 유의함. 귀무가설 기각 불가. 귀무가설 채택<br>\n",
    "**경고메세지**\n",
    "5000개 초과의 샘플에 대해서 샤피로 검정은 정확하지 않을 수 o <br>\n",
    "=> anderson 검정"
   ]
  },
  {
   "cell_type": "code",
   "execution_count": 12,
   "id": "801518f3-db1b-4607-9c0a-3f8e5b735639",
   "metadata": {},
   "outputs": [
    {
     "name": "stdout",
     "output_type": "stream",
     "text": [
      "AndersonResult(statistic=0.8266993530396576, critical_values=array([0.576, 0.656, 0.786, 0.917, 1.091]), significance_level=array([15. , 10. ,  5. ,  2.5,  1. ]), fit_result=  params: FitParams(loc=299.95980319533163, scale=5.03180688788513)\n",
      " success: True\n",
      " message: '`anderson` successfully fit the distribution to the data.')\n"
     ]
    }
   ],
   "source": [
    "# anderson 검정(N > 5000)\n",
    "from scipy.stats import anderson\n",
    "print(anderson(df['data'].values))"
   ]
  },
  {
   "cell_type": "markdown",
   "id": "026865a0-cfd1-42d0-b0ef-422d6b46d134",
   "metadata": {},
   "source": [
    "### anderson 검정 결과 해석\n",
    "significance_level : 유의 확률값\n",
    "critical_values : 각 유의확률 값의 기준점\n",
    "- 유의수준 5%에서 검정 진행 -> significance_level 5.에서 확인 => critical_values= 0.786\n",
    "- statistic = 0.82\n",
    "- **p-value로 판단할 때와 반대..**\n",
    "- 0.82 > 0.786 (statistic > critical_values) => 귀무가설 기각. 대립가설 채택\n",
    "=> 정규성을 가지지 않는다."
   ]
  },
  {
   "cell_type": "markdown",
   "id": "d1a63b31-3335-441a-8d31-716e2c170be3",
   "metadata": {},
   "source": [
    "# 단일 표본 t-검정(one-sample)"
   ]
  },
  {
   "cell_type": "markdown",
   "id": "1ef24fe1-8d25-4a82-b144-4419a6a21bbb",
   "metadata": {},
   "source": [
    "100명의 키 정보가 들어 있는 데이터가 있다.데이터가 정규성을 만족하는지 확인하라.\n",
    "그리고 평균키는 165라 판단할수 있는지 귀무가설과 대립가설을 설정한 후 유의수준 5%로 검정하라."
   ]
  },
  {
   "cell_type": "markdown",
   "id": "a9a6d797-198f-49fa-a53c-ce943dc71932",
   "metadata": {},
   "source": [
    "1. 데이터가 정규성을 만족하는지 확인\n",
    "2. 정규성을 만족하는 경우\n",
    "   - 평균 165인지 검정 : 단일 표본 t-검정\n",
    "\n",
    "3. 정규성을 만족하지 않는 경우\n",
    "   - 평균 165인지 검정: 윌콕슨 부호순위 검정(비모수)\n",
    "   - 샘플이 정규분포를 따르지 않으므로,\n",
    "   - 평균이 아닌 중앙값 기준의 검정 수행\n",
    "   - df['height'] - 165 형태로 중심값을 기준으로 편차의 부호/순위 계산"
   ]
  },
  {
   "cell_type": "code",
   "execution_count": 13,
   "id": "2a0f8b86-8600-4132-9dc1-5cef26e92d1e",
   "metadata": {},
   "outputs": [
    {
     "data": {
      "image/png": "[encoded data removed]",
      "text/plain": [
       "<Figure size 640x480 with 1 Axes>"
      ]
     },
     "metadata": {},
     "output_type": "display_data"
    }
   ],
   "source": [
    "import pandas as pd\n",
    "import matplotlib.pyplot as plt\n",
    "df = pd.read_csv('https://raw.githubusercontent.com/Datamanim/datarepo/main/scipy/height1.csv')\n",
    "plt.hist(df)\n",
    "plt.show()"
   ]
  },
  {
   "cell_type": "code",
   "execution_count": 14,
   "id": "63eea8ab-918e-4960-89e7-b5d93fef585b",
   "metadata": {},
   "outputs": [
    {
     "name": "stdout",
     "output_type": "stream",
     "text": [
      "ShapiroResult(statistic=0.9872671038154957, pvalue=0.45583339816328994)\n"
     ]
    }
   ],
   "source": [
    "from scipy.stats import shapiro\n",
    "print(shapiro(df))"
   ]
  },
  {
   "cell_type": "markdown",
   "id": "c8163890-db68-4607-9ba4-34940176a8ee",
   "metadata": {},
   "source": [
    "p-value > 0.05 이므로 귀무가설 유의. 기각불가. 정규성을 만족한다."
   ]
  },
  {
   "cell_type": "code",
   "execution_count": 15,
   "id": "ae00a2f2-d168-4b0b-9267-a5d7a409f84d",
   "metadata": {},
   "outputs": [
    {
     "name": "stdout",
     "output_type": "stream",
     "text": [
      "샤피로 정규성 검정 p-value:  0.45583339816328994 이므로\n",
      "귀무가설 기각\n"
     ]
    }
   ],
   "source": [
    "# 평균키 = 165라 할 수 있는지 귀무가설, 대립가설 설정 후 유의수준 5% 검정\n",
    "# H0: m = 165 , H1: m != 165\n",
    "\n",
    "from scipy.stats import ttest_1samp, shapiro, wilcoxon\n",
    "# 데이터의 정규성 먼저 검정\n",
    "static, pvalue = shapiro(df)\n",
    "print('샤피로 정규성 검정 p-value: ', pvalue,'이므로')\n",
    "\n",
    "# 데이터가 정규성을 만족하지 않는 경우\n",
    "if pvalue < 0.05 : \n",
    "    print('귀무가설 기각. 정규성 만족하지 않으므로 비모수 검정 진행. 윌콕슨 순위 부호 검정 진행')\n",
    "\n",
    "    # 윌콕슨 부호순위 검정\n",
    "    static, pvalue = wilcoxon(df['height']-165)\n",
    "    # static, pvalue = wilcoxon(df['height'], np.ones(len(df) * 165) # 여러 표본쌍을 비교할 때 일반적인 형식\n",
    "\n",
    "    if pvalue < 0.05:\n",
    "        print(f'검정결과 pvalue 는 {pvalue}이므로 귀무가설 기각. 평균은 165가 아니다')\n",
    "    else:\n",
    "        print('평균은 165')\n",
    "\n",
    "# 데이터가 정규성을 만족하는 경우 -> t-검정\n",
    "else:\n",
    "    # 단일 표본 t검정\n",
    "    static, pvalue = ttest_1samp(df['height'], 165)\n",
    "    if pvalue < 0.05:\n",
    "        print('귀무가설 기각')\n",
    "    else:\n",
    "        print('귀무가설 채택')\n",
    "    "
   ]
  },
  {
   "cell_type": "code",
   "execution_count": null,
   "id": "5663a8bc-8e4c-40d5-994c-4aed10dfe9e2",
   "metadata": {},
   "outputs": [],
   "source": []
  }
 ],
 "metadata": {
  "kernelspec": {
   "display_name": "Python 3 (ipykernel)",
   "language": "python",
   "name": "python3"
  },
  "language_info": {
   "codemirror_mode": {
    "name": "ipython",
    "version": 3
   },
   "file_extension": ".py",
   "mimetype": "text/x-python",
   "name": "python",
   "nbconvert_exporter": "python",
   "pygments_lexer": "ipython3",
   "version": "3.10.14"
  }
 },
 "nbformat": 4,
 "nbformat_minor": 5
}
