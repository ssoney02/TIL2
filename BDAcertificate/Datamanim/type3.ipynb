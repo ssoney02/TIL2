{
 "cells": [
  {
   "cell_type": "markdown",
   "id": "8290606f-a581-445a-9950-293fec68834d",
   "metadata": {},
   "source": [
    "# SciPy tutorial"
   ]
  },
  {
   "cell_type": "code",
   "execution_count": 1,
   "id": "2e532870-6728-4343-a36e-c3f51aff0da3",
   "metadata": {},
   "outputs": [
    {
     "data": {
      "image/png": "[encoded data removed]",
      "text/plain": [
       "<Figure size 640x480 with 1 Axes>"
      ]
     },
     "metadata": {},
     "output_type": "display_data"
    }
   ],
   "source": [
    "# 정규성 검정\n",
    "import pandas as pd\n",
    "import matplotlib.pyplot as plt\n",
    "df = pd.read_csv('https://raw.githubusercontent.com/Datamanim/datarepo/main/scipy/normal1.csv')\n",
    "plt.hist(df)\n",
    "plt.show()"
   ]
  },
  {
   "cell_type": "code",
   "execution_count": 2,
   "id": "424c0511-af9e-42a0-8caf-cd17c518d118",
   "metadata": {},
   "outputs": [
    {
     "name": "stdout",
     "output_type": "stream",
     "text": [
      "['BootstrapMethod', 'CensoredData', 'ConstantInputWarning', 'Covariance', 'DegenerateDataWarning', 'FitError', 'MonteCarloMethod', 'NearConstantInputWarning', 'PermutationMethod', '__all__', '__builtins__', '__cached__', '__doc__', '__file__', '__loader__', '__name__', '__package__', '__path__', '__spec__', '_ansari_swilk_statistics', '_axis_nan_policy', '_biasedurn', '_binned_statistic', '_binomtest', '_boost', '_bws_test', '_censored_data', '_common', '_constants', '_continuous_distns', '_covariance', '_crosstab', '_discrete_distns', '_distn_infrastructure', '_distr_params', '_entropy', '_fit', '_hypotests', '_kde', '_ksstats', '_levy_stable', '_mannwhitneyu', '_morestats', '_mstats_basic', '_mstats_extras', '_multicomp', '_multivariate', '_mvn', '_odds_ratio', '_page_trend_test', '_qmc', '_qmc_cy', '_qmvnt', '_rcont', '_relative_risk', '_resampling', '_rvs_sampling', '_sampling', '_sensitivity_analysis', '_sobol', '_stats', '_stats_mstats_common', '_stats_py', '_stats_pythran', '_survival', '_tukeylambda_stats', '_unuran', '_variation', '_warnings_errors', '_wilcoxon', 'alexandergovern', 'alpha', 'anderson', 'anderson_ksamp', 'anglit', 'ansari', 'arcsine', 'argus', 'barnard_exact', 'bartlett', 'bayes_mvs', 'bernoulli', 'beta', 'betabinom', 'betanbinom', 'betaprime', 'biasedurn', 'binned_statistic', 'binned_statistic_2d', 'binned_statistic_dd', 'binom', 'binomtest', 'boltzmann', 'bootstrap', 'boschloo_exact', 'boxcox', 'boxcox_llf', 'boxcox_normmax', 'boxcox_normplot', 'bradford', 'brunnermunzel', 'burr', 'burr12', 'bws_test', 'cauchy', 'chi', 'chi2', 'chi2_contingency', 'chisquare', 'circmean', 'circstd', 'circvar', 'combine_pvalues', 'contingency', 'cosine', 'cramervonmises', 'cramervonmises_2samp', 'crystalball', 'cumfreq', 'describe', 'dgamma', 'differential_entropy', 'directional_stats', 'dirichlet', 'dirichlet_multinomial', 'distributions', 'dlaplace', 'dunnett', 'dweibull', 'ecdf', 'energy_distance', 'entropy', 'epps_singleton_2samp', 'erlang', 'expectile', 'expon', 'exponnorm', 'exponpow', 'exponweib', 'f', 'f_oneway', 'false_discovery_control', 'fatiguelife', 'find_repeats', 'fisher_exact', 'fisk', 'fit', 'fligner', 'foldcauchy', 'foldnorm', 'friedmanchisquare', 'gamma', 'gausshyper', 'gaussian_kde', 'genexpon', 'genextreme', 'gengamma', 'genhalflogistic', 'genhyperbolic', 'geninvgauss', 'genlogistic', 'gennorm', 'genpareto', 'geom', 'gibrat', 'gmean', 'gompertz', 'goodness_of_fit', 'gstd', 'gumbel_l', 'gumbel_r', 'gzscore', 'halfcauchy', 'halfgennorm', 'halflogistic', 'halfnorm', 'hmean', 'hypergeom', 'hypsecant', 'invgamma', 'invgauss', 'invweibull', 'invwishart', 'iqr', 'jarque_bera', 'jf_skew_t', 'johnsonsb', 'johnsonsu', 'kappa3', 'kappa4', 'kde', 'kendalltau', 'kruskal', 'ks_1samp', 'ks_2samp', 'ksone', 'kstat', 'kstatvar', 'kstest', 'kstwo', 'kstwobign', 'kurtosis', 'kurtosistest', 'laplace', 'laplace_asymmetric', 'levene', 'levy', 'levy_l', 'levy_stable', 'linregress', 'loggamma', 'logistic', 'loglaplace', 'lognorm', 'logrank', 'logser', 'loguniform', 'lomax', 'mannwhitneyu', 'matrix_normal', 'maxwell', 'median_abs_deviation', 'median_test', 'mielke', 'mode', 'moment', 'monte_carlo_test', 'mood', 'morestats', 'moyal', 'mstats', 'mstats_basic', 'mstats_extras', 'multinomial', 'multiscale_graphcorr', 'multivariate_hypergeom', 'multivariate_normal', 'multivariate_t', 'mvn', 'mvsdist', 'nakagami', 'nbinom', 'ncf', 'nchypergeom_fisher', 'nchypergeom_wallenius', 'nct', 'ncx2', 'nhypergeom', 'norm', 'normaltest', 'norminvgauss', 'obrientransform', 'ortho_group', 'page_trend_test', 'pareto', 'pearson3', 'pearsonr', 'percentileofscore', 'permutation_test', 'planck', 'pmean', 'pointbiserialr', 'poisson', 'poisson_means_test', 'power_divergence', 'powerlaw', 'powerlognorm', 'powernorm', 'ppcc_max', 'ppcc_plot', 'probplot', 'qmc', 'quantile_test', 'randint', 'random_correlation', 'random_table', 'rankdata', 'ranksums', 'rayleigh', 'rdist', 'recipinvgauss', 'reciprocal', 'rel_breitwigner', 'relfreq', 'rice', 'rv_continuous', 'rv_discrete', 'rv_histogram', 'rvs_ratio_uniforms', 'sampling', 'scoreatpercentile', 'sem', 'semicircular', 'shapiro', 'siegelslopes', 'sigmaclip', 'skellam', 'skew', 'skewcauchy', 'skewnorm', 'skewtest', 'sobol_indices', 'somersd', 'spearmanr', 'special_ortho_group', 'stats', 'studentized_range', 't', 'test', 'theilslopes', 'tiecorrect', 'tmax', 'tmean', 'tmin', 'trapezoid', 'trapz', 'triang', 'trim1', 'trim_mean', 'trimboth', 'truncexpon', 'truncnorm', 'truncpareto', 'truncweibull_min', 'tsem', 'tstd', 'ttest_1samp', 'ttest_ind', 'ttest_ind_from_stats', 'ttest_rel', 'tukey_hsd', 'tukeylambda', 'tvar', 'uniform', 'uniform_direction', 'unitary_group', 'variation', 'vonmises', 'vonmises_fisher', 'vonmises_line', 'wald', 'wasserstein_distance', 'wasserstein_distance_nd', 'weibull_max', 'weibull_min', 'weightedtau', 'wilcoxon', 'wishart', 'wrapcauchy', 'yeojohnson', 'yeojohnson_llf', 'yeojohnson_normmax', 'yeojohnson_normplot', 'yulesimon', 'zipf', 'zipfian', 'zmap', 'zscore']\n"
     ]
    }
   ],
   "source": [
    "from scipy import stats\n",
    "print(dir(stats))"
   ]
  },
  {
   "cell_type": "code",
   "execution_count": 3,
   "id": "b1849d5e-9d7d-442c-8ca9-da9fc4d10a62",
   "metadata": {},
   "outputs": [
    {
     "name": "stdout",
     "output_type": "stream",
     "text": [
      "ShapiroResult(statistic=0.9981433805517022, pvalue=0.34796592330595577)\n"
     ]
    }
   ],
   "source": [
    "# 정규성 검정\n",
    "from scipy.stats import shapiro\n",
    "print(shapiro(df))"
   ]
  },
  {
   "cell_type": "markdown",
   "id": "a9259972-70c9-443a-8176-2f7282850a43",
   "metadata": {},
   "source": [
    "-> 샤피로 검정 시, p-value=0.35 -> 유의수준 5%에서 귀무가설 기각 불가\n",
    "=> 귀무가설 채택. 정규성을 가진다.<br>\n",
    "<br>\n",
    "p-value가 유의수준보다 크면, 유의하므로 귀무가설 기각할 수 없음 -> 귀무가설 채택<br>\n",
    "p-value < 유의수준이면, 유의하지 않으므로, 귀무가설 기각 -> 대립가설 채택"
   ]
  },
  {
   "cell_type": "code",
   "execution_count": 4,
   "id": "5ea1e0fe-67e0-4204-adca-e3d87258ddb5",
   "metadata": {},
   "outputs": [
    {
     "data": {
      "image/png": "[encoded data removed]",
      "text/plain": [
       "<Figure size 640x480 with 1 Axes>"
      ]
     },
     "metadata": {},
     "output_type": "display_data"
    }
   ],
   "source": [
    "# 2\n",
    "import pandas as pd\n",
    "import matplotlib.pyplot as plt\n",
    "df = pd.read_csv('https://raw.githubusercontent.com/Datamanim/datarepo/main/scipy/normal3.csv')\n",
    "plt.hist(df)\n",
    "plt.show()"
   ]
  },
  {
   "cell_type": "code",
   "execution_count": 5,
   "id": "9e594eed-a149-448c-af5b-a7180c99651e",
   "metadata": {},
   "outputs": [
    {
     "name": "stdout",
     "output_type": "stream",
     "text": [
      "ShapiroResult(statistic=0.9578887230674161, pvalue=2.3098528601775786e-16)\n"
     ]
    }
   ],
   "source": [
    "from scipy.stats import shapiro\n",
    "print(shapiro(df))"
   ]
  },
  {
   "cell_type": "markdown",
   "id": "1c2cfc18-494c-4258-8e01-cc40e31411f3",
   "metadata": {},
   "source": [
    "**p-value = 2.3e-16** (아주 작은수...)\n",
    "-> p-value < 0.05 : 유의수준 5%에서 귀무가설 기각 가능, 대립가설 채택<br>\n",
    "=> 데이터는 정규성을 가지지 않는다."
   ]
  },
  {
   "cell_type": "code",
   "execution_count": 6,
   "id": "9044b77c-b9cc-47f7-92e7-89a845878b02",
   "metadata": {},
   "outputs": [
    {
     "data": {
      "image/png": "[encoded data removed]",
      "text/plain": [
       "<Figure size 640x480 with 1 Axes>"
      ]
     },
     "metadata": {},
     "output_type": "display_data"
    }
   ],
   "source": [
    "# 3 log 변환 후 정규성 가지는 지 확인\n",
    "import numpy as np\n",
    "import matplotlib.pyplot as plt\n",
    "import pandas as pd\n",
    "\n",
    "df = pd.read_csv('https://raw.githubusercontent.com/Datamanim/datarepo/main/scipy/normal3.csv')\n",
    "log_y_data = np.log1p(df)  # 로그변환!!!!!!\n",
    "plt.hist(log_y_data)\n",
    "plt.show()"
   ]
  },
  {
   "cell_type": "code",
   "execution_count": 8,
   "id": "ba152b88-6536-4db2-852c-dc6fe5d922e4",
   "metadata": {},
   "outputs": [
    {
     "name": "stdout",
     "output_type": "stream",
     "text": [
      "ShapiroResult(statistic=0.9976879570377135, pvalue=0.17513126966872208)\n"
     ]
    }
   ],
   "source": [
    "from scipy.stats import shapiro\n",
    "print(shapiro(log_y_data))"
   ]
  },
  {
   "cell_type": "markdown",
   "id": "938842be-15d8-4bf5-bd6b-6590a915ab9f",
   "metadata": {},
   "source": [
    "로그변환 한 데이터 -> p-value > 0.05 귀무가설 기각불가. 귀무가설 채택 <br>\n",
    "=> 정규성을 가진다."
   ]
  },
  {
   "cell_type": "code",
   "execution_count": 9,
   "id": "699d4080-9bf8-4d65-8006-32becad8aa17",
   "metadata": {},
   "outputs": [
    {
     "data": {
      "image/png": "[encoded data removed]",
      "text/plain": [
       "<Figure size 640x480 with 1 Axes>"
      ]
     },
     "metadata": {},
     "output_type": "display_data"
    }
   ],
   "source": [
    "# 7\n",
    "import pandas as pd\n",
    "import numpy as np\n",
    "import matplotlib.pyplot as plt\n",
    "\n",
    "df = pd.read_csv('https://raw.githubusercontent.com/Datamanim/datarepo/main/scipy/normal6.csv')\n",
    "plt.hist(df)\n",
    "plt.show()"
   ]
  },
  {
   "cell_type": "code",
   "execution_count": 10,
   "id": "c1565b0b-e86f-4f7b-bf04-8c586f245503",
   "metadata": {},
   "outputs": [
    {
     "name": "stdout",
     "output_type": "stream",
     "text": [
      "ShapiroResult(statistic=0.9995353804150279, pvalue=0.15046155392344363)\n"
     ]
    },
    {
     "name": "stderr",
     "output_type": "stream",
     "text": [
      "/opt/homebrew/Caskroom/miniforge/base/lib/python3.10/site-packages/scipy/stats/_axis_nan_policy.py:531: UserWarning: scipy.stats.shapiro: For N > 5000, computed p-value may not be accurate. Current N is 6000.\n",
      "  res = hypotest_fun_out(*samples, **kwds)\n"
     ]
    }
   ],
   "source": [
    "from scipy.stats import shapiro\n",
    "\n",
    "print(shapiro(df))"
   ]
  },
  {
   "cell_type": "markdown",
   "id": "bc9f82f7-07fe-48de-8ecd-f9c0842759dd",
   "metadata": {},
   "source": [
    "shapiro 검정 시, p-value > 0.05 이므로 귀무가설 유의함. 귀무가설 기각 불가. 귀무가설 채택<br>\n",
    "**경고메세지**\n",
    "5000개 초과의 샘플에 대해서 샤피로 검정은 정확하지 않을 수 o <br>\n",
    "=> anderson 검정"
   ]
  },
  {
   "cell_type": "code",
   "execution_count": 12,
   "id": "801518f3-db1b-4607-9c0a-3f8e5b735639",
   "metadata": {},
   "outputs": [
    {
     "name": "stdout",
     "output_type": "stream",
     "text": [
      "AndersonResult(statistic=0.8266993530396576, critical_values=array([0.576, 0.656, 0.786, 0.917, 1.091]), significance_level=array([15. , 10. ,  5. ,  2.5,  1. ]), fit_result=  params: FitParams(loc=299.95980319533163, scale=5.03180688788513)\n",
      " success: True\n",
      " message: '`anderson` successfully fit the distribution to the data.')\n"
     ]
    }
   ],
   "source": [
    "# anderson 검정(N > 5000)\n",
    "from scipy.stats import anderson\n",
    "print(anderson(df['data'].values))"
   ]
  },
  {
   "cell_type": "markdown",
   "id": "026865a0-cfd1-42d0-b0ef-422d6b46d134",
   "metadata": {},
   "source": [
    "### anderson 검정 결과 해석\n",
    "significance_level : 유의 확률값\n",
    "critical_values : 각 유의확률 값의 기준점\n",
    "- 유의수준 5%에서 검정 진행 -> significance_level 5.에서 확인 => critical_values= 0.786\n",
    "- statistic = 0.82\n",
    "- **p-value로 판단할 때와 반대..**\n",
    "- 0.82 > 0.786 (statistic > critical_values) => 귀무가설 기각. 대립가설 채택\n",
    "=> 정규성을 가지지 않는다."
   ]
  },
  {
   "cell_type": "markdown",
   "id": "d1a63b31-3335-441a-8d31-716e2c170be3",
   "metadata": {},
   "source": [
    "# 단일 표본 t-검정(one-sample)"
   ]
  },
  {
   "cell_type": "markdown",
   "id": "1ef24fe1-8d25-4a82-b144-4419a6a21bbb",
   "metadata": {},
   "source": [
    "100명의 키 정보가 들어 있는 데이터가 있다.데이터가 정규성을 만족하는지 확인하라.\n",
    "그리고 평균키는 165라 판단할수 있는지 귀무가설과 대립가설을 설정한 후 유의수준 5%로 검정하라."
   ]
  },
  {
   "cell_type": "markdown",
   "id": "a9a6d797-198f-49fa-a53c-ce943dc71932",
   "metadata": {},
   "source": [
    "1. 데이터가 정규성을 만족하는지 확인\n",
    "2. 정규성을 만족하는 경우\n",
    "   - 평균 165인지 검정 : 단일 표본 t-검정\n",
    "\n",
    "3. 정규성을 만족하지 않는 경우\n",
    "   - 평균 165인지 검정: 윌콕슨 부호순위 검정(비모수)\n",
    "   - 샘플이 정규분포를 따르지 않으므로,\n",
    "   - 평균이 아닌 중앙값 기준의 검정 수행\n",
    "   - df['height'] - 165 형태로 중심값을 기준으로 편차의 부호/순위 계산"
   ]
  },
  {
   "cell_type": "code",
   "execution_count": 13,
   "id": "2a0f8b86-8600-4132-9dc1-5cef26e92d1e",
   "metadata": {},
   "outputs": [
    {
     "data": {
      "image/png": "[encoded data removed]",
      "text/plain": [
       "<Figure size 640x480 with 1 Axes>"
      ]
     },
     "metadata": {},
     "output_type": "display_data"
    }
   ],
   "source": [
    "import pandas as pd\n",
    "import matplotlib.pyplot as plt\n",
    "df = pd.read_csv('https://raw.githubusercontent.com/Datamanim/datarepo/main/scipy/height1.csv')\n",
    "plt.hist(df)\n",
    "plt.show()"
   ]
  },
  {
   "cell_type": "code",
   "execution_count": 14,
   "id": "63eea8ab-918e-4960-89e7-b5d93fef585b",
   "metadata": {},
   "outputs": [
    {
     "name": "stdout",
     "output_type": "stream",
     "text": [
      "ShapiroResult(statistic=0.9872671038154957, pvalue=0.45583339816328994)\n"
     ]
    }
   ],
   "source": [
    "from scipy.stats import shapiro\n",
    "print(shapiro(df))"
   ]
  },
  {
   "cell_type": "markdown",
   "id": "c8163890-db68-4607-9ba4-34940176a8ee",
   "metadata": {},
   "source": [
    "p-value > 0.05 이므로 귀무가설 유의. 기각불가. 정규성을 만족한다."
   ]
  },
  {
   "cell_type": "code",
   "execution_count": 15,
   "id": "ae00a2f2-d168-4b0b-9267-a5d7a409f84d",
   "metadata": {},
   "outputs": [
    {
     "name": "stdout",
     "output_type": "stream",
     "text": [
      "샤피로 정규성 검정 p-value:  0.45583339816328994 이므로\n",
      "귀무가설 기각\n"
     ]
    }
   ],
   "source": [
    "# 평균키 = 165라 할 수 있는지 귀무가설, 대립가설 설정 후 유의수준 5% 검정\n",
    "# H0: m = 165 , H1: m != 165\n",
    "\n",
    "from scipy.stats import ttest_1samp, shapiro, wilcoxon\n",
    "# 데이터의 정규성 먼저 검정\n",
    "static, pvalue = shapiro(df)\n",
    "print('샤피로 정규성 검정 p-value: ', pvalue,'이므로')\n",
    "\n",
    "# 데이터가 정규성을 만족하지 않는 경우\n",
    "if pvalue < 0.05 : \n",
    "    print('귀무가설 기각. 정규성 만족하지 않으므로 비모수 검정 진행. 윌콕슨 순위 부호 검정 진행')\n",
    "\n",
    "    # 윌콕슨 부호순위 검정\n",
    "    static, pvalue = wilcoxon(df['height']-165)\n",
    "    # static, pvalue = wilcoxon(df['height'], np.ones(len(df) * 165) # 여러 표본쌍을 비교할 때 일반적인 형식\n",
    "\n",
    "    if pvalue < 0.05:\n",
    "        print(f'검정결과 pvalue 는 {pvalue}이므로 귀무가설 기각. 평균은 165가 아니다')\n",
    "    else:\n",
    "        print('평균은 165')\n",
    "\n",
    "# 데이터가 정규성을 만족하는 경우 -> t-검정\n",
    "else:\n",
    "    # 단일 표본 t검정\n",
    "    static, pvalue = ttest_1samp(df['height'], 165)\n",
    "    if pvalue < 0.05:\n",
    "        print('귀무가설 기각')\n",
    "    else:\n",
    "        print('귀무가설 채택')\n",
    "    "
   ]
  },
  {
   "cell_type": "markdown",
   "id": "3e202e82-3bd5-4f9e-8d77-8912d72c2221",
   "metadata": {},
   "source": [
    "## 등분산 검정\n",
    "두개 학급의 시험성적에 대한 데이터이다 그룹간 등분산 검정을 시행하라"
   ]
  },
  {
   "cell_type": "code",
   "execution_count": 16,
   "id": "8268c19c-0e31-489e-8ea7-bea469d194d8",
   "metadata": {},
   "outputs": [
    {
     "data": {
      "text/html": [
       "<div>\n",
       "<style scoped>\n",
       "    .dataframe tbody tr th:only-of-type {\n",
       "        vertical-align: middle;\n",
       "    }\n",
       "\n",
       "    .dataframe tbody tr th {\n",
       "        vertical-align: top;\n",
       "    }\n",
       "\n",
       "    .dataframe thead th {\n",
       "        text-align: right;\n",
       "    }\n",
       "</style>\n",
       "<table border=\"1\" class=\"dataframe\">\n",
       "  <thead>\n",
       "    <tr style=\"text-align: right;\">\n",
       "      <th></th>\n",
       "      <th>class</th>\n",
       "      <th>score</th>\n",
       "    </tr>\n",
       "  </thead>\n",
       "  <tbody>\n",
       "    <tr>\n",
       "      <th>0</th>\n",
       "      <td>A</td>\n",
       "      <td>84</td>\n",
       "    </tr>\n",
       "    <tr>\n",
       "      <th>1</th>\n",
       "      <td>A</td>\n",
       "      <td>59</td>\n",
       "    </tr>\n",
       "    <tr>\n",
       "      <th>2</th>\n",
       "      <td>A</td>\n",
       "      <td>49</td>\n",
       "    </tr>\n",
       "    <tr>\n",
       "      <th>3</th>\n",
       "      <td>A</td>\n",
       "      <td>57</td>\n",
       "    </tr>\n",
       "    <tr>\n",
       "      <th>4</th>\n",
       "      <td>A</td>\n",
       "      <td>82</td>\n",
       "    </tr>\n",
       "  </tbody>\n",
       "</table>\n",
       "</div>"
      ],
      "text/plain": [
       "  class  score\n",
       "0     A     84\n",
       "1     A     59\n",
       "2     A     49\n",
       "3     A     57\n",
       "4     A     82"
      ]
     },
     "execution_count": 16,
     "metadata": {},
     "output_type": "execute_result"
    }
   ],
   "source": [
    "import pandas as pd\n",
    "df = pd.read_csv('https://raw.githubusercontent.com/Datamanim/datarepo/main/scipy/scipy2.csv')\n",
    "df.head()"
   ]
  },
  {
   "cell_type": "code",
   "execution_count": 19,
   "id": "7a548141-3022-4bed-a06b-c5ce444f917f",
   "metadata": {},
   "outputs": [
    {
     "name": "stdout",
     "output_type": "stream",
     "text": [
      "BartlettResult(statistic=0.26035880448930865, pvalue=0.609873758447687)\n",
      "FlignerResult(statistic=0.7281251154135562, pvalue=0.39349158741002765)\n",
      "FlignerResult(statistic=0.8272211734319945, pvalue=0.36307728836821906)\n",
      "LeveneResult(statistic=0.3145466542912649, pvalue=0.5751662820554713)\n",
      "LeveneResult(statistic=0.5086970687685527, pvalue=0.4760514837800255)\n"
     ]
    }
   ],
   "source": [
    "# 등분산 검정 - 3가지 방법\n",
    "from scipy.stats import bartlett\n",
    "from scipy.stats import fligner\n",
    "from scipy.stats import levene\n",
    "\n",
    "# a, b: pandas.Series 객체\n",
    "a = df[df['class'] == 'A'].score\n",
    "b = df[df['class'] == 'B'].score\n",
    "\n",
    "#bartlett : 데이터가 정규분포일때 (계산기준 -> 평균)\n",
    "print(bartlett(a,b))\n",
    "\n",
    "print(fligner(a,b,center='median')) # default\n",
    "print(fligner(a,b,center='mean'))\n",
    "# fligner() : 함수 내부에서 각 그룹의 분산(산포도)를 측정할 때, \n",
    "# 데이터 중심으로부터 얼마나 떨어져 있는지를 측정해야됨\n",
    "# 중심을 어떤 값으로 보느냐 -> center 옵션(기본값: 'median')\n",
    "# mean: 각 그룹의 평균을 중심으로 분산 계산\n",
    "# trimmed: 양 끝 10%를 제외한 절사 평균 사용\n",
    "\n",
    "print(levene(a,b,center='median')) # default\n",
    "print(levene(a,b,center='mean'))"
   ]
  },
  {
   "cell_type": "markdown",
   "id": "d1291a3c-0bdf-4b73-825b-39320dcb29e2",
   "metadata": {},
   "source": [
    "**center설정**<br>\n",
    "mean: 이상치에 민감 <br>\n",
    "median: 비정규분포나 이상치가 있는 데이터에서 훨씬 안정적 <br>\n",
    "trimmed mean: 극단 값을 잘라내고 평균을 내서 둘 사이의 절충값 <br>\n",
    "\n",
    "**함수 선정 기준**\n",
    "- bartlett(): 정규분포+등분산 검정\n",
    "- levene(): 정규성 여부 애매할 때\n",
    "- fligner(): 정규성 완전히 무시하고 싶을 때"
   ]
  },
  {
   "cell_type": "markdown",
   "id": "711c5629-9e37-4b3e-b614-fa81ee8a8b4b",
   "metadata": {},
   "source": [
    "모든 p-value > 0.05 이므로 귀무가설이 유의함. 귀무가설 기각 불가.<br>\n",
    "=> 등분산성을 만족한다."
   ]
  },
  {
   "cell_type": "markdown",
   "id": "bb589084-eef5-43d3-bfbd-00bdf6c71eb4",
   "metadata": {},
   "source": [
    "두개 학급의 시험성적에 대한 데이터이다 그룹간 등분산 검정을 시행하라\n",
    "\n"
   ]
  },
  {
   "cell_type": "code",
   "execution_count": 22,
   "id": "671b3e73-6747-46d4-aa43-61c67b460edf",
   "metadata": {},
   "outputs": [
    {
     "name": "stdout",
     "output_type": "stream",
     "text": [
      "    class  score\n",
      "0       A     32\n",
      "1       A     69\n",
      "2       A     68\n",
      "3       A     60\n",
      "4       A     78\n",
      "..    ...    ...\n",
      "475     B     60\n",
      "476     B     56\n",
      "477     B     56\n",
      "478     B     52\n",
      "479     B     77\n",
      "\n",
      "[480 rows x 2 columns]\n"
     ]
    }
   ],
   "source": [
    "import pandas as pd\n",
    "df = pd.read_csv('https://raw.githubusercontent.com/Datamanim/datarepo/main/scipy/scipy3.csv')\n",
    "print(df)"
   ]
  },
  {
   "cell_type": "code",
   "execution_count": 23,
   "id": "13ebf444-a16d-4e5d-947c-e675eb0e1d43",
   "metadata": {},
   "outputs": [
    {
     "name": "stdout",
     "output_type": "stream",
     "text": [
      "FlignerResult(statistic=4.960366756026232, pvalue=0.025934706256615536)\n"
     ]
    }
   ],
   "source": [
    "from scipy.stats import fligner\n",
    "\n",
    "# 그룹별로 분리\n",
    "a = df[df['class'] == 'A'].score\n",
    "b = df[df['class'] == 'B'].score\n",
    "\n",
    "print(fligner(a,b,center='median'))\n"
   ]
  },
  {
   "cell_type": "markdown",
   "id": "d75bcc8e-5ebc-4d42-ab34-f3ce7466eaa3",
   "metadata": {},
   "source": [
    "fligner, levene는 bartlett보다 좀 더 robust하다는 특징이 o    \n",
    "- robust하다는건.. 모델이 더 튼튼하고 강력함\n",
    "- 입력데이터의 이상치나 노이즈에 민감하게 흔들리지 x"
   ]
  },
  {
   "cell_type": "markdown",
   "id": "01d8165b-4d97-45de-a1ea-4ac1dc957d77",
   "metadata": {},
   "source": [
    "---\n",
    "두개 학급의 시험성적에 대한 데이터이다 그룹간 등분산 검정을 시행하라"
   ]
  },
  {
   "cell_type": "code",
   "execution_count": 24,
   "id": "5ea51bc5-496f-4409-b7f1-2f0d6c7a76a6",
   "metadata": {},
   "outputs": [
    {
     "data": {
      "text/html": [
       "<div>\n",
       "<style scoped>\n",
       "    .dataframe tbody tr th:only-of-type {\n",
       "        vertical-align: middle;\n",
       "    }\n",
       "\n",
       "    .dataframe tbody tr th {\n",
       "        vertical-align: top;\n",
       "    }\n",
       "\n",
       "    .dataframe thead th {\n",
       "        text-align: right;\n",
       "    }\n",
       "</style>\n",
       "<table border=\"1\" class=\"dataframe\">\n",
       "  <thead>\n",
       "    <tr style=\"text-align: right;\">\n",
       "      <th></th>\n",
       "      <th>A</th>\n",
       "      <th>B</th>\n",
       "    </tr>\n",
       "  </thead>\n",
       "  <tbody>\n",
       "    <tr>\n",
       "      <th>0</th>\n",
       "      <td>44</td>\n",
       "      <td>36</td>\n",
       "    </tr>\n",
       "    <tr>\n",
       "      <th>1</th>\n",
       "      <td>61</td>\n",
       "      <td>92</td>\n",
       "    </tr>\n",
       "    <tr>\n",
       "      <th>2</th>\n",
       "      <td>76</td>\n",
       "      <td>41</td>\n",
       "    </tr>\n",
       "    <tr>\n",
       "      <th>3</th>\n",
       "      <td>64</td>\n",
       "      <td>45</td>\n",
       "    </tr>\n",
       "    <tr>\n",
       "      <th>4</th>\n",
       "      <td>65</td>\n",
       "      <td>35</td>\n",
       "    </tr>\n",
       "  </tbody>\n",
       "</table>\n",
       "</div>"
      ],
      "text/plain": [
       "    A   B\n",
       "0  44  36\n",
       "1  61  92\n",
       "2  76  41\n",
       "3  64  45\n",
       "4  65  35"
      ]
     },
     "execution_count": 24,
     "metadata": {},
     "output_type": "execute_result"
    }
   ],
   "source": [
    "import pandas as pd\n",
    "\n",
    "df = pd.read_csv('https://raw.githubusercontent.com/Datamanim/datarepo/main/scipy/scipy6.csv')\n",
    "df.head()"
   ]
  },
  {
   "cell_type": "code",
   "execution_count": 25,
   "id": "871b387f-c372-4b20-b5ea-8de028ff2ee5",
   "metadata": {},
   "outputs": [
    {
     "name": "stdout",
     "output_type": "stream",
     "text": [
      "FlignerResult(statistic=5.124831619122788, pvalue=0.02358585889069899)\n"
     ]
    }
   ],
   "source": [
    "from scipy.stats import bartlett\n",
    "from scipy.stats import fligner\n",
    "from scipy.stats import levene\n",
    "\n",
    "# 그룹 분리\n",
    "a = df['A']\n",
    "b = df['B']\n",
    "\n",
    "print(fligner(a,b,center='median'))\n",
    "\n",
    "# 그냥 print(fligner(df.A, df.B)) 해도 됨...."
   ]
  },
  {
   "cell_type": "markdown",
   "id": "255bd4ee-1273-4ffe-8f94-b8cf92594e01",
   "metadata": {},
   "source": [
    "---\n",
    "두개 학급의 시험성적에 대한 데이터이다 그룹간 등분산 검정을 시행하라"
   ]
  },
  {
   "cell_type": "code",
   "execution_count": 32,
   "id": "fa946f5d-4f55-4b5a-8cfd-43d90a940e61",
   "metadata": {},
   "outputs": [
    {
     "name": "stdout",
     "output_type": "stream",
     "text": [
      "<class 'pandas.core.frame.DataFrame'>\n",
      "RangeIndex: 300 entries, 0 to 299\n",
      "Data columns (total 2 columns):\n",
      " #   Column  Non-Null Count  Dtype  \n",
      "---  ------  --------------  -----  \n",
      " 0   A       300 non-null    int64  \n",
      " 1   B       180 non-null    float64\n",
      "dtypes: float64(1), int64(1)\n",
      "memory usage: 4.8 KB\n"
     ]
    }
   ],
   "source": [
    "import pandas as pd\n",
    "df = pd.read_csv('https://raw.githubusercontent.com/Datamanim/datarepo/main/scipy/scipy5.csv')\n",
    "df.info()"
   ]
  },
  {
   "cell_type": "code",
   "execution_count": 35,
   "id": "f1a7d8b8-5ee7-431a-8f65-b6e00afedb9d",
   "metadata": {},
   "outputs": [
    {
     "name": "stdout",
     "output_type": "stream",
     "text": [
      "BartlettResult(statistic=3.024072692680794, pvalue=0.08203720607748431)\n",
      "FlignerResult(statistic=7.710320541528441, pvalue=0.005490600130793614)\n",
      "LeveneResult(statistic=8.008595918808284, pvalue=0.004851565077063262)\n"
     ]
    }
   ],
   "source": [
    "from scipy.stats import bartlett\n",
    "from scipy.stats import fligner\n",
    "from scipy.stats import levene\n",
    "\n",
    "a = df.A\n",
    "b = df.B\n",
    "\n",
    "# df.info() non-null count가 A는 nan없음. B만 nan 존재\n",
    "print(bartlett(a, b.dropna()))\n",
    "print(fligner(a, b.dropna()))\n",
    "print(levene(a, b.dropna()))"
   ]
  },
  {
   "cell_type": "markdown",
   "id": "4d9a0477-ea0c-442d-a979-e337fbe9994b",
   "metadata": {},
   "source": [
    "nan값 지우고 사용해야됨!!"
   ]
  },
  {
   "cell_type": "markdown",
   "id": "d5b7a07a-874e-4c3b-b756-71afa3b51ade",
   "metadata": {},
   "source": [
    "# 독립표본 검정(Independent)"
   ]
  },
  {
   "cell_type": "markdown",
   "id": "daaa5aa6-33d5-4b45-91aa-af7031e2b7bd",
   "metadata": {},
   "source": [
    "두개 학급의 시험성적에 대한 데이터이다. 두 학습의 시험 평균(비모수검정의 경우 중위값)은 동일하다 말할 수 있는지 확인 하라"
   ]
  },
  {
   "cell_type": "code",
   "execution_count": 37,
   "id": "f68e64c1-f606-402f-a78b-6f587d93459a",
   "metadata": {},
   "outputs": [
    {
     "data": {
      "image/png": "[encoded data removed]",
      "text/plain": [
       "<Figure size 640x480 with 1 Axes>"
      ]
     },
     "metadata": {},
     "output_type": "display_data"
    }
   ],
   "source": [
    "import pandas as pd\n",
    "import matplotlib.pyplot as plt\n",
    "df1 = pd.read_csv('https://raw.githubusercontent.com/Datamanim/datarepo/main/scipy/ind1.csv')\n",
    "df2 = pd.read_csv('https://raw.githubusercontent.com/Datamanim/datarepo/main/scipy/ind2.csv')\n",
    "\n",
    "plt.hist(df1, label='df1', alpha = 0.4) # alpha: 투명도\n",
    "plt.hist(df2, label='df2', alpha = 0.4)\n",
    "plt.xlabel('Score bins')\n",
    "plt.ylabel('Counts')\n",
    "plt.legend() # 범례 표시 위치\n",
    "\n",
    "plt.show()"
   ]
  },
  {
   "cell_type": "code",
   "execution_count": 39,
   "id": "3719ba0b-af32-409f-9808-f8ecee3abefd",
   "metadata": {},
   "outputs": [
    {
     "data": {
      "text/html": [
       "<div>\n",
       "<style scoped>\n",
       "    .dataframe tbody tr th:only-of-type {\n",
       "        vertical-align: middle;\n",
       "    }\n",
       "\n",
       "    .dataframe tbody tr th {\n",
       "        vertical-align: top;\n",
       "    }\n",
       "\n",
       "    .dataframe thead th {\n",
       "        text-align: right;\n",
       "    }\n",
       "</style>\n",
       "<table border=\"1\" class=\"dataframe\">\n",
       "  <thead>\n",
       "    <tr style=\"text-align: right;\">\n",
       "      <th></th>\n",
       "      <th>data</th>\n",
       "    </tr>\n",
       "  </thead>\n",
       "  <tbody>\n",
       "    <tr>\n",
       "      <th>0</th>\n",
       "      <td>105.408458</td>\n",
       "    </tr>\n",
       "    <tr>\n",
       "      <th>1</th>\n",
       "      <td>108.722618</td>\n",
       "    </tr>\n",
       "    <tr>\n",
       "      <th>2</th>\n",
       "      <td>84.398634</td>\n",
       "    </tr>\n",
       "    <tr>\n",
       "      <th>3</th>\n",
       "      <td>100.510816</td>\n",
       "    </tr>\n",
       "    <tr>\n",
       "      <th>4</th>\n",
       "      <td>100.965949</td>\n",
       "    </tr>\n",
       "  </tbody>\n",
       "</table>\n",
       "</div>"
      ],
      "text/plain": [
       "         data\n",
       "0  105.408458\n",
       "1  108.722618\n",
       "2   84.398634\n",
       "3  100.510816\n",
       "4  100.965949"
      ]
     },
     "execution_count": 39,
     "metadata": {},
     "output_type": "execute_result"
    }
   ],
   "source": [
    "df1.head()"
   ]
  },
  {
   "cell_type": "code",
   "execution_count": 38,
   "id": "16149b3c-6081-4c30-856b-120f6b09f723",
   "metadata": {},
   "outputs": [
    {
     "name": "stdout",
     "output_type": "stream",
     "text": [
      "ShapiroResult(statistic=0.9860948333328386, pvalue=0.37968357263512703)\n",
      "ShapiroResult(statistic=0.9901827646291551, pvalue=0.6793743269084339)\n"
     ]
    }
   ],
   "source": [
    "# 두 학습의 시험 평균(비모수검정의 경우 중위값)은 동일하다 말할 수 있는지\n",
    "from scipy.stats import shapiro # 정규성 검정\n",
    "print(shapiro(df1))\n",
    "print(shapiro(df2))"
   ]
  },
  {
   "cell_type": "markdown",
   "id": "55285a39-de77-476c-9677-b2ef36be906a",
   "metadata": {},
   "source": [
    "df1, df2 둘다 p-value > 0.05 -> 귀무가설 유의. 기각 불가 <br>\n",
    "둘 다 정규성 가짐"
   ]
  },
  {
   "cell_type": "code",
   "execution_count": 40,
   "id": "df1ef772-5721-44a0-a2cd-df29f7f767ab",
   "metadata": {},
   "outputs": [
    {
     "name": "stdout",
     "output_type": "stream",
     "text": [
      "\n",
      "LeveneResult(statistic=2.5337683795339547, pvalue=0.11302904824469269)\n"
     ]
    }
   ],
   "source": [
    "from scipy.stats import levene\n",
    "print()\n",
    "print(levene(df1['data'], df2['data']))\n"
   ]
  },
  {
   "cell_type": "markdown",
   "id": "0ac0fe6e-491b-4def-8177-c640e689d0bf",
   "metadata": {},
   "source": [
    "p-value > 0.05 이므로 귀무가설 유의함. 기각 불가 -> 등분산성 가짐<br>\n",
    "등분산이므로, equal_var=True 파라미터 주고 ttest_ind 모듈로 t-test 진행"
   ]
  },
  {
   "cell_type": "code",
   "execution_count": 41,
   "id": "a19be503-62b0-4d11-b7bb-ae2dcf4ffea0",
   "metadata": {},
   "outputs": [
    {
     "name": "stdout",
     "output_type": "stream",
     "text": [
      "\n",
      "TtestResult(statistic=array([2.76719074]), pvalue=array([0.00619015]), df=array([198.]))\n"
     ]
    }
   ],
   "source": [
    "from scipy.stats import ttest_ind\n",
    "print()\n",
    "print(ttest_ind(df1, df2, equal_var=True))"
   ]
  },
  {
   "cell_type": "markdown",
   "id": "83b8aa85-bf92-423c-aa7f-24b34c563d8e",
   "metadata": {},
   "source": [
    "p-value < 0.05 이므로 귀무가설 기각. 대립가설 채택.<br>\n",
    "=> 두 학습의 시험 평균은 동일하지 않다."
   ]
  },
  {
   "cell_type": "markdown",
   "id": "5b9bcb9d-b3e6-4ebc-973a-fc00c32beb34",
   "metadata": {},
   "source": [
    "### Q.\n",
    "두개 학급의 시험성적에 대한 데이터이다. 두 학습의 시험 평균(비모수검정의 경우 중위값)은 동일하다 말할 수 있는지 확인 하라\n"
   ]
  },
  {
   "cell_type": "code",
   "execution_count": 43,
   "id": "9b1fcfba-793f-4ed1-baa9-2875e12ba58d",
   "metadata": {},
   "outputs": [
    {
     "data": {
      "image/png": "[encoded data removed]",
      "text/plain": [
       "<Figure size 640x480 with 1 Axes>"
      ]
     },
     "metadata": {},
     "output_type": "display_data"
    }
   ],
   "source": [
    "import pandas as pd\n",
    "import matplotlib.pyplot as plt\n",
    "df = pd.read_csv('https://raw.githubusercontent.com/Datamanim/datarepo/main/scipy/scipy5.csv')\n",
    "\n",
    "plt.hist(df['A'], alpha=0.5, label='A')\n",
    "plt.hist(df['B'].dropna(), alpha=0.5, label='B')\n",
    "plt.xlabel('Score bins')\n",
    "plt.ylabel('Counts')\n",
    "plt.legend()\n",
    "plt.show()"
   ]
  },
  {
   "cell_type": "code",
   "execution_count": 45,
   "id": "aec8e1f9-e8a5-4c9d-8241-b61a7a1c6e13",
   "metadata": {},
   "outputs": [
    {
     "name": "stdout",
     "output_type": "stream",
     "text": [
      "ShapiroResult(statistic=0.963943232017511, pvalue=0.00013568101164926347)\n",
      "ShapiroResult(statistic=0.9375393672524903, pvalue=6.175255664338868e-10)\n"
     ]
    }
   ],
   "source": [
    "# 분포 그려봤을 때 정규성 안보임\n",
    "# 두 그룹 중 한 그룹만 정규성을 위배해도 독립표본 t-검정 할 수 x\n",
    "print(shapiro(df['B'].dropna()))\n",
    "print(shapiro(df['A']))"
   ]
  },
  {
   "cell_type": "markdown",
   "id": "47270d4d-7bd7-4ae9-9425-d1a9cf07ee91",
   "metadata": {},
   "source": [
    "두 그룹 다 p-value < 0.05 이므로 귀무가설 유의 x. 귀무가설 기각 <br>\n",
    "-> 정규성 만족x => **비모수 검정 실시**"
   ]
  },
  {
   "cell_type": "code",
   "execution_count": 47,
   "id": "348b3775-a813-46e2-996d-1f3c2f4f7bd0",
   "metadata": {},
   "outputs": [
    {
     "name": "stdout",
     "output_type": "stream",
     "text": [
      "\n",
      "MannwhitneyuResult(statistic=27036.0, pvalue=0.9807458376150018)\n",
      "RanksumsResult(statistic=0.02446942170858557, pvalue=0.9804781743503561)\n"
     ]
    }
   ],
   "source": [
    "from scipy.stats import mannwhitneyu, ranksums\n",
    "print()\n",
    "print(mannwhitneyu(df['A'], df['B'].dropna()))\n",
    "print(ranksums(df['A'], df['B'].dropna()))"
   ]
  },
  {
   "cell_type": "markdown",
   "id": "633bae32-e939-4818-9220-4621f28e5734",
   "metadata": {},
   "source": [
    "mann-whitney u 검정, 윌콕슨 순위합 검정 모두 p-value > 0.05 : 귀무가설 유의<br>\n",
    "귀무가설 기각 불가. 평균은 동일하다."
   ]
  },
  {
   "cell_type": "markdown",
   "id": "df437806-8d1d-45d6-a7e5-6576ed05366b",
   "metadata": {},
   "source": [
    "### Q.\n",
    "두개 그룹에 대한 수치형 데이터이다. 두 그룹의 평균은 동일하다 말할 수 있는지 검정하라"
   ]
  },
  {
   "cell_type": "code",
   "execution_count": 51,
   "id": "f81e821a-8e78-41b0-a2ea-becf4b41cd88",
   "metadata": {},
   "outputs": [
    {
     "data": {
      "text/html": [
       "<div>\n",
       "<style scoped>\n",
       "    .dataframe tbody tr th:only-of-type {\n",
       "        vertical-align: middle;\n",
       "    }\n",
       "\n",
       "    .dataframe tbody tr th {\n",
       "        vertical-align: top;\n",
       "    }\n",
       "\n",
       "    .dataframe thead th {\n",
       "        text-align: right;\n",
       "    }\n",
       "</style>\n",
       "<table border=\"1\" class=\"dataframe\">\n",
       "  <thead>\n",
       "    <tr style=\"text-align: right;\">\n",
       "      <th></th>\n",
       "      <th>group</th>\n",
       "      <th>data</th>\n",
       "    </tr>\n",
       "  </thead>\n",
       "  <tbody>\n",
       "    <tr>\n",
       "      <th>0</th>\n",
       "      <td>a</td>\n",
       "      <td>108.065847</td>\n",
       "    </tr>\n",
       "    <tr>\n",
       "      <th>1</th>\n",
       "      <td>a</td>\n",
       "      <td>88.714106</td>\n",
       "    </tr>\n",
       "    <tr>\n",
       "      <th>2</th>\n",
       "      <td>a</td>\n",
       "      <td>61.182748</td>\n",
       "    </tr>\n",
       "    <tr>\n",
       "      <th>3</th>\n",
       "      <td>a</td>\n",
       "      <td>51.763444</td>\n",
       "    </tr>\n",
       "    <tr>\n",
       "      <th>4</th>\n",
       "      <td>a</td>\n",
       "      <td>127.858730</td>\n",
       "    </tr>\n",
       "    <tr>\n",
       "      <th>...</th>\n",
       "      <td>...</td>\n",
       "      <td>...</td>\n",
       "    </tr>\n",
       "    <tr>\n",
       "      <th>185</th>\n",
       "      <td>b</td>\n",
       "      <td>100.192985</td>\n",
       "    </tr>\n",
       "    <tr>\n",
       "      <th>186</th>\n",
       "      <td>b</td>\n",
       "      <td>112.081790</td>\n",
       "    </tr>\n",
       "    <tr>\n",
       "      <th>187</th>\n",
       "      <td>b</td>\n",
       "      <td>83.148014</td>\n",
       "    </tr>\n",
       "    <tr>\n",
       "      <th>188</th>\n",
       "      <td>b</td>\n",
       "      <td>147.504761</td>\n",
       "    </tr>\n",
       "    <tr>\n",
       "      <th>189</th>\n",
       "      <td>b</td>\n",
       "      <td>117.412623</td>\n",
       "    </tr>\n",
       "  </tbody>\n",
       "</table>\n",
       "<p>190 rows × 2 columns</p>\n",
       "</div>"
      ],
      "text/plain": [
       "    group        data\n",
       "0       a  108.065847\n",
       "1       a   88.714106\n",
       "2       a   61.182748\n",
       "3       a   51.763444\n",
       "4       a  127.858730\n",
       "..    ...         ...\n",
       "185     b  100.192985\n",
       "186     b  112.081790\n",
       "187     b   83.148014\n",
       "188     b  147.504761\n",
       "189     b  117.412623\n",
       "\n",
       "[190 rows x 2 columns]"
      ]
     },
     "execution_count": 51,
     "metadata": {},
     "output_type": "execute_result"
    }
   ],
   "source": [
    "import pandas as pd\n",
    "import matplotlib.pyplot as plt\n",
    "df = pd.read_csv('https://raw.githubusercontent.com/Datamanim/datarepo/main/scipy/ind3.csv')\n",
    "\n",
    "df\n",
    "# df.info()"
   ]
  },
  {
   "cell_type": "code",
   "execution_count": null,
   "id": "ca497366-66a9-4b9c-87d2-c69c93dacb40",
   "metadata": {},
   "outputs": [],
   "source": []
  }
 ],
 "metadata": {
  "kernelspec": {
   "display_name": "Python 3 (ipykernel)",
   "language": "python",
   "name": "python3"
  },
  "language_info": {
   "codemirror_mode": {
    "name": "ipython",
    "version": 3
   },
   "file_extension": ".py",
   "mimetype": "text/x-python",
   "name": "python",
   "nbconvert_exporter": "python",
   "pygments_lexer": "ipython3",
   "version": "3.10.14"
  }
 },
 "nbformat": 4,
 "nbformat_minor": 5
}
