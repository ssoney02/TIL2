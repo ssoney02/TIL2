{
 "cells": [
  {
   "cell_type": "markdown",
   "id": "a6886f81",
   "metadata": {},
   "source": [
    "## 결측치 처리\n",
    "-  주어진 데이터에서 결측치가 80%이상 되는 컬럼은(변수는) 삭제하고, 80% 미만인 결측치가 있는 컬럼은 'city'별 중앙값으로 값을 대체하고 'f1'컬럼의 평균값을 출력하세요!\n",
    "- 데이터셋 : basic1.csv 오른쪽 상단 copy&edit 클릭 -> 예상문제 풀이 시작\n",
    "- 강의 영상 : https://youtu.be/WqlpqBRn7x4"
   ]
  },
  {
   "cell_type": "code",
   "execution_count": null,
   "id": "d3827584",
   "metadata": {},
   "outputs": [],
   "source": [
    "# 라이브러리 및 데이터 불러오기\n",
    "import pandas as pd\n",
    "import numpy as np\n",
    "\n",
    "df = pd.read_csv('../input/bigdatacertificationkr/basic1.csv')\n",
    "\n",
    "df.head()"
   ]
  },
  {
   "cell_type": "code",
   "execution_count": null,
   "id": "011f2206",
   "metadata": {},
   "outputs": [],
   "source": [
    "# EDA - 결측값 확인(비율 확인)\n",
    "df.isnull().sum()\n",
    "df.shape\n",
    "\n",
    "df.isnull().sum()/df.shape[0]  # f3 컬럼 삭제해야됨"
   ]
  },
  {
   "cell_type": "code",
   "execution_count": null,
   "id": "c8698ee3",
   "metadata": {},
   "outputs": [],
   "source": [
    "# 80%이상 결측치 컬럼, 삭제\n",
    "df = df.drop(columns=['f3'])\n",
    "df.head()"
   ]
  },
  {
   "cell_type": "code",
   "execution_count": null,
   "id": "ba47151a",
   "metadata": {},
   "outputs": [],
   "source": [
    "# city 종류 확인\n",
    "df['city'].unique()"
   ]
  },
  {
   "cell_type": "markdown",
   "id": "2b779960",
   "metadata": {},
   "source": [
    "### sol2 ??\n",
    "결측치의 city값들 먼저 체크하고 중앙값 계산하기..?"
   ]
  },
  {
   "cell_type": "code",
   "execution_count": null,
   "id": "613385b7",
   "metadata": {},
   "outputs": [],
   "source": [
    "missing_cities = df[df['f1'].isnull()]['city'].unique()"
   ]
  },
  {
   "cell_type": "code",
   "execution_count": null,
   "id": "2a2c0a4a",
   "metadata": {},
   "outputs": [],
   "source": [
    "# 80%미만 결측치 있는 컬럼, city별 중앙값으로 대체\n",
    "# f1 컬럼\n",
    "# city 별 중앙값 구하기\n",
    "s = df[df['city']=='서울']['f1'].median()\n",
    "b = df[df['city']=='부산']['f1'].median()\n",
    "d = df[df['city']=='대구']['f1'].median()\n",
    "g = df[df['city']=='경기']['f1'].median()\n",
    "\n",
    "s, b, d, g\n",
    "# sol2.\n",
    "# 결측치있는 행의 city값 들 확인 후 -> 해당 city에 대한 결측치 중앙값만 구하기?"
   ]
  },
  {
   "cell_type": "code",
   "execution_count": null,
   "id": "ba85024b",
   "metadata": {},
   "outputs": [],
   "source": [
    "# 대체 전 데이터 샘플 출력\n",
    "df[18:21]"
   ]
  },
  {
   "cell_type": "code",
   "execution_count": null,
   "id": "dcd995cd",
   "metadata": {},
   "outputs": [],
   "source": [
    "# f1 결측치 city 별 중앙값으로 대체\n",
    "df['f1'] = df['f1'].fillna(df['city'].map({'서울':s, '경기':g, '부산':b, '대구':d}))"
   ]
  },
  {
   "cell_type": "code",
   "execution_count": null,
   "id": "2ed3180d",
   "metadata": {},
   "outputs": [],
   "source": [
    "# 대체 후 데이터 샘플 출력\n",
    "df[18:21]"
   ]
  },
  {
   "cell_type": "code",
   "execution_count": null,
   "id": "2c9fbe9c",
   "metadata": {},
   "outputs": [],
   "source": [
    "# f1 평균값 결과 출력\n",
    "m = df['f1'].mean()\n",
    "print(m)\n"
   ]
  }
 ],
 "metadata": {
  "kernelspec": {
   "display_name": "Python 3",
   "language": "python",
   "name": "python3"
  },
  "language_info": {
   "name": "python",
   "version": "3.9.12"
  }
 },
 "nbformat": 4,
 "nbformat_minor": 5
}
